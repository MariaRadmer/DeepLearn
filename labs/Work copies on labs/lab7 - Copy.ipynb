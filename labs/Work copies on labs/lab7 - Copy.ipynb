{
 "cells": [
  {
   "cell_type": "markdown",
   "metadata": {
    "id": "0V9I6y4g9zrj",
    "pycharm": {
     "name": "#%% md\n"
    }
   },
   "source": [
    "# Genetic Algorithms with DEAP\n",
    "\n",
    "Source: [Kevin Sikorski](https://colab.research.google.com/github/jfogarty/machine-learning-intro-workshop/blob/master/notebooks/genetic-algorithms-with-deap.ipynb)\n",
    "\n",
    "In this lab, we will first learn how to use a simple and easy-to-use implementation of a Genetic Algorithm using DEAP library in Python.\n",
    "Then you'll write code that optimised position in artificial landscapes, use GA on a simple neuralnet to control a game, and use Hebbian Learning to implement simple logic gates."
   ]
  },
  {
   "cell_type": "markdown",
   "metadata": {
    "id": "BSZa4hf3qyRO",
    "pycharm": {
     "name": "#%% md\n"
    }
   },
   "source": [
    "# Terminology\n",
    "\n",
    "### Individual\n",
    "Genetic Algorithms make use of an analogy to genetics, where we use a population of randomly generated individuals, each with some genetic code.  This code represents a potential solution to the problem.  The representation of the solution depends on the particular problem we are addressing, but it generally consists of a data structure.  It could contain one or more strings like \"ACGTCACTCGGATGC\" if we are dealing with DNA, real-valued data if we are dealing with vectors, arbitrary and mutually-exclusive concepts like \"January\", \"February\", and \"December\", or anything else. \n",
    "\n",
    "### Fitness \n",
    "Since these solutions are chosen at random, some are better than others.  We need to be able to evaluate how good a particular solution is.  We do this by defining a fitness function (called an evaulation function in the example below).  This takes in an individual or its genetic code, and outputs a scalar number that allows us to compare fitness between individuals.\n",
    "\n",
    "### Mutation\n",
    "In the real world, genetic code mutates due to random events like cosmic rays and nuclear decay, or due to random transcription errors.  We simulate this in genetic algorithms with a mutation rate.  Here with a low probability, we randomly change one or more elements of the genetic code of an individual.  This might be changing a number encoded in it (either a little or a lot), flipping a bit in a string, or randomizing the month in a date-time field.\n",
    "\n",
    "### Crossover\n",
    "In the real world, mating between individuals produces offspring with genetic code that is a combination of the parents.  This is simulated with crossover.  In the first diagram below we show two parents at the top, each with different genetic material.  Two offspring are shown below, each the product of crossover.  The parent's genetic code is broken at a randomly selected point.  The right half of the red parent is attached to the left half of the blue parent to produce one offspring's genes; the remaining pieces are similarly concatenated to make the other offspring's genes.\n",
    "\n",
    "Geometrically, you can think of crossover as a projection of one parent's genetic code to a random plane in the search space that contains the other parent's genetic code.  (This plane will also be aligned with one of the basis vectors of the genetic code.)  The Crossover as projection diagram below shows an example involving two parents in magenta with genetic code (0,0) and (1,1).  When crossover occurs, we produce the cyan individuals with genetic code (0,1) and (1,0) by taking the first element from one parent and the second element from the second parent.  Or phrased geometrically, by projecting one parent's point to the Y-axis (the basis vector for the second element of the genetic code), and the the other parent's point to the X-axis."
   ]
  },
  {
   "cell_type": "code",
   "execution_count": 3,
   "metadata": {
    "colab": {
     "base_uri": "https://localhost:8080/",
     "height": 281
    },
    "id": "NCUOiAsN2uhD",
    "outputId": "ca3d51a9-0442-49a6-c1fb-dfbeda0cf49d",
    "pycharm": {
     "name": "#%%\n"
    }
   },
   "outputs": [
    {
     "data": {
      "image/png": "[encoded data removed]",
      "text/plain": [
       "<Figure size 640x480 with 2 Axes>"
      ]
     },
     "metadata": {},
     "output_type": "display_data"
    }
   ],
   "source": [
    "import matplotlib.pyplot as plt\n",
    "\n",
    "plt.subplot(1,2,1)\n",
    "plt.title(\"Crossover\")\n",
    "fig=plt.plot((0, 1), (5, 5), linewidth=5, color='b')\n",
    "fig=plt.plot((0, 1), (4, 4), linewidth=5, color='r')\n",
    "fig=plt.plot((0, 0.6), (2, 2), linewidth=5, color='b')\n",
    "fig=plt.plot((0, 0.6), (1, 1), linewidth=5, color='r')\n",
    "fig=plt.plot((0.6, 1), (1, 1), linewidth=5, color='b')\n",
    "fig=plt.plot((0.6, 1), (2, 2), linewidth=5, color='r')\n",
    "\n",
    "plt.subplot(1,2,2)\n",
    "plt.scatter([0, 1], [0,1], color='m', lw=3)\n",
    "plt.scatter([1, 0], [0,1], color='c', lw=3)\n",
    "plt.title(\"Crossover as projection\")\n",
    "\n",
    "plt.show()"
   ]
  },
  {
   "cell_type": "markdown",
   "metadata": {
    "id": "MQo4tsn4-PoP",
    "pycharm": {
     "name": "#%% md\n"
    }
   },
   "source": [
    "# One Max Problem\n",
    "This example will help new users to overview some of the DEAP framework’s possibilities and illustrate the potential of evolutionary algorithms in general. The problem itself is both very simple and widely used in the evolutionary computational community. We will create a population of individuals consisting of integer vectors randomly filled with 0 and 1. Then we let our population evolve until one of its members contains only 1 and no 0 anymore.\n"
   ]
  },
  {
   "cell_type": "code",
   "execution_count": 4,
   "metadata": {
    "colab": {
     "base_uri": "https://localhost:8080/"
    },
    "id": "n1TlDbXM9YBy",
    "outputId": "2bf3c5c0-5303-4c04-ed50-dca816eb88b4",
    "pycharm": {
     "name": "#%%\n"
    }
   },
   "outputs": [
    {
     "name": "stdout",
     "output_type": "stream",
     "text": [
      "Requirement already satisfied: deap in c:\\users\\mari9\\appdata\\local\\programs\\python\\python310\\lib\\site-packages (1.3.3)\n",
      "Requirement already satisfied: numpy in c:\\users\\mari9\\appdata\\local\\programs\\python\\python310\\lib\\site-packages (from deap) (1.23.3)\n"
     ]
    }
   ],
   "source": [
    "import random\n",
    "\n",
    "!pip install deap\n",
    "from deap import base\n",
    "from deap import creator\n",
    "from deap import tools\n",
    "  "
   ]
  },
  {
   "cell_type": "markdown",
   "metadata": {
    "id": "5j5Cu17P-Wf9",
    "pycharm": {
     "name": "#%% md\n"
    }
   },
   "source": [
    "## Creator\n",
    "Since the actual structure of the required individuals in genetic algorithms does strongly depend on the task at hand, DEAP does not contain any explicit structure. It will rather provide a convenient method for creating containers of attributes, associated with fitnesses, called the deap.creator. Using this method we can create custom individuals in a very simple way.\n",
    "\n",
    "The creator is a class factory that can build new classes at run-time. It will be called with first the desired name of the new class, second the base class it will inherit, and in addition any subsequent arguments you want to become attributes of your class. This allows us to build new and complex structures of any type of container from lists to n-ary trees."
   ]
  },
  {
   "cell_type": "code",
   "execution_count": 6,
   "metadata": {
    "id": "ZFeTYVBn-XCY",
    "pycharm": {
     "name": "#%%\n"
    }
   },
   "outputs": [],
   "source": [
    "creator.create(\"FitnessMax\", base.Fitness, weights=(1.0,))\n",
    "creator.create(\"Individual\", list, fitness=creator.FitnessMax)"
   ]
  },
  {
   "cell_type": "markdown",
   "metadata": {
    "id": "vi1UTZS1-cdv",
    "pycharm": {
     "name": "#%% md\n"
    }
   },
   "source": [
    "First we will define the class FitnessMax. It will inherit the Fitness class of the deap.base module and contain an additional attribute called weights. Please mind the value of weights to be the tuple (1.0,). This way we will be maximizing a single objective fitness. We can’t repeat it enough, in DEAP single objectives is a special case of multi objectives.\n",
    "\n",
    "Next we will create the class Individual, which will inherit the class list and contain our previously defined FitnessMax class in its fitness attribute. Note that upon creation all our defined classes will be part of the creator container and can be called directly.\n",
    "\n",
    "## Toolbox\n",
    "Now we will use our custom classes to create types representing our individuals as well as our whole population.\n",
    "\n",
    "All the objects we will use on our way, an individual, the population, as well as all functions, operators, and arguments will be stored in a DEAP container called Toolbox. It contains two methods for adding and removing content, register() and unregister()."
   ]
  },
  {
   "cell_type": "code",
   "execution_count": 7,
   "metadata": {
    "id": "HS3iXNSW-gS8",
    "pycharm": {
     "name": "#%%\n"
    }
   },
   "outputs": [],
   "source": [
    "toolbox = base.Toolbox()\n",
    "# Attribute generator \n",
    "toolbox.register(\"attr_bool\", random.randint, 0, 1)\n",
    "# Structure initializers\n",
    "toolbox.register(\"individual\", tools.initRepeat, creator.Individual, \n",
    "    toolbox.attr_bool, 100)\n",
    "toolbox.register(\"population\", tools.initRepeat, list, toolbox.individual)"
   ]
  },
  {
   "cell_type": "markdown",
   "metadata": {
    "id": "JO9v6Wx_-jam",
    "pycharm": {
     "name": "#%% md\n"
    }
   },
   "source": [
    "In this code block we register a generation function toolbox.attr_bool() and two initialization ones individual() and population(). toolbox.attr_bool(), when called, will draw a random integer between 0 and 1. The two initializers, on the other hand, will instantiate an individual or population.\n",
    "\n",
    "The registration of the tools to the toolbox only associates aliases to the already existing functions and freezes part of their arguments. This allows us to fix an arbitrary amount of argument at certain values so we only have to specify the remaining ones when calling the method. For example, the attr_bool() generator is made from the randint() function that takes two arguments a and b, with a <= n <= b, where n is the returned integer. Here, we fix a = 0 and b = 1.\n",
    "\n",
    "Our individuals will be generated using the function initRepeat(). Its first argument is a container class, in our example the Individual one we defined in the previous section. This container will be filled using the method attr_bool(), provided as second argument, and will contain 100 integers, as specified using the third argument. When called, the individual() method will thus return an individual initialized with what would be returned by calling the attr_bool() method 100 times. Finally, the population() method uses the same paradigm, but we don’t fix the number of individuals that it should contain.\n",
    "\n",
    "## The Evaluation Function\n",
    "The evaluation function is pretty simple in our example. We just need to count the number of ones in an individual."
   ]
  },
  {
   "cell_type": "code",
   "execution_count": 8,
   "metadata": {
    "colab": {
     "base_uri": "https://localhost:8080/"
    },
    "id": "s9XjIzai-lvs",
    "outputId": "83d25dd8-66a7-457c-c3c6-4e0121940702",
    "pycharm": {
     "name": "#%%\n"
    }
   },
   "outputs": [
    {
     "name": "stdout",
     "output_type": "stream",
     "text": [
      "(0,)\n",
      "(2,)\n",
      "(4,)\n"
     ]
    }
   ],
   "source": [
    "def evalOneMax(individual):\n",
    "    return sum(individual),\n",
    "  \n",
    "print(evalOneMax([0,0,0,0]))\n",
    "print(evalOneMax([0,1,0,1]))\n",
    "print(evalOneMax([1,1,1,1]))\n"
   ]
  },
  {
   "cell_type": "markdown",
   "metadata": {
    "id": "vhwe8gl3-nVT",
    "pycharm": {
     "name": "#%% md\n"
    }
   },
   "source": [
    "## The Genetic Operators\n",
    "Within DEAP there are two ways of using operators. We can either simply call a function from the tools module or register it with its arguments in a toolbox, as we have already seen for our initialization methods. The most convenient way, however, is to register them in the toolbox, because this allows us to easily switch between the operators if desired. The toolbox method is also used when working with the algorithms module. See the [One Max Problem: Short Version](https://deap.readthedocs.io/en/master/examples/ga_onemax_short.html#short-ga-onemax) for an example.\n",
    "\n",
    "Registering the genetic operators required for the evolution in our One Max problem and their default arguments in the toolbox is done as follows."
   ]
  },
  {
   "cell_type": "code",
   "execution_count": 9,
   "metadata": {
    "id": "AoLoTIuj-ppU",
    "pycharm": {
     "name": "#%%\n"
    }
   },
   "outputs": [],
   "source": [
    "toolbox.register(\"evaluate\", evalOneMax)\n",
    "toolbox.register(\"mate\", tools.cxTwoPoint)\n",
    "toolbox.register(\"mutate\", tools.mutFlipBit, indpb=0.05)\n",
    "toolbox.register(\"select\", tools.selTournament, tournsize=3)"
   ]
  },
  {
   "cell_type": "markdown",
   "metadata": {
    "id": "pzSud0CF-q_y",
    "pycharm": {
     "name": "#%% md\n"
    }
   },
   "source": [
    "The evaluation will be performed by calling the alias evaluate. It is important to not fix its argument in here. We will need it later on to apply the function to each separate individual in our population. The mutation, on the other hand, needs an argument to be fixed (the independent probability of each attribute to be mutated indpb).\n",
    "\n",
    "## Evolving the Population\n",
    "Once the representation and the genetic operators are chosen, we will define an algorithm combining all the individual parts and performing the evolution of our population until the One Max problem is solved.\n",
    "\n",
    "## Creating the Population\n",
    "First of all, we need to actually instantiate our population. But this step is effortlessly done using the population() method we registered in our toolbox earlier on."
   ]
  },
  {
   "cell_type": "code",
   "execution_count": 10,
   "metadata": {
    "id": "F30uZtcp-u79",
    "pycharm": {
     "name": "#%%\n"
    }
   },
   "outputs": [],
   "source": [
    "pop = toolbox.population(n=300)\n",
    "\n",
    "# Evaluate the entire population\n",
    "fitnesses = list(map(toolbox.evaluate, pop))\n",
    "for ind, fit in zip(pop, fitnesses):\n",
    "    ind.fitness.values = fit\n"
   ]
  },
  {
   "cell_type": "markdown",
   "metadata": {
    "id": "bUw_9gTr-wjK",
    "pycharm": {
     "name": "#%% md\n"
    }
   },
   "source": [
    "**pop** will be a list composed of 300 individuals. Since we left the parameter **n** open during the registration of the population() method in our toolbox, we are free to create populations of arbitrary size.\n",
    "\n",
    "Before we go on, this is the time to define some constants we will use later on."
   ]
  },
  {
   "cell_type": "code",
   "execution_count": 11,
   "metadata": {
    "id": "Dx5L38zU-x1H",
    "pycharm": {
     "name": "#%%\n"
    }
   },
   "outputs": [],
   "source": [
    "# CXPB  is the probability with which two individuals\n",
    "#       are crossed\n",
    "#\n",
    "# MUTPB is the probability for mutating an individual\n",
    "CXPB, MUTPB = 0.5, 0.2"
   ]
  },
  {
   "cell_type": "markdown",
   "metadata": {
    "id": "V1QT9wKN-2E8",
    "pycharm": {
     "name": "#%% md\n"
    }
   },
   "source": [
    "## Evaluating the Population\n",
    "The next thing to do is to evaluate our brand new population.  We map() the evaluation function to every individual and then assign their respective fitness. Note that the order in fitnesses and population is the same.\n",
    "\n",
    "The evolution of the population is the final step we have to accomplish. Recall, our individuals consist of 100 integer numbers and we want to evolve our population until we got at least one individual consisting of only 1s and no 0s. So all we have to do is to obtain the fitness values of the individuals!\n",
    "\n",
    "To check the performance of the evolution, we will calculate and print the minimal, maximal, and mean values of the fitnesses of all individuals in our population as well as their standard deviations."
   ]
  },
  {
   "cell_type": "code",
   "execution_count": 16,
   "metadata": {
    "colab": {
     "base_uri": "https://localhost:8080/"
    },
    "id": "PtryFa_TJxWa",
    "outputId": "24d864d4-9ee9-4d7a-95df-a67978dd3024",
    "pycharm": {
     "name": "#%%\n"
    }
   },
   "outputs": [
    {
     "name": "stdout",
     "output_type": "stream",
     "text": [
      "  Min 35.0\n",
      "  Max 64.0\n",
      "  Avg 50.07333333333333\n",
      "  Std 4.936390944359599\n"
     ]
    }
   ],
   "source": [
    "def findFitness():\n",
    "    fits = [ind.fitness.values[0] for ind in pop]\n",
    "        \n",
    "    length = len(pop)\n",
    "    mean = sum(fits) / length\n",
    "    sum2 = sum(x*x for x in fits)\n",
    "    std = abs(sum2 / length - mean**2)**0.5\n",
    "\n",
    "    print(\"  Min %s\" % min(fits))\n",
    "    print(\"  Max %s\" % max(fits))\n",
    "    print(\"  Avg %s\" % mean)\n",
    "    print(\"  Std %s\" % std)\n",
    "    return fits\n",
    "    \n",
    "fits=findFitness()"
   ]
  },
  {
   "cell_type": "markdown",
   "metadata": {
    "id": "Dfh6gnNQ-5Wy",
    "pycharm": {
     "name": "#%% md\n"
    }
   },
   "source": [
    "## Mating and Mutation\n",
    "\n",
    "In genetic algorithms, evolution occurs via either mutation or crossover, both of which happen (or don't happen) randomly.  In mutation, we change one or more of the genes of one of our individuals.  In cross-over, two individuals are mated to mix their genes.\n",
    "\n",
    "The crossover (or mating) and mutation operators, provided within DEAP, usually take respectively 2 or 1 individual(s) as input and return 2 or 1 modified individual(s). In addition they modify those individuals within the toolbox container and we do not need to reassign their results.\n",
    "\n",
    "We will perform both the crossover (mating) and the mutation of the produced children with a certain probability of CXPB and MUTPB. The del statement will invalidate the fitness of the modified offspring."
   ]
  },
  {
   "cell_type": "code",
   "execution_count": 17,
   "metadata": {
    "id": "M6ssqRncEIDN",
    "pycharm": {
     "name": "#%%\n"
    }
   },
   "outputs": [],
   "source": [
    "def mateAndMutate(offspring):\n",
    "    for child1, child2 in zip(offspring[::2], offspring[1::2]):\n",
    "        if random.random() < CXPB:\n",
    "            toolbox.mate(child1, child2)\n",
    "            del child1.fitness.values\n",
    "            del child2.fitness.values\n",
    "\n",
    "    for mutant in offspring:\n",
    "        if random.random() < MUTPB:\n",
    "            toolbox.mutate(mutant)\n",
    "            del mutant.fitness.values\n",
    "            \n"
   ]
  },
  {
   "cell_type": "markdown",
   "metadata": {
    "id": "mEOPfK92--q-",
    "pycharm": {
     "name": "#%% md\n"
    }
   },
   "source": [
    "## The Main Loop\n",
    "\n",
    "This will creates an offspring list, which is an exact copy of the selected individuals. The toolbox.clone() method ensure that we don’t use a reference to the individuals but an completely independent instance. This is of utter importance since the genetic operators in toolbox will modify the provided objects in-place.\n",
    "\n",
    "We then mutate and mate the individuals to find the next generation of individuals.  We evaluate them, and continue until one of our individuals evolves to be the perfect organism (fitness of 100 or more), or until the number of generations reaches 1000.\n",
    "\n",
    "At each generation, we output some statistics about that generation's population, as well as a graph of the genetic material for an arbitrary individual.  A 0 in the genetic material is drawn in red, and a 1 is drawn in blue."
   ]
  },
  {
   "cell_type": "code",
   "execution_count": 11,
   "metadata": {
    "colab": {
     "base_uri": "https://localhost:8080/",
     "height": 1000
    },
    "id": "Df-rsxoX-6vj",
    "outputId": "36264f12-cbce-41a3-f8fe-9ce3018a17a6",
    "pycharm": {
     "name": "#%%\n"
    }
   },
   "outputs": [
    {
     "name": "stdout",
     "output_type": "stream",
     "text": [
      "  Min 42.0\n",
      "  Max 64.0\n",
      "  Avg 53.766666666666666\n",
      "  Std 4.052845365364438\n",
      "  Min 49.0\n",
      "  Max 66.0\n",
      "  Avg 57.096666666666664\n",
      "  Std 3.3317646308759463\n",
      "  Min 51.0\n",
      "  Max 68.0\n",
      "  Avg 59.873333333333335\n",
      "  Std 3.200617995880671\n",
      "  Min 55.0\n",
      "  Max 72.0\n",
      "  Avg 62.4\n",
      "  Std 2.8448784391136477\n",
      "  Min 56.0\n",
      "  Max 73.0\n",
      "  Avg 64.49333333333334\n",
      "  Std 2.8089064697056894\n",
      "  Min 57.0\n",
      "  Max 75.0\n",
      "  Avg 66.23\n",
      "  Std 2.887403678047068\n",
      "  Min 60.0\n",
      "  Max 76.0\n",
      "  Avg 68.36666666666666\n",
      "  Std 3.117513254003972\n",
      "  Min 57.0\n",
      "  Max 78.0\n",
      "  Avg 70.48\n",
      "  Std 2.983778365316841\n",
      "  Min 62.0\n",
      "  Max 82.0\n",
      "  Avg 72.36333333333333\n",
      "  Std 2.870189695627982\n",
      "  Min 66.0\n",
      "  Max 80.0\n",
      "  Avg 74.20666666666666\n",
      "  Std 2.6058822349106143\n",
      "  Min 66.0\n",
      "  Max 83.0\n",
      "  Avg 75.79666666666667\n",
      "  Std 2.5130304857326675\n",
      "  Min 67.0\n",
      "  Max 85.0\n",
      "  Avg 77.33666666666667\n",
      "  Std 2.795828241425868\n",
      "  Min 70.0\n",
      "  Max 85.0\n",
      "  Avg 78.96\n",
      "  Std 2.602255431992398\n",
      "  Min 67.0\n",
      "  Max 86.0\n",
      "  Avg 80.35666666666667\n",
      "  Std 2.5979714308582897\n",
      "  Min 72.0\n",
      "  Max 88.0\n",
      "  Avg 81.68333333333334\n",
      "  Std 2.5670454265988374\n",
      "  Min 74.0\n",
      "  Max 89.0\n",
      "  Avg 83.24666666666667\n",
      "  Std 2.50715420790609\n",
      "  Min 75.0\n",
      "  Max 91.0\n",
      "  Avg 84.68333333333334\n",
      "  Std 2.4282481110643297\n",
      "  Min 75.0\n",
      "  Max 92.0\n",
      "  Avg 85.61333333333333\n",
      "  Std 2.567194750869112\n",
      "  Min 76.0\n",
      "  Max 92.0\n",
      "  Avg 87.02333333333333\n",
      "  Std 2.4595640986882312\n",
      "  Min 79.0\n",
      "  Max 93.0\n",
      "  Avg 88.21666666666667\n",
      "  Std 2.368485216804516\n",
      "  Min 81.0\n",
      "  Max 95.0\n",
      "  Avg 89.33333333333333\n",
      "  Std 2.11555088701658\n",
      "  Min 81.0\n",
      "  Max 95.0\n",
      "  Avg 90.15333333333334\n",
      "  Std 2.188566248076836\n",
      "  Min 80.0\n",
      "  Max 95.0\n",
      "  Avg 90.86333333333333\n",
      "  Std 2.1797527892456494\n",
      "  Min 83.0\n",
      "  Max 96.0\n",
      "  Avg 91.62\n",
      "  Std 2.0188115315695776\n",
      "  Min 81.0\n",
      "  Max 96.0\n",
      "  Avg 91.98666666666666\n",
      "  Std 2.40135147133657\n",
      "  Min 80.0\n",
      "  Max 97.0\n",
      "  Avg 92.88666666666667\n",
      "  Std 2.024966392038992\n",
      "  Min 84.0\n",
      "  Max 97.0\n",
      "  Avg 93.27666666666667\n",
      "  Std 2.239074709685716\n",
      "  Min 86.0\n",
      "  Max 97.0\n",
      "  Avg 93.75666666666666\n",
      "  Std 2.2024506552680694\n",
      "  Min 86.0\n",
      "  Max 97.0\n",
      "  Avg 94.14\n",
      "  Std 2.192502375521656\n",
      "  Min 84.0\n",
      "  Max 98.0\n",
      "  Avg 94.48333333333333\n",
      "  Std 2.3853138624137666\n",
      "  Min 86.0\n",
      "  Max 98.0\n",
      "  Avg 94.90666666666667\n",
      "  Std 2.3659999060767136\n",
      "  Min 88.0\n",
      "  Max 98.0\n",
      "  Avg 95.52\n",
      "  Std 2.004062540607811\n",
      "  Min 87.0\n",
      "  Max 99.0\n",
      "  Avg 95.92\n",
      "  Std 2.270154179785955\n",
      "  Min 85.0\n",
      "  Max 100.0\n",
      "  Avg 96.11666666666666\n",
      "  Std 2.519865516694285\n"
     ]
    },
    {
     "data": {
      "image/png": "[encoded data removed]",
      "text/plain": [
       "<Figure size 640x480 with 1 Axes>"
      ]
     },
     "metadata": {},
     "output_type": "display_data"
    }
   ],
   "source": [
    "import numpy as np\n",
    "# Variable keeping track of the number of generations\n",
    "g = 0\n",
    "\n",
    "# Begin the evolution\n",
    "while max(fits) < 100 and g < 1000:\n",
    "    # A new generation\n",
    "    g = g + 1\n",
    "    #print(\"-- Generation %i --\" % g)\n",
    "    # Select the next generation individuals\n",
    "    offspring = toolbox.select(pop, len(pop))\n",
    "    # Clone the selected individuals\n",
    "    offspring = list(map(toolbox.clone, offspring))\n",
    "    \n",
    "    # Apply crossover and mutation on the offspring\n",
    "    mateAndMutate(offspring)\n",
    "    \n",
    "    # Evaluate the individuals with an invalid fitness\n",
    "    invalid_ind = [ind for ind in offspring if not ind.fitness.valid]\n",
    "    fitnesses = map(toolbox.evaluate, invalid_ind)\n",
    "    for ind, fit in zip(invalid_ind, fitnesses):\n",
    "        ind.fitness.values = fit\n",
    "    pop[:] = offspring\n",
    "    \n",
    "    # print statistics on our updated population\n",
    "    fits=findFitness()\n",
    "\n",
    "    # plot an arbitrary organism\n",
    "    x = [i/100 for i in range(len(pop[0]))]\n",
    "    y = [1 for i in x]\n",
    "    colors = ['r' if pop[0][i]==0 else 'b' for i in range(len(pop[0]))]\n",
    "    plt.scatter(x, y, c=colors, alpha=0.5)\n",
    "    #plt.show()\n",
    "#plt.scatter(x,y, c=colors, alpha=.5)\n",
    "#plt.show()"
   ]
  },
  {
   "cell_type": "markdown",
   "metadata": {
    "id": "Cot8XdQGq5Fq",
    "pycharm": {
     "name": "#%% md\n"
    }
   },
   "source": [
    "# Your tasks:\n",
    "This lab *is* fairly open-ended. I look forward to seeing what you come up with:\n",
    "\n",
    "## 1. Find optimum with ES.\n",
    "Chose an [artificial landscape](https://en.wikipedia.org/wiki/Test_functions_for_optimization). Find optimum using an evolutionary strategy we talked about in class."
   ]
  },
  {
   "cell_type": "code",
   "execution_count": 18,
   "metadata": {
    "collapsed": false,
    "pycharm": {
     "name": "#%%\n"
    }
   },
   "outputs": [
    {
     "name": "stdout",
     "output_type": "stream",
     "text": [
      "best eval value  0.0007914047049928679\n",
      "point  (0.9880030718712955, 2.9992792345714534)\n"
     ]
    },
    {
     "data": {
      "image/png": "[encoded data removed]",
      "text/plain": [
       "<Figure size 640x480 with 1 Axes>"
      ]
     },
     "metadata": {},
     "output_type": "display_data"
    }
   ],
   "source": [
    "import numpy as np\n",
    "import random\n",
    "from copy import deepcopy\n",
    "import gym\n",
    "import matplotlib.pyplot as plt\n",
    "\n",
    "\n",
    "# Your code here\n",
    "def booth(x,y):\n",
    "    return (x+2*y-7)**2 + (2*x+y-5)**2\n",
    "\n",
    "def evaluation(x,y):\n",
    "    return booth(x,y)\n",
    "\n",
    "\n",
    "spred = 0.5\n",
    "\n",
    "def mutatate(x,y):\n",
    "    x = x+(random.randint(-5, 5)/10)\n",
    "    y = y+(random.randint(-5, 5)/10)\n",
    "    return (x,y )\n",
    "\n",
    "\n",
    "population_size = 20\n",
    "\n",
    "best = (random.randint(-10, 10), random.randint(-10, 10))\n",
    "\n",
    "\n",
    "def generate_population():\n",
    "    population = []\n",
    "    for i in range(population_size):\n",
    "        new_point = (best[0] + (random.uniform(-spred,spred)),\n",
    "                     best[1] + (random.uniform(-spred, spred)))\n",
    "        #new_x, new_y = mutatate(new_point[0], new_point[1])\n",
    "        population.append((new_point[0], new_point[1]))\n",
    "    return population\n",
    "\n",
    "pop = generate_population()\n",
    "\n",
    "eval_best = evaluation(best[0], best[1])\n",
    "ys = []\n",
    "\n",
    "for i in range(100):\n",
    "    for inv in pop:\n",
    "        new_eval = evaluation(inv[0], inv[1])\n",
    "    \n",
    "        if new_eval < eval_best:\n",
    "            best = (inv[0], inv[1])\n",
    "            eval_best = new_eval\n",
    "    pop = generate_population()\n",
    "    ys.append(eval_best)\n",
    "\n",
    "plt.plot(ys)\n",
    "print(\"best eval value \",eval_best)\n",
    "print(\"point \", best)"
   ]
  },
  {
   "cell_type": "markdown",
   "metadata": {
    "collapsed": false,
    "pycharm": {
     "name": "#%% md\n"
    }
   },
   "source": [
    "## 2. Evolve a simple gaming neural net with GA.\n",
    "Evolve a neural network that plays a game of your choice from `gym` (LunarLander-v2 is cool).\n",
    "We don't need `torch` since we don't care about gradients. We can use numpy—numpy matrices can easily be multiplied.\n",
    "`deap` *can* deal with numpy arrays, though I recommend making functions that map weights to lists and vice versa."
   ]
  },
  {
   "cell_type": "code",
   "execution_count": null,
   "metadata": {},
   "outputs": [],
   "source": [
    "# Old\n",
    "\"\"\"\n",
    "make list \n",
    "    layers\n",
    "fylde 3 matrixer (hvor mange tal i alt ?)\n",
    "\n",
    "eval fitness \n",
    "    tager lang liste -> matrix\n",
    "\n",
    "\"\"\"\n",
    "\n",
    "\n",
    "\n",
    "\"\"\"def network():\n",
    "    lst = []\n",
    "    layer_1 = np.random.rand(observationspace, 16)\n",
    "    layer_2 = np.random.rand(layer_1, actionspace)\n",
    "    lst.append(layer_1)\n",
    "    lst.append(layer_2)\n",
    "    return lst\n",
    "\"\"\"\n",
    "\n",
    "\n"
   ]
  },
  {
   "cell_type": "code",
   "execution_count": 44,
   "metadata": {},
   "outputs": [
    {
     "ename": "AssertionError",
     "evalue": "17 (<class 'numpy.int64'>) invalid ",
     "output_type": "error",
     "traceback": [
      "\u001b[1;31m---------------------------------------------------------------------------\u001b[0m",
      "\u001b[1;31mAssertionError\u001b[0m                            Traceback (most recent call last)",
      "\u001b[1;32mc:\\Users\\mari9\\Desktop\\DeepLearn\\labs\\lab7.ipynb Cell 28\u001b[0m in \u001b[0;36m<cell line: 89>\u001b[1;34m()\u001b[0m\n\u001b[0;32m     <a href='vscode-notebook-cell:/c%3A/Users/mari9/Desktop/DeepLearn/labs/lab7.ipynb#X35sZmlsZQ%3D%3D?line=92'>93</a>\u001b[0m offspring \u001b[39m=\u001b[39m \u001b[39mlist\u001b[39m(\u001b[39mmap\u001b[39m(toolbox\u001b[39m.\u001b[39mclone, offspring))\n\u001b[0;32m     <a href='vscode-notebook-cell:/c%3A/Users/mari9/Desktop/DeepLearn/labs/lab7.ipynb#X35sZmlsZQ%3D%3D?line=93'>94</a>\u001b[0m mutate_network(offspring)\n\u001b[1;32m---> <a href='vscode-notebook-cell:/c%3A/Users/mari9/Desktop/DeepLearn/labs/lab7.ipynb#X35sZmlsZQ%3D%3D?line=95'>96</a>\u001b[0m fitnesses \u001b[39m=\u001b[39m \u001b[39mlist\u001b[39;49m(\u001b[39mmap\u001b[39;49m(toolbox\u001b[39m.\u001b[39;49mevaluate, pop))\n\u001b[0;32m     <a href='vscode-notebook-cell:/c%3A/Users/mari9/Desktop/DeepLearn/labs/lab7.ipynb#X35sZmlsZQ%3D%3D?line=96'>97</a>\u001b[0m \u001b[39mfor\u001b[39;00m ind, fit \u001b[39min\u001b[39;00m \u001b[39mzip\u001b[39m(pop, fitnesses):\n\u001b[0;32m     <a href='vscode-notebook-cell:/c%3A/Users/mari9/Desktop/DeepLearn/labs/lab7.ipynb#X35sZmlsZQ%3D%3D?line=97'>98</a>\u001b[0m     ind\u001b[39m.\u001b[39mfitness\u001b[39m.\u001b[39mvalues \u001b[39m=\u001b[39m fit\n",
      "\u001b[1;32mc:\\Users\\mari9\\Desktop\\DeepLearn\\labs\\lab7.ipynb Cell 28\u001b[0m in \u001b[0;36meval_network\u001b[1;34m(individual)\u001b[0m\n\u001b[0;32m     <a href='vscode-notebook-cell:/c%3A/Users/mari9/Desktop/DeepLearn/labs/lab7.ipynb#X35sZmlsZQ%3D%3D?line=59'>60</a>\u001b[0m \u001b[39mwhile\u001b[39;00m \u001b[39mnot\u001b[39;00m done:\n\u001b[0;32m     <a href='vscode-notebook-cell:/c%3A/Users/mari9/Desktop/DeepLearn/labs/lab7.ipynb#X35sZmlsZQ%3D%3D?line=60'>61</a>\u001b[0m     action \u001b[39m=\u001b[39m get_action(individual, state)\n\u001b[1;32m---> <a href='vscode-notebook-cell:/c%3A/Users/mari9/Desktop/DeepLearn/labs/lab7.ipynb#X35sZmlsZQ%3D%3D?line=61'>62</a>\u001b[0m     next_state, reward, done, _, _ \u001b[39m=\u001b[39m env\u001b[39m.\u001b[39;49mstep(action)\n\u001b[0;32m     <a href='vscode-notebook-cell:/c%3A/Users/mari9/Desktop/DeepLearn/labs/lab7.ipynb#X35sZmlsZQ%3D%3D?line=62'>63</a>\u001b[0m     total_r \u001b[39m+\u001b[39m\u001b[39m=\u001b[39m reward\n\u001b[0;32m     <a href='vscode-notebook-cell:/c%3A/Users/mari9/Desktop/DeepLearn/labs/lab7.ipynb#X35sZmlsZQ%3D%3D?line=63'>64</a>\u001b[0m     state \u001b[39m=\u001b[39m next_state    \n",
      "File \u001b[1;32mc:\\Users\\mari9\\AppData\\Local\\Programs\\Python\\Python310\\lib\\site-packages\\gym\\wrappers\\time_limit.py:50\u001b[0m, in \u001b[0;36mTimeLimit.step\u001b[1;34m(self, action)\u001b[0m\n\u001b[0;32m     39\u001b[0m \u001b[39mdef\u001b[39;00m \u001b[39mstep\u001b[39m(\u001b[39mself\u001b[39m, action):\n\u001b[0;32m     40\u001b[0m     \u001b[39m\"\"\"Steps through the environment and if the number of steps elapsed exceeds ``max_episode_steps`` then truncate.\u001b[39;00m\n\u001b[0;32m     41\u001b[0m \n\u001b[0;32m     42\u001b[0m \u001b[39m    Args:\u001b[39;00m\n\u001b[1;32m   (...)\u001b[0m\n\u001b[0;32m     48\u001b[0m \n\u001b[0;32m     49\u001b[0m \u001b[39m    \"\"\"\u001b[39;00m\n\u001b[1;32m---> 50\u001b[0m     observation, reward, terminated, truncated, info \u001b[39m=\u001b[39m \u001b[39mself\u001b[39;49m\u001b[39m.\u001b[39;49menv\u001b[39m.\u001b[39;49mstep(action)\n\u001b[0;32m     51\u001b[0m     \u001b[39mself\u001b[39m\u001b[39m.\u001b[39m_elapsed_steps \u001b[39m+\u001b[39m\u001b[39m=\u001b[39m \u001b[39m1\u001b[39m\n\u001b[0;32m     53\u001b[0m     \u001b[39mif\u001b[39;00m \u001b[39mself\u001b[39m\u001b[39m.\u001b[39m_elapsed_steps \u001b[39m>\u001b[39m\u001b[39m=\u001b[39m \u001b[39mself\u001b[39m\u001b[39m.\u001b[39m_max_episode_steps:\n",
      "File \u001b[1;32mc:\\Users\\mari9\\AppData\\Local\\Programs\\Python\\Python310\\lib\\site-packages\\gym\\wrappers\\order_enforcing.py:37\u001b[0m, in \u001b[0;36mOrderEnforcing.step\u001b[1;34m(self, action)\u001b[0m\n\u001b[0;32m     35\u001b[0m \u001b[39mif\u001b[39;00m \u001b[39mnot\u001b[39;00m \u001b[39mself\u001b[39m\u001b[39m.\u001b[39m_has_reset:\n\u001b[0;32m     36\u001b[0m     \u001b[39mraise\u001b[39;00m ResetNeeded(\u001b[39m\"\u001b[39m\u001b[39mCannot call env.step() before calling env.reset()\u001b[39m\u001b[39m\"\u001b[39m)\n\u001b[1;32m---> 37\u001b[0m \u001b[39mreturn\u001b[39;00m \u001b[39mself\u001b[39;49m\u001b[39m.\u001b[39;49menv\u001b[39m.\u001b[39;49mstep(action)\n",
      "File \u001b[1;32mc:\\Users\\mari9\\AppData\\Local\\Programs\\Python\\Python310\\lib\\site-packages\\gym\\wrappers\\env_checker.py:37\u001b[0m, in \u001b[0;36mPassiveEnvChecker.step\u001b[1;34m(self, action)\u001b[0m\n\u001b[0;32m     35\u001b[0m \u001b[39mif\u001b[39;00m \u001b[39mself\u001b[39m\u001b[39m.\u001b[39mchecked_step \u001b[39mis\u001b[39;00m \u001b[39mFalse\u001b[39;00m:\n\u001b[0;32m     36\u001b[0m     \u001b[39mself\u001b[39m\u001b[39m.\u001b[39mchecked_step \u001b[39m=\u001b[39m \u001b[39mTrue\u001b[39;00m\n\u001b[1;32m---> 37\u001b[0m     \u001b[39mreturn\u001b[39;00m env_step_passive_checker(\u001b[39mself\u001b[39;49m\u001b[39m.\u001b[39;49menv, action)\n\u001b[0;32m     38\u001b[0m \u001b[39melse\u001b[39;00m:\n\u001b[0;32m     39\u001b[0m     \u001b[39mreturn\u001b[39;00m \u001b[39mself\u001b[39m\u001b[39m.\u001b[39menv\u001b[39m.\u001b[39mstep(action)\n",
      "File \u001b[1;32mc:\\Users\\mari9\\AppData\\Local\\Programs\\Python\\Python310\\lib\\site-packages\\gym\\utils\\passive_env_checker.py:214\u001b[0m, in \u001b[0;36menv_step_passive_checker\u001b[1;34m(env, action)\u001b[0m\n\u001b[0;32m    212\u001b[0m \u001b[39m\"\"\"A passive check for the environment step, investigating the returning data then returning the data unchanged.\"\"\"\u001b[39;00m\n\u001b[0;32m    213\u001b[0m \u001b[39m# We don't check the action as for some environments then out-of-bounds values can be given\u001b[39;00m\n\u001b[1;32m--> 214\u001b[0m result \u001b[39m=\u001b[39m env\u001b[39m.\u001b[39;49mstep(action)\n\u001b[0;32m    215\u001b[0m \u001b[39massert\u001b[39;00m \u001b[39misinstance\u001b[39m(\n\u001b[0;32m    216\u001b[0m     result, \u001b[39mtuple\u001b[39m\n\u001b[0;32m    217\u001b[0m ), \u001b[39mf\u001b[39m\u001b[39m\"\u001b[39m\u001b[39mExpects step result to be a tuple, actual type: \u001b[39m\u001b[39m{\u001b[39;00m\u001b[39mtype\u001b[39m(result)\u001b[39m}\u001b[39;00m\u001b[39m\"\u001b[39m\n\u001b[0;32m    218\u001b[0m \u001b[39mif\u001b[39;00m \u001b[39mlen\u001b[39m(result) \u001b[39m==\u001b[39m \u001b[39m4\u001b[39m:\n",
      "File \u001b[1;32mc:\\Users\\mari9\\AppData\\Local\\Programs\\Python\\Python310\\lib\\site-packages\\gym\\envs\\box2d\\lunar_lander.py:482\u001b[0m, in \u001b[0;36mLunarLander.step\u001b[1;34m(self, action)\u001b[0m\n\u001b[0;32m    480\u001b[0m     action \u001b[39m=\u001b[39m np\u001b[39m.\u001b[39mclip(action, \u001b[39m-\u001b[39m\u001b[39m1\u001b[39m, \u001b[39m+\u001b[39m\u001b[39m1\u001b[39m)\u001b[39m.\u001b[39mastype(np\u001b[39m.\u001b[39mfloat32)\n\u001b[0;32m    481\u001b[0m \u001b[39melse\u001b[39;00m:\n\u001b[1;32m--> 482\u001b[0m     \u001b[39massert\u001b[39;00m \u001b[39mself\u001b[39m\u001b[39m.\u001b[39maction_space\u001b[39m.\u001b[39mcontains(\n\u001b[0;32m    483\u001b[0m         action\n\u001b[0;32m    484\u001b[0m     ), \u001b[39mf\u001b[39m\u001b[39m\"\u001b[39m\u001b[39m{\u001b[39;00maction\u001b[39m!r}\u001b[39;00m\u001b[39m (\u001b[39m\u001b[39m{\u001b[39;00m\u001b[39mtype\u001b[39m(action)\u001b[39m}\u001b[39;00m\u001b[39m) invalid \u001b[39m\u001b[39m\"\u001b[39m\n\u001b[0;32m    486\u001b[0m \u001b[39m# Engines\u001b[39;00m\n\u001b[0;32m    487\u001b[0m tip \u001b[39m=\u001b[39m (math\u001b[39m.\u001b[39msin(\u001b[39mself\u001b[39m\u001b[39m.\u001b[39mlander\u001b[39m.\u001b[39mangle), math\u001b[39m.\u001b[39mcos(\u001b[39mself\u001b[39m\u001b[39m.\u001b[39mlander\u001b[39m.\u001b[39mangle))\n",
      "\u001b[1;31mAssertionError\u001b[0m: 17 (<class 'numpy.int64'>) invalid "
     ]
    }
   ],
   "source": [
    "import numpy as np\n",
    "import random\n",
    "from copy import deepcopy\n",
    "import gym\n",
    "import matplotlib as plt\n",
    "\n",
    "import gym\n",
    "env = gym.make(\n",
    "    \"LunarLander-v2\",\n",
    "    continuous =False,\n",
    "    gravity =-10.0,\n",
    "    enable_wind =False,\n",
    "    wind_power =15.0,\n",
    "    turbulence_power =1.5\n",
    ")\n",
    "\n",
    "state, _ = env.reset()\n",
    "\n",
    "actionspace = env.action_space.n\n",
    "observationspace = env.observation_space.shape[0]\n",
    "\n",
    "\n",
    "l1 = 8\n",
    "l2 = 8\n",
    "\n",
    "layer_1 = observationspace * l1\n",
    "layer_1_bias = layer_1 + l1\n",
    "layer_2 = l1 * l2\n",
    "layer_2_bias = layer_2 + l2\n",
    "layer_3 = l2 * actionspace\n",
    "sum_layers = layer_1 + layer_2 + layer_3\n",
    "\n",
    "\n",
    "toolbox = base.Toolbox()\n",
    "creator.create(\"FitnessMax\", base.Fitness, weights=(1.0,))\n",
    "creator.create(\"Individual\", list, fitness=creator.FitnessMax)\n",
    "\n",
    "toolbox.register(\"matrix_attr\",  random.random)\n",
    "\n",
    "toolbox.register(\"individual\",  tools.initRepeat,\n",
    "                 creator.Individual, toolbox.matrix_attr,100 )\n",
    "toolbox.register(\"population\", tools.initRepeat, list, toolbox.individual)\n",
    "toolbox.register(\"mutate\", tools.mutFlipBit, indpb=0.05)\n",
    "toolbox.register(\"select\", tools.selTournament, tournsize=4)\n",
    "\n",
    "\n",
    "def unwrap_network(network):\n",
    "    layers_weights = [[], []]\n",
    "    layers_biases = [[], []]\n",
    "    layer_index = 0\n",
    "\n",
    "    for i, n in enumerate(network):\n",
    "        if i == (layer_1_bias+1) or i == (layer_2_bias+1):\n",
    "            layer_index += 1\n",
    "        if i <= layer_1:\n",
    "            layers_weights[layer_index].append(n)\n",
    "        elif i <= layer_1_bias:\n",
    "            layers_biases[layer_index].append(n)\n",
    "        elif i <= layer_1_bias+layer_2:\n",
    "            layers_weights[layer_index].append(n)\n",
    "        elif i <= layer_1_bias+layer_2+layer_2_bias:\n",
    "            layers_biases[layer_index].append(n)\n",
    "    return layers_weights, layers_biases\n",
    "\n",
    "def fitness_for_population():\n",
    "    fits = [ind.fitness.values[0] for ind in pop]\n",
    "    return fits\n",
    "\n",
    "def get_action(individual,state):\n",
    "    nerual_network = np.array(individual)\n",
    "    return np.argmax(nerual_network)\n",
    "\n",
    "def eval_network(individual):\n",
    "    state, _ = env.reset()\n",
    "    done = False\n",
    "    total_r = 0\n",
    "\n",
    "    while not done:\n",
    "        action = get_action(individual, state)\n",
    "        next_state, reward, done, _, _ = env.step(action)\n",
    "        total_r += reward\n",
    "        state = next_state    \n",
    "    return total_r,\n",
    "\n",
    "\n",
    "\n",
    "def mutate_network(offspring):\n",
    "    mutate_chance = 0.5\n",
    "\n",
    "    for individual in offspring: \n",
    "        if random.random() < mutate_chance:\n",
    "            toolbox.mutate(individual)\n",
    "    return offspring\n",
    "\n",
    "toolbox.register(\"evaluate\", eval_network)\n",
    "\n",
    "\n",
    "\n",
    "# Variable keeping track of the number of generations\n",
    "generation = 0\n",
    "cross_chance, mutation_chance = 0.5, 0.2\n",
    "pop = toolbox.population(n=300)\n",
    "\n",
    "# Begin the evolution\n",
    "while generation < 1000:\n",
    "    generation = generation + 1\n",
    "    offspring = toolbox.select(pop, len(pop))\n",
    "    \n",
    "    offspring = list(map(toolbox.clone, offspring))\n",
    "    mutate_network(offspring)\n",
    "\n",
    "    fitnesses = list(map(toolbox.evaluate, pop))\n",
    "    for ind, fit in zip(pop, fitnesses):\n",
    "        ind.fitness.values = fit\n",
    "    pop[:] = offspring\n",
    "\n",
    "\n",
    "    fits = findFitness()\n",
    "    x = [i/100 for i in range(len(pop[0]))]\n",
    "    y = [1 for i in x]\n",
    "    colors = ['r' if pop[0][i] == 0 else 'b' for i in range(len(pop[0]))]\n",
    "    plt.scatter(x, y, c=colors, alpha=0.5)\n",
    "    plt.show()\n",
    "plt.scatter(x,y, c=colors, alpha=.5)\n",
    "plt.show()\n"
   ]
  },
  {
   "cell_type": "code",
   "execution_count": 14,
   "metadata": {},
   "outputs": [],
   "source": [
    "import gym\n",
    "env = gym.make(\n",
    "    \"LunarLander-v2\",\n",
    "    continuous=False,\n",
    "    gravity=-10.0,\n",
    "    enable_wind=False,\n",
    "    wind_power=15.0,\n",
    "    turbulence_power=1.5,\n",
    "    render_mode='human'\n",
    ")\n",
    "\n",
    "state, _ = env.reset()\n",
    "\n",
    "actionspace = env.action_space.n\n",
    "observationspace = env.observation_space.shape[0]\n",
    "\n",
    "\n",
    "for episode in range(10):\n",
    "    env.reset()\n",
    "    while True:\n",
    "        env.render()\n",
    "        action = env.action_space.sample()\n",
    "        next_state, reward, done, t, info = env.step(action)\n",
    "\n",
    "        if done:\n",
    "            break\n",
    "env.close()\n"
   ]
  },
  {
   "cell_type": "markdown",
   "metadata": {
    "collapsed": false,
    "pycharm": {
     "name": "#%% md\n"
    }
   },
   "source": [
    "## 3. Implement Hebbian Learning on AND and OR logic gates.\n",
    "Make functions that given an input of the kind `[1,1,0]`, `[0,0,0]`, etc.:\n",
    "1. Returns 1 if input is all ones, otherwise 0 (AND).\n",
    "2. Returns 1 if at least one element is 1, otherwise 0 (OR).\n",
    "3. Optional: XOR."
   ]
  },
  {
   "cell_type": "code",
   "execution_count": 15,
   "metadata": {
    "collapsed": false,
    "pycharm": {
     "name": "#%%\n"
    }
   },
   "outputs": [],
   "source": [
    "# Your code"
   ]
  },
  {
   "cell_type": "markdown",
   "metadata": {
    "collapsed": false,
    "pycharm": {
     "name": "#%% md\n"
    }
   },
   "source": [
    "## Optional (and awesome): Do Hebbian Learning over Reinforcement Learning for the Lunar Lander from gym (LunarLander-v2).\n",
    "![](https://www.gymlibrary.dev/_images/lunar_lander.gif)"
   ]
  },
  {
   "cell_type": "code",
   "execution_count": 16,
   "metadata": {
    "collapsed": false,
    "pycharm": {
     "name": "#%%\n"
    }
   },
   "outputs": [],
   "source": [
    "# Your code"
   ]
  }
 ],
 "metadata": {
  "colab": {
   "name": "lab.ipynb",
   "provenance": []
  },
  "kernelspec": {
   "display_name": "Python 3.10.2 64-bit",
   "language": "python",
   "name": "python3"
  },
  "language_info": {
   "codemirror_mode": {
    "name": "ipython",
    "version": 3
   },
   "file_extension": ".py",
   "mimetype": "text/x-python",
   "name": "python",
   "nbconvert_exporter": "python",
   "pygments_lexer": "ipython3",
   "version": "3.10.2"
  },
  "vscode": {
   "interpreter": {
    "hash": "8a9cc3d5033db7a69cc0cff3732b1a7e010a67b5ff3241f0937560160e7695f0"
   }
  }
 },
 "nbformat": 4,
 "nbformat_minor": 0
}
