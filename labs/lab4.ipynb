{
 "cells": [
  {
   "cell_type": "markdown",
   "metadata": {
    "id": "NGzC3uqmuKZB",
    "pycharm": {
     "name": "#%% md\n"
    }
   },
   "source": [
    "# Lab 4: Q-table based reinforcement learning"
   ]
  },
  {
   "cell_type": "markdown",
   "metadata": {
    "id": "KYeKUsX8uXSF",
    "pycharm": {
     "name": "#%% md\n"
    }
   },
   "source": [
    "\n",
    "\n",
    "Solve [`FrozenLake8x8-v1`](https://www.gymlibrary.dev/environments/toy_text/frozen_lake/) using a Q-table.\n"
   ]
  },
  {
   "cell_type": "markdown",
   "metadata": {
    "id": "hGAOGNSWyncb",
    "pycharm": {
     "name": "#%% md\n"
    }
   },
   "source": [
    "1. Import Necessary Packages (e.g. `gym`, `numpy`):"
   ]
  },
  {
   "cell_type": "code",
   "execution_count": 67,
   "metadata": {},
   "outputs": [],
   "source": [
    "import gym\n",
    "import numpy as np\n",
    "import random\n",
    "import pygame"
   ]
  },
  {
   "cell_type": "markdown",
   "metadata": {
    "id": "V7KHXZDxys6J",
    "pycharm": {
     "name": "#%% md\n"
    }
   },
   "source": [
    "\n",
    "2. Instantiate the Environment and Agent"
   ]
  },
  {
   "cell_type": "code",
   "execution_count": 68,
   "metadata": {},
   "outputs": [],
   "source": [
    "# Enviroment\n",
    "# gym.make('FrozenLake-v1', render_mode='human')\n",
    "env = gym.make('FrozenLake-v1',is_slippery=False)\n",
    "#Taxi-v3\n"
   ]
  },
  {
   "cell_type": "code",
   "execution_count": 69,
   "metadata": {},
   "outputs": [],
   "source": [
    "# Agent\n",
    "\n",
    "class Agent:\n",
    "    def __init__(self):\n",
    "        self.total_episodes = 25000\n",
    "        self.max_steps = 100\n",
    "        self.epsilon = 0.1\n",
    "        self.learn_rate = 0.2\n",
    "        self.gamma = 0.85\n",
    "\n",
    "        self.epsilon = 1.0\n",
    "        self.max_epsilon = 1.0\n",
    "        self.min_epsilon = 0.01\n",
    "        self.decay_rate = 0.01\n",
    "\n",
    "    def act(self, obs,q_table):\n",
    "        return np.argmax(q_table[obs,:])\n",
    "\n",
    "\n",
    "    def learn(self,q_table, state):\n",
    "        for episode in range(self.total_episodes):\n",
    "            env.reset()\n",
    "            state = env.action_space.sample()\n",
    "            step = 0\n",
    "            return_total = 0\n",
    "            done = False\n",
    "            \n",
    "            while not done:\n",
    "                exploration_explotation_trade = random.uniform(0, 1)\n",
    "                if exploration_explotation_trade > self.epsilon:\n",
    "                    # returns index of the bigges value \n",
    "                    # q_table[state, :] the colon is all the actions of the state\n",
    "                    action = np.argmax(q_table[state, :])\n",
    "                else:\n",
    "                    action = env.action_space.sample()\n",
    "                \n",
    "                observation, reward, done, _, _ = env.step(action)\n",
    "\n",
    "                \n",
    "                q_table[state,action] = q_table[state,action] + self.learn_rate *(reward+self.gamma*\n",
    "                                                                            np.max(q_table[observation, :]) - q_table[state, action])\n",
    "                \n",
    "               \n",
    "                state = observation\n",
    "                return_total += reward\n",
    "                if done:\n",
    "                    observation = env.reset\n",
    "     \n",
    "\n",
    "        self.epsilon = self.min_epsilon + (self.max_epsilon - self.min_epsilon) *np.exp(-self.decay_rate*episode)\n"
   ]
  },
  {
   "cell_type": "markdown",
   "metadata": {
    "id": "QMs2BVFZywAJ",
    "pycharm": {
     "name": "#%% md\n"
    }
   },
   "source": [
    "3. Set up the QTable:"
   ]
  },
  {
   "cell_type": "code",
   "execution_count": 70,
   "metadata": {},
   "outputs": [
    {
     "name": "stdout",
     "output_type": "stream",
     "text": [
      "State size  16\n",
      "Action size  4\n",
      "Discrete(4)\n"
     ]
    }
   ],
   "source": [
    "\n",
    "action_size = env.action_space.n\n",
    "state_size = env.observation_space.n\n",
    "\n",
    "q_table = np.random.randn(state_size, action_size)\n",
    "\n",
    "print(\"State size \", state_size)\n",
    "print(\"Action size \", action_size)\n",
    "print(env.action_space)\n"
   ]
  },
  {
   "cell_type": "markdown",
   "metadata": {
    "id": "YHuDteJVy2_C",
    "pycharm": {
     "name": "#%% md\n"
    }
   },
   "source": [
    "4. The Q-Learning algorithm training"
   ]
  },
  {
   "cell_type": "code",
   "execution_count": 71,
   "metadata": {},
   "outputs": [],
   "source": [
    "agent = Agent()\n",
    "obs = env.reset()[0]\n",
    "agent.learn(q_table,obs)"
   ]
  },
  {
   "cell_type": "markdown",
   "metadata": {
    "id": "Mm8oigYjzFTd",
    "pycharm": {
     "name": "#%% md\n"
    }
   },
   "source": [
    "5. Evaluate how well your agent performs\n",
    "* Render output of one episode\n",
    "* Give an average episode return"
   ]
  },
  {
   "cell_type": "code",
   "execution_count": 72,
   "metadata": {},
   "outputs": [
    {
     "name": "stdout",
     "output_type": "stream",
     "text": [
      "1.0\n",
      "0.5\n",
      "0.3333333333333333\n",
      "0.25\n",
      "0.2\n",
      "0.16666666666666666\n",
      "0.14285714285714285\n",
      "0.125\n",
      "0.1111111111111111\n",
      "0.1\n"
     ]
    }
   ],
   "source": [
    "from pathlib import Path\n",
    "\n",
    "\n",
    "rewards = []\n",
    "test_episodes = 10\n",
    "\n",
    "env = gym.make('FrozenLake-v1', is_slippery=False, render_mode='human')\n",
    "\n",
    "\n",
    "for i in range(test_episodes):\n",
    "    obs = env.reset()[0]\n",
    "    step = 0\n",
    "    return_total = 0\n",
    "    done = False\n",
    "    total_rewards = 0\n",
    "    while not done:\n",
    "        action = agent.act(obs, q_table)\n",
    "        observation, reward, done, _, _ = env.step(action)\n",
    "        return_total += reward\n",
    "        if(done):\n",
    "\n",
    "            rewards.append(total_rewards)\n",
    "            break\n",
    "        obs = observation\n",
    "\n",
    "    print(return_total/(i+1))\n",
    "env.close()\n",
    "\n"
   ]
  },
  {
   "cell_type": "markdown",
   "metadata": {},
   "source": [
    "Gives output: \n",
    "\n",
    "1.0\n",
    "0.5\n",
    "0.3333333333333333\n",
    "0.25\n",
    "0.2\n",
    "0.16666666666666666\n",
    "0.14285714285714285\n",
    "0.125\n",
    "0.1111111111111111\n",
    "0.1\n"
   ]
  },
  {
   "cell_type": "markdown",
   "metadata": {},
   "source": [
    "Gives the outputs "
   ]
  },
  {
   "cell_type": "markdown",
   "metadata": {
    "collapsed": false,
    "pycharm": {
     "name": "#%% md\n"
    }
   },
   "source": [
    "6. (<i>Optional</i>) Adapt code for one of the continuous [Classical Control](https://www.gymlibrary.dev/environments/classic_control/) problems. Think/talk about how you could use our  `Model` class from last Thursday to decide actions."
   ]
  }
 ],
 "metadata": {
  "colab": {
   "authorship_tag": "ABX9TyOtNkS92UHFInFg+R4UDAlq",
   "name": "Reinforcement_learning.ipynb",
   "provenance": []
  },
  "kernelspec": {
   "display_name": "Python 3.10.2 64-bit",
   "language": "python",
   "name": "python3"
  },
  "language_info": {
   "codemirror_mode": {
    "name": "ipython",
    "version": 3
   },
   "file_extension": ".py",
   "mimetype": "text/x-python",
   "name": "python",
   "nbconvert_exporter": "python",
   "pygments_lexer": "ipython3",
   "version": "3.10.2"
  },
  "vscode": {
   "interpreter": {
    "hash": "8a9cc3d5033db7a69cc0cff3732b1a7e010a67b5ff3241f0937560160e7695f0"
   }
  }
 },
 "nbformat": 4,
 "nbformat_minor": 4
}
