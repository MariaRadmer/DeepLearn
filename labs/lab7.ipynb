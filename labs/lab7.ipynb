{
 "cells": [
  {
   "cell_type": "markdown",
   "metadata": {
    "id": "0V9I6y4g9zrj",
    "pycharm": {
     "name": "#%% md\n"
    }
   },
   "source": [
    "# Genetic Algorithms with DEAP\n",
    "\n",
    "Source: [Kevin Sikorski](https://colab.research.google.com/github/jfogarty/machine-learning-intro-workshop/blob/master/notebooks/genetic-algorithms-with-deap.ipynb)\n",
    "\n",
    "In this lab, we will first learn how to use a simple and easy-to-use implementation of a Genetic Algorithm using DEAP library in Python.\n",
    "Then you'll write code that optimised position in artificial landscapes, use GA on a simple neuralnet to control a game, and use Hebbian Learning to implement simple logic gates."
   ]
  },
  {
   "cell_type": "markdown",
   "metadata": {
    "id": "BSZa4hf3qyRO",
    "pycharm": {
     "name": "#%% md\n"
    }
   },
   "source": [
    "# Terminology\n",
    "\n",
    "### Individual\n",
    "Genetic Algorithms make use of an analogy to genetics, where we use a population of randomly generated individuals, each with some genetic code.  This code represents a potential solution to the problem.  The representation of the solution depends on the particular problem we are addressing, but it generally consists of a data structure.  It could contain one or more strings like \"ACGTCACTCGGATGC\" if we are dealing with DNA, real-valued data if we are dealing with vectors, arbitrary and mutually-exclusive concepts like \"January\", \"February\", and \"December\", or anything else. \n",
    "\n",
    "### Fitness \n",
    "Since these solutions are chosen at random, some are better than others.  We need to be able to evaluate how good a particular solution is.  We do this by defining a fitness function (called an evaulation function in the example below).  This takes in an individual or its genetic code, and outputs a scalar number that allows us to compare fitness between individuals.\n",
    "\n",
    "### Mutation\n",
    "In the real world, genetic code mutates due to random events like cosmic rays and nuclear decay, or due to random transcription errors.  We simulate this in genetic algorithms with a mutation rate.  Here with a low probability, we randomly change one or more elements of the genetic code of an individual.  This might be changing a number encoded in it (either a little or a lot), flipping a bit in a string, or randomizing the month in a date-time field.\n",
    "\n",
    "### Crossover\n",
    "In the real world, mating between individuals produces offspring with genetic code that is a combination of the parents.  This is simulated with crossover.  In the first diagram below we show two parents at the top, each with different genetic material.  Two offspring are shown below, each the product of crossover.  The parent's genetic code is broken at a randomly selected point.  The right half of the red parent is attached to the left half of the blue parent to produce one offspring's genes; the remaining pieces are similarly concatenated to make the other offspring's genes.\n",
    "\n",
    "Geometrically, you can think of crossover as a projection of one parent's genetic code to a random plane in the search space that contains the other parent's genetic code.  (This plane will also be aligned with one of the basis vectors of the genetic code.)  The Crossover as projection diagram below shows an example involving two parents in magenta with genetic code (0,0) and (1,1).  When crossover occurs, we produce the cyan individuals with genetic code (0,1) and (1,0) by taking the first element from one parent and the second element from the second parent.  Or phrased geometrically, by projecting one parent's point to the Y-axis (the basis vector for the second element of the genetic code), and the the other parent's point to the X-axis."
   ]
  },
  {
   "cell_type": "code",
   "execution_count": 1,
   "metadata": {
    "colab": {
     "base_uri": "https://localhost:8080/",
     "height": 281
    },
    "id": "NCUOiAsN2uhD",
    "outputId": "ca3d51a9-0442-49a6-c1fb-dfbeda0cf49d",
    "pycharm": {
     "name": "#%%\n"
    }
   },
   "outputs": [
    {
     "data": {
      "image/png": "[encoded data removed]",
      "text/plain": [
       "<Figure size 640x480 with 2 Axes>"
      ]
     },
     "metadata": {},
     "output_type": "display_data"
    }
   ],
   "source": [
    "import matplotlib.pyplot as plt\n",
    "\n",
    "plt.subplot(1,2,1)\n",
    "plt.title(\"Crossover\")\n",
    "fig=plt.plot((0, 1), (5, 5), linewidth=5, color='b')\n",
    "fig=plt.plot((0, 1), (4, 4), linewidth=5, color='r')\n",
    "fig=plt.plot((0, 0.6), (2, 2), linewidth=5, color='b')\n",
    "fig=plt.plot((0, 0.6), (1, 1), linewidth=5, color='r')\n",
    "fig=plt.plot((0.6, 1), (1, 1), linewidth=5, color='b')\n",
    "fig=plt.plot((0.6, 1), (2, 2), linewidth=5, color='r')\n",
    "\n",
    "plt.subplot(1,2,2)\n",
    "plt.scatter([0, 1], [0,1], color='m', lw=3)\n",
    "plt.scatter([1, 0], [0,1], color='c', lw=3)\n",
    "plt.title(\"Crossover as projection\")\n",
    "\n",
    "plt.show()"
   ]
  },
  {
   "cell_type": "markdown",
   "metadata": {
    "id": "MQo4tsn4-PoP",
    "pycharm": {
     "name": "#%% md\n"
    }
   },
   "source": [
    "# One Max Problem\n",
    "This example will help new users to overview some of the DEAP framework’s possibilities and illustrate the potential of evolutionary algorithms in general. The problem itself is both very simple and widely used in the evolutionary computational community. We will create a population of individuals consisting of integer vectors randomly filled with 0 and 1. Then we let our population evolve until one of its members contains only 1 and no 0 anymore.\n"
   ]
  },
  {
   "cell_type": "code",
   "execution_count": 2,
   "metadata": {
    "colab": {
     "base_uri": "https://localhost:8080/"
    },
    "id": "n1TlDbXM9YBy",
    "outputId": "2bf3c5c0-5303-4c04-ed50-dca816eb88b4",
    "pycharm": {
     "name": "#%%\n"
    }
   },
   "outputs": [
    {
     "name": "stdout",
     "output_type": "stream",
     "text": [
      "Requirement already satisfied: deap in c:\\users\\mari9\\appdata\\local\\programs\\python\\python310\\lib\\site-packages (1.3.3)\n",
      "Requirement already satisfied: numpy in c:\\users\\mari9\\appdata\\local\\programs\\python\\python310\\lib\\site-packages (from deap) (1.23.3)\n"
     ]
    }
   ],
   "source": [
    "import random\n",
    "\n",
    "!pip install deap\n",
    "from deap import base\n",
    "from deap import creator\n",
    "from deap import tools\n",
    "  "
   ]
  },
  {
   "cell_type": "markdown",
   "metadata": {
    "id": "5j5Cu17P-Wf9",
    "pycharm": {
     "name": "#%% md\n"
    }
   },
   "source": [
    "## Creator\n",
    "Since the actual structure of the required individuals in genetic algorithms does strongly depend on the task at hand, DEAP does not contain any explicit structure. It will rather provide a convenient method for creating containers of attributes, associated with fitnesses, called the deap.creator. Using this method we can create custom individuals in a very simple way.\n",
    "\n",
    "The creator is a class factory that can build new classes at run-time. It will be called with first the desired name of the new class, second the base class it will inherit, and in addition any subsequent arguments you want to become attributes of your class. This allows us to build new and complex structures of any type of container from lists to n-ary trees."
   ]
  },
  {
   "cell_type": "code",
   "execution_count": 3,
   "metadata": {
    "id": "ZFeTYVBn-XCY",
    "pycharm": {
     "name": "#%%\n"
    }
   },
   "outputs": [],
   "source": [
    "creator.create(\"FitnessMax\", base.Fitness, weights=(1.0,))\n",
    "creator.create(\"Individual\", list, fitness=creator.FitnessMax)"
   ]
  },
  {
   "cell_type": "markdown",
   "metadata": {
    "id": "vi1UTZS1-cdv",
    "pycharm": {
     "name": "#%% md\n"
    }
   },
   "source": [
    "First we will define the class FitnessMax. It will inherit the Fitness class of the deap.base module and contain an additional attribute called weights. Please mind the value of weights to be the tuple (1.0,). This way we will be maximizing a single objective fitness. We can’t repeat it enough, in DEAP single objectives is a special case of multi objectives.\n",
    "\n",
    "Next we will create the class Individual, which will inherit the class list and contain our previously defined FitnessMax class in its fitness attribute. Note that upon creation all our defined classes will be part of the creator container and can be called directly.\n",
    "\n",
    "## Toolbox\n",
    "Now we will use our custom classes to create types representing our individuals as well as our whole population.\n",
    "\n",
    "All the objects we will use on our way, an individual, the population, as well as all functions, operators, and arguments will be stored in a DEAP container called Toolbox. It contains two methods for adding and removing content, register() and unregister()."
   ]
  },
  {
   "cell_type": "code",
   "execution_count": 4,
   "metadata": {
    "id": "HS3iXNSW-gS8",
    "pycharm": {
     "name": "#%%\n"
    }
   },
   "outputs": [],
   "source": [
    "toolbox = base.Toolbox()\n",
    "# Attribute generator \n",
    "toolbox.register(\"attr_bool\", random.randint, 0, 1)\n",
    "# Structure initializers\n",
    "toolbox.register(\"individual\", tools.initRepeat, creator.Individual, \n",
    "    toolbox.attr_bool, 100)\n",
    "toolbox.register(\"population\", tools.initRepeat, list, toolbox.individual)"
   ]
  },
  {
   "cell_type": "markdown",
   "metadata": {
    "id": "JO9v6Wx_-jam",
    "pycharm": {
     "name": "#%% md\n"
    }
   },
   "source": [
    "In this code block we register a generation function toolbox.attr_bool() and two initialization ones individual() and population(). toolbox.attr_bool(), when called, will draw a random integer between 0 and 1. The two initializers, on the other hand, will instantiate an individual or population.\n",
    "\n",
    "The registration of the tools to the toolbox only associates aliases to the already existing functions and freezes part of their arguments. This allows us to fix an arbitrary amount of argument at certain values so we only have to specify the remaining ones when calling the method. For example, the attr_bool() generator is made from the randint() function that takes two arguments a and b, with a <= n <= b, where n is the returned integer. Here, we fix a = 0 and b = 1.\n",
    "\n",
    "Our individuals will be generated using the function initRepeat(). Its first argument is a container class, in our example the Individual one we defined in the previous section. This container will be filled using the method attr_bool(), provided as second argument, and will contain 100 integers, as specified using the third argument. When called, the individual() method will thus return an individual initialized with what would be returned by calling the attr_bool() method 100 times. Finally, the population() method uses the same paradigm, but we don’t fix the number of individuals that it should contain.\n",
    "\n",
    "## The Evaluation Function\n",
    "The evaluation function is pretty simple in our example. We just need to count the number of ones in an individual."
   ]
  },
  {
   "cell_type": "code",
   "execution_count": 5,
   "metadata": {
    "colab": {
     "base_uri": "https://localhost:8080/"
    },
    "id": "s9XjIzai-lvs",
    "outputId": "83d25dd8-66a7-457c-c3c6-4e0121940702",
    "pycharm": {
     "name": "#%%\n"
    }
   },
   "outputs": [
    {
     "name": "stdout",
     "output_type": "stream",
     "text": [
      "(0,)\n",
      "(2,)\n",
      "(4,)\n"
     ]
    }
   ],
   "source": [
    "def evalOneMax(individual):\n",
    "    return sum(individual),\n",
    "  \n",
    "print(evalOneMax([0,0,0,0]))\n",
    "print(evalOneMax([0,1,0,1]))\n",
    "print(evalOneMax([1,1,1,1]))\n"
   ]
  },
  {
   "cell_type": "markdown",
   "metadata": {
    "id": "vhwe8gl3-nVT",
    "pycharm": {
     "name": "#%% md\n"
    }
   },
   "source": [
    "## The Genetic Operators\n",
    "Within DEAP there are two ways of using operators. We can either simply call a function from the tools module or register it with its arguments in a toolbox, as we have already seen for our initialization methods. The most convenient way, however, is to register them in the toolbox, because this allows us to easily switch between the operators if desired. The toolbox method is also used when working with the algorithms module. See the [One Max Problem: Short Version](https://deap.readthedocs.io/en/master/examples/ga_onemax_short.html#short-ga-onemax) for an example.\n",
    "\n",
    "Registering the genetic operators required for the evolution in our One Max problem and their default arguments in the toolbox is done as follows."
   ]
  },
  {
   "cell_type": "code",
   "execution_count": 6,
   "metadata": {
    "id": "AoLoTIuj-ppU",
    "pycharm": {
     "name": "#%%\n"
    }
   },
   "outputs": [],
   "source": [
    "toolbox.register(\"evaluate\", evalOneMax)\n",
    "toolbox.register(\"mate\", tools.cxTwoPoint)\n",
    "toolbox.register(\"mutate\", tools.mutFlipBit, indpb=0.05)\n",
    "toolbox.register(\"select\", tools.selTournament, tournsize=3)"
   ]
  },
  {
   "cell_type": "markdown",
   "metadata": {
    "id": "pzSud0CF-q_y",
    "pycharm": {
     "name": "#%% md\n"
    }
   },
   "source": [
    "The evaluation will be performed by calling the alias evaluate. It is important to not fix its argument in here. We will need it later on to apply the function to each separate individual in our population. The mutation, on the other hand, needs an argument to be fixed (the independent probability of each attribute to be mutated indpb).\n",
    "\n",
    "## Evolving the Population\n",
    "Once the representation and the genetic operators are chosen, we will define an algorithm combining all the individual parts and performing the evolution of our population until the One Max problem is solved.\n",
    "\n",
    "## Creating the Population\n",
    "First of all, we need to actually instantiate our population. But this step is effortlessly done using the population() method we registered in our toolbox earlier on."
   ]
  },
  {
   "cell_type": "code",
   "execution_count": 7,
   "metadata": {
    "id": "F30uZtcp-u79",
    "pycharm": {
     "name": "#%%\n"
    }
   },
   "outputs": [],
   "source": [
    "pop = toolbox.population(n=300)\n",
    "\n",
    "# Evaluate the entire population\n",
    "fitnesses = list(map(toolbox.evaluate, pop))\n",
    "for ind, fit in zip(pop, fitnesses):\n",
    "    ind.fitness.values = fit\n"
   ]
  },
  {
   "cell_type": "markdown",
   "metadata": {
    "id": "bUw_9gTr-wjK",
    "pycharm": {
     "name": "#%% md\n"
    }
   },
   "source": [
    "**pop** will be a list composed of 300 individuals. Since we left the parameter **n** open during the registration of the population() method in our toolbox, we are free to create populations of arbitrary size.\n",
    "\n",
    "Before we go on, this is the time to define some constants we will use later on."
   ]
  },
  {
   "cell_type": "code",
   "execution_count": 8,
   "metadata": {
    "id": "Dx5L38zU-x1H",
    "pycharm": {
     "name": "#%%\n"
    }
   },
   "outputs": [],
   "source": [
    "# CXPB  is the probability with which two individuals\n",
    "#       are crossed\n",
    "#\n",
    "# MUTPB is the probability for mutating an individual\n",
    "CXPB, MUTPB = 0.5, 0.2"
   ]
  },
  {
   "cell_type": "markdown",
   "metadata": {
    "id": "V1QT9wKN-2E8",
    "pycharm": {
     "name": "#%% md\n"
    }
   },
   "source": [
    "## Evaluating the Population\n",
    "The next thing to do is to evaluate our brand new population.  We map() the evaluation function to every individual and then assign their respective fitness. Note that the order in fitnesses and population is the same.\n",
    "\n",
    "The evolution of the population is the final step we have to accomplish. Recall, our individuals consist of 100 integer numbers and we want to evolve our population until we got at least one individual consisting of only 1s and no 0s. So all we have to do is to obtain the fitness values of the individuals!\n",
    "\n",
    "To check the performance of the evolution, we will calculate and print the minimal, maximal, and mean values of the fitnesses of all individuals in our population as well as their standard deviations."
   ]
  },
  {
   "cell_type": "code",
   "execution_count": 9,
   "metadata": {
    "colab": {
     "base_uri": "https://localhost:8080/"
    },
    "id": "PtryFa_TJxWa",
    "outputId": "24d864d4-9ee9-4d7a-95df-a67978dd3024",
    "pycharm": {
     "name": "#%%\n"
    }
   },
   "outputs": [
    {
     "name": "stdout",
     "output_type": "stream",
     "text": [
      "  Min 34.0\n",
      "  Max 66.0\n",
      "  Avg 49.8\n",
      "  Std 5.021951811795958\n"
     ]
    }
   ],
   "source": [
    "def findFitness():\n",
    "    fits = [ind.fitness.values[0] for ind in pop]\n",
    "        \n",
    "    length = len(pop)\n",
    "    mean = sum(fits) / length\n",
    "    sum2 = sum(x*x for x in fits)\n",
    "    std = abs(sum2 / length - mean**2)**0.5\n",
    "\n",
    "    print(\"  Min %s\" % min(fits))\n",
    "    print(\"  Max %s\" % max(fits))\n",
    "    print(\"  Avg %s\" % mean)\n",
    "    print(\"  Std %s\" % std)\n",
    "    return fits\n",
    "    \n",
    "fits=findFitness()"
   ]
  },
  {
   "cell_type": "markdown",
   "metadata": {
    "id": "Dfh6gnNQ-5Wy",
    "pycharm": {
     "name": "#%% md\n"
    }
   },
   "source": [
    "## Mating and Mutation\n",
    "\n",
    "In genetic algorithms, evolution occurs via either mutation or crossover, both of which happen (or don't happen) randomly.  In mutation, we change one or more of the genes of one of our individuals.  In cross-over, two individuals are mated to mix their genes.\n",
    "\n",
    "The crossover (or mating) and mutation operators, provided within DEAP, usually take respectively 2 or 1 individual(s) as input and return 2 or 1 modified individual(s). In addition they modify those individuals within the toolbox container and we do not need to reassign their results.\n",
    "\n",
    "We will perform both the crossover (mating) and the mutation of the produced children with a certain probability of CXPB and MUTPB. The del statement will invalidate the fitness of the modified offspring."
   ]
  },
  {
   "cell_type": "code",
   "execution_count": 10,
   "metadata": {
    "id": "M6ssqRncEIDN",
    "pycharm": {
     "name": "#%%\n"
    }
   },
   "outputs": [],
   "source": [
    "def mateAndMutate(offspring):\n",
    "    for child1, child2 in zip(offspring[::2], offspring[1::2]):\n",
    "        if random.random() < CXPB:\n",
    "            toolbox.mate(child1, child2)\n",
    "            del child1.fitness.values\n",
    "            del child2.fitness.values\n",
    "\n",
    "    for mutant in offspring:\n",
    "        if random.random() < MUTPB:\n",
    "            toolbox.mutate(mutant)\n",
    "            del mutant.fitness.values\n",
    "            \n"
   ]
  },
  {
   "cell_type": "markdown",
   "metadata": {
    "id": "mEOPfK92--q-",
    "pycharm": {
     "name": "#%% md\n"
    }
   },
   "source": [
    "## The Main Loop\n",
    "\n",
    "This will creates an offspring list, which is an exact copy of the selected individuals. The toolbox.clone() method ensure that we don’t use a reference to the individuals but an completely independent instance. This is of utter importance since the genetic operators in toolbox will modify the provided objects in-place.\n",
    "\n",
    "We then mutate and mate the individuals to find the next generation of individuals.  We evaluate them, and continue until one of our individuals evolves to be the perfect organism (fitness of 100 or more), or until the number of generations reaches 1000.\n",
    "\n",
    "At each generation, we output some statistics about that generation's population, as well as a graph of the genetic material for an arbitrary individual.  A 0 in the genetic material is drawn in red, and a 1 is drawn in blue."
   ]
  },
  {
   "cell_type": "code",
   "execution_count": 11,
   "metadata": {
    "colab": {
     "base_uri": "https://localhost:8080/",
     "height": 1000
    },
    "id": "Df-rsxoX-6vj",
    "outputId": "36264f12-cbce-41a3-f8fe-9ce3018a17a6",
    "pycharm": {
     "name": "#%%\n"
    }
   },
   "outputs": [
    {
     "name": "stdout",
     "output_type": "stream",
     "text": [
      "  Min 43.0\n",
      "  Max 66.0\n",
      "  Avg 53.49\n",
      "  Std 3.682829528139105\n",
      "  Min 44.0\n",
      "  Max 66.0\n",
      "  Avg 56.22666666666667\n",
      "  Std 3.3667920768721307\n",
      "  Min 50.0\n",
      "  Max 68.0\n",
      "  Avg 58.49666666666667\n",
      "  Std 2.846633489267942\n",
      "  Min 52.0\n",
      "  Max 68.0\n",
      "  Avg 60.333333333333336\n",
      "  Std 2.8975085082800613\n",
      "  Min 52.0\n",
      "  Max 72.0\n",
      "  Avg 62.373333333333335\n",
      "  Std 3.0156186024687486\n",
      "  Min 56.0\n",
      "  Max 73.0\n",
      "  Avg 64.49666666666667\n",
      "  Std 3.0116422245825407\n",
      "  Min 56.0\n",
      "  Max 77.0\n",
      "  Avg 66.61333333333333\n",
      "  Std 3.0491237356912797\n",
      "  Min 60.0\n",
      "  Max 81.0\n",
      "  Avg 68.61333333333333\n",
      "  Std 2.856073450658531\n",
      "  Min 62.0\n",
      "  Max 80.0\n",
      "  Avg 70.37\n",
      "  Std 2.789223308856004\n",
      "  Min 64.0\n",
      "  Max 82.0\n",
      "  Avg 72.28333333333333\n",
      "  Std 2.9125685495034013\n",
      "  Min 66.0\n",
      "  Max 83.0\n",
      "  Avg 74.19333333333333\n",
      "  Std 2.888359780606013\n",
      "  Min 61.0\n",
      "  Max 86.0\n",
      "  Avg 76.01\n",
      "  Std 3.1638426003831333\n",
      "  Min 66.0\n",
      "  Max 86.0\n",
      "  Avg 77.92333333333333\n",
      "  Std 3.1022769415741185\n",
      "  Min 67.0\n",
      "  Max 88.0\n",
      "  Avg 79.92666666666666\n",
      "  Std 3.037755019015858\n",
      "  Min 73.0\n",
      "  Max 90.0\n",
      "  Avg 81.90666666666667\n",
      "  Std 2.7636851404521265\n",
      "  Min 73.0\n",
      "  Max 90.0\n",
      "  Avg 83.31\n",
      "  Std 2.9811463119633888\n",
      "  Min 76.0\n",
      "  Max 90.0\n",
      "  Avg 84.96666666666667\n",
      "  Std 2.5597308886329526\n",
      "  Min 77.0\n",
      "  Max 90.0\n",
      "  Avg 86.34\n",
      "  Std 2.5161610971211124\n",
      "  Min 80.0\n",
      "  Max 93.0\n",
      "  Avg 87.62666666666667\n",
      "  Std 2.10411237553726\n",
      "  Min 80.0\n",
      "  Max 94.0\n",
      "  Avg 88.49\n",
      "  Std 2.203761935116447\n",
      "  Min 78.0\n",
      "  Max 94.0\n",
      "  Avg 89.11333333333333\n",
      "  Std 2.274603750595464\n",
      "  Min 82.0\n",
      "  Max 94.0\n",
      "  Avg 89.91\n",
      "  Std 2.2483846052965224\n",
      "  Min 82.0\n",
      "  Max 94.0\n",
      "  Avg 90.55\n",
      "  Std 2.2892866428940883\n",
      "  Min 82.0\n",
      "  Max 95.0\n",
      "  Avg 91.23666666666666\n",
      "  Std 2.242169088677794\n",
      "  Min 83.0\n",
      "  Max 96.0\n",
      "  Avg 92.07333333333334\n",
      "  Std 2.035015697454957\n",
      "  Min 84.0\n",
      "  Max 96.0\n",
      "  Avg 92.42333333333333\n",
      "  Std 2.097011100484689\n",
      "  Min 81.0\n",
      "  Max 96.0\n",
      "  Avg 93.06\n",
      "  Std 1.9739300899473695\n",
      "  Min 82.0\n",
      "  Max 97.0\n",
      "  Avg 93.41\n",
      "  Std 2.171458803047908\n",
      "  Min 85.0\n",
      "  Max 97.0\n",
      "  Avg 93.82333333333334\n",
      "  Std 2.1890916431755945\n",
      "  Min 83.0\n",
      "  Max 98.0\n",
      "  Avg 94.21333333333334\n",
      "  Std 2.419605110113679\n",
      "  Min 85.0\n",
      "  Max 99.0\n",
      "  Avg 94.8\n",
      "  Std 2.3607908279501855\n",
      "  Min 85.0\n",
      "  Max 99.0\n",
      "  Avg 95.37\n",
      "  Std 2.241970859162209\n",
      "  Min 88.0\n",
      "  Max 99.0\n",
      "  Avg 95.93\n",
      "  Std 1.9693738429590981\n",
      "  Min 88.0\n",
      "  Max 99.0\n",
      "  Avg 96.31333333333333\n",
      "  Std 2.0948720459468873\n",
      "  Min 87.0\n",
      "  Max 100.0\n",
      "  Avg 96.42\n",
      "  Std 2.389616426681684\n"
     ]
    },
    {
     "data": {
      "image/png": "[encoded data removed]",
      "text/plain": [
       "<Figure size 640x480 with 1 Axes>"
      ]
     },
     "metadata": {},
     "output_type": "display_data"
    }
   ],
   "source": [
    "import numpy as np\n",
    "# Variable keeping track of the number of generations\n",
    "g = 0\n",
    "\n",
    "# Begin the evolution\n",
    "while max(fits) < 100 and g < 1000:\n",
    "    # A new generation\n",
    "    g = g + 1\n",
    "    #print(\"-- Generation %i --\" % g)\n",
    "    # Select the next generation individuals\n",
    "    offspring = toolbox.select(pop, len(pop))\n",
    "    # Clone the selected individuals\n",
    "    offspring = list(map(toolbox.clone, offspring))\n",
    "    \n",
    "    # Apply crossover and mutation on the offspring\n",
    "    mateAndMutate(offspring)\n",
    "    \n",
    "    # Evaluate the individuals with an invalid fitness\n",
    "    invalid_ind = [ind for ind in offspring if not ind.fitness.valid]\n",
    "    fitnesses = map(toolbox.evaluate, invalid_ind)\n",
    "    for ind, fit in zip(invalid_ind, fitnesses):\n",
    "        ind.fitness.values = fit\n",
    "    pop[:] = offspring\n",
    "    \n",
    "    # print statistics on our updated population\n",
    "    fits=findFitness()\n",
    "\n",
    "    # plot an arbitrary organism\n",
    "    x = [i/100 for i in range(len(pop[0]))]\n",
    "    y = [1 for i in x]\n",
    "    colors = ['r' if pop[0][i]==0 else 'b' for i in range(len(pop[0]))]\n",
    "    plt.scatter(x, y, c=colors, alpha=0.5)\n",
    "    #plt.show()\n",
    "#plt.scatter(x,y, c=colors, alpha=.5)\n",
    "#plt.show()"
   ]
  },
  {
   "cell_type": "markdown",
   "metadata": {
    "id": "Cot8XdQGq5Fq",
    "pycharm": {
     "name": "#%% md\n"
    }
   },
   "source": [
    "# Your tasks:\n",
    "This lab *is* fairly open-ended. I look forward to seeing what you come up with:\n",
    "\n",
    "## 1. Find optimum with ES.\n",
    "Chose an [artificial landscape](https://en.wikipedia.org/wiki/Test_functions_for_optimization). Find optimum using an evolutionary strategy we talked about in class."
   ]
  },
  {
   "cell_type": "code",
   "execution_count": 12,
   "metadata": {
    "collapsed": false,
    "pycharm": {
     "name": "#%%\n"
    }
   },
   "outputs": [
    {
     "name": "stdout",
     "output_type": "stream",
     "text": [
      "best eval value  0.00045407359720025424\n",
      "point  (0.9928247994093108, 2.9972383572418204)\n"
     ]
    },
    {
     "data": {
      "image/png": "[encoded data removed]",
      "text/plain": [
       "<Figure size 640x480 with 1 Axes>"
      ]
     },
     "metadata": {},
     "output_type": "display_data"
    }
   ],
   "source": [
    "import numpy as np\n",
    "import random\n",
    "from copy import deepcopy\n",
    "import gym\n",
    "import matplotlib.pyplot as plt\n",
    "\n",
    "\n",
    "# Your code here\n",
    "def booth(x,y):\n",
    "    return (x+2*y-7)**2 + (2*x+y-5)**2\n",
    "\n",
    "def evaluation(x,y):\n",
    "    return booth(x,y)\n",
    "\n",
    "\n",
    "spred = 0.5\n",
    "\n",
    "def mutatate(x,y):\n",
    "    x = x+(random.randint(-5, 5)/10)\n",
    "    y = y+(random.randint(-5, 5)/10)\n",
    "    return (x,y )\n",
    "\n",
    "\n",
    "population_size = 20\n",
    "\n",
    "best = (random.randint(-10, 10), random.randint(-10, 10))\n",
    "\n",
    "\n",
    "def generate_population():\n",
    "    population = []\n",
    "    for i in range(population_size):\n",
    "        new_point = (best[0] + (random.uniform(-spred,spred)),\n",
    "                     best[1] + (random.uniform(-spred, spred)))\n",
    "        #new_x, new_y = mutatate(new_point[0], new_point[1])\n",
    "        population.append((new_point[0], new_point[1]))\n",
    "    return population\n",
    "\n",
    "pop = generate_population()\n",
    "\n",
    "eval_best = evaluation(best[0], best[1])\n",
    "ys = []\n",
    "\n",
    "for i in range(100):\n",
    "    for inv in pop:\n",
    "        new_eval = evaluation(inv[0], inv[1])\n",
    "    \n",
    "        if new_eval < eval_best:\n",
    "            best = (inv[0], inv[1])\n",
    "            eval_best = new_eval\n",
    "    pop = generate_population()\n",
    "    ys.append(eval_best)\n",
    "\n",
    "plt.plot(ys)\n",
    "print(\"best eval value \",eval_best)\n",
    "print(\"point \", best)"
   ]
  },
  {
   "cell_type": "markdown",
   "metadata": {
    "collapsed": false,
    "pycharm": {
     "name": "#%% md\n"
    }
   },
   "source": [
    "## 2. Evolve a simple gaming neural net with GA.\n",
    "Evolve a neural network that plays a game of your choice from `gym` (LunarLander-v2 is cool).\n",
    "We don't need `torch` since we don't care about gradients. We can use numpy—numpy matrices can easily be multiplied.\n",
    "`deap` *can* deal with numpy arrays, though I recommend making functions that map weights to lists and vice versa."
   ]
  },
  {
   "cell_type": "code",
   "execution_count": 16,
   "metadata": {},
   "outputs": [
    {
     "name": "stdout",
     "output_type": "stream",
     "text": [
      "-- Generation 1 --\n"
     ]
    },
    {
     "name": "stderr",
     "output_type": "stream",
     "text": [
      "C:\\Users\\mari9\\AppData\\Local\\Temp\\ipykernel_16844\\2838976823.py:70: VisibleDeprecationWarning: Creating an ndarray from ragged nested sequences (which is a list-or-tuple of lists-or-tuples-or ndarrays with different lengths or shapes) is deprecated. If you meant to do this, you must specify 'dtype=object' when creating the ndarray.\n",
      "  nerual_network = np.array(individual)\n"
     ]
    },
    {
     "name": "stdout",
     "output_type": "stream",
     "text": [
      "  Median  -416.15338791933345\n",
      "-- Generation 2 --\n",
      "  Median  -247.93351900622596\n",
      "-- Generation 3 --\n",
      "  Median  -174.0180505146335\n",
      "-- Generation 4 --\n",
      "  Median  -257.8401917985574\n",
      "-- Generation 5 --\n",
      "  Median  -161.27652595770195\n",
      "-- Generation 6 --\n",
      "  Median  -191.8748911853516\n",
      "-- Generation 7 --\n",
      "  Median  -183.24638872997417\n",
      "-- Generation 8 --\n",
      "  Median  -153.7557674758255\n",
      "-- Generation 9 --\n",
      "  Median  -157.88103885069867\n",
      "-- Generation 10 --\n",
      "  Median  -158.2017464349952\n",
      "-- Generation 11 --\n",
      "  Median  -148.3987578040062\n",
      "-- Generation 12 --\n",
      "  Median  -131.54059800001704\n",
      "-- Generation 13 --\n",
      "  Median  -133.24108256437606\n",
      "-- Generation 14 --\n",
      "  Median  -130.6305732235112\n",
      "-- Generation 15 --\n",
      "  Median  -133.94577975894668\n",
      "-- Generation 16 --\n",
      "  Median  -152.86436217199156\n",
      "-- Generation 17 --\n",
      "  Median  -133.83797346569304\n",
      "-- Generation 18 --\n",
      "  Median  -123.58370751829845\n",
      "-- Generation 19 --\n",
      "  Median  -124.36546471437755\n",
      "-- Generation 20 --\n",
      "  Median  -152.0441672215773\n",
      "-- Generation 21 --\n",
      "  Median  -115.3883252443622\n",
      "-- Generation 22 --\n",
      "  Median  -122.90446176025547\n",
      "-- Generation 23 --\n",
      "  Median  -117.63531742344425\n",
      "-- Generation 24 --\n",
      "  Median  -102.16292079485851\n",
      "-- Generation 25 --\n",
      "  Median  -55.017806870454905\n",
      "-- Generation 26 --\n",
      "  Median  -54.96594767439902\n",
      "-- Generation 27 --\n",
      "  Median  -36.850544076856906\n",
      "-- Generation 28 --\n",
      "  Median  -47.22949131919286\n",
      "-- Generation 29 --\n",
      "  Median  -41.232134854299986\n",
      "-- Generation 30 --\n",
      "  Median  -39.08097395786131\n"
     ]
    },
    {
     "data": {
      "image/png": "[encoded data removed]",
      "text/plain": [
       "<Figure size 640x480 with 1 Axes>"
      ]
     },
     "metadata": {},
     "output_type": "display_data"
    }
   ],
   "source": [
    "import numpy as np\n",
    "import random\n",
    "from copy import deepcopy\n",
    "import gym\n",
    "import matplotlib as plt\n",
    "import numpy as np\n",
    "import random\n",
    "from copy import deepcopy\n",
    "import gym\n",
    "import matplotlib.pyplot as plt\n",
    "\n",
    "\n",
    "import gym\n",
    "\n",
    "env = gym.make(\n",
    "    \"LunarLander-v2\",\n",
    "    continuous=False,\n",
    "    gravity=-10.0,\n",
    "    enable_wind=False,\n",
    "    wind_power=15.0,\n",
    "    turbulence_power=1.5\n",
    "    #render_mode='human'\n",
    ")\n",
    "state, _ = env.reset()\n",
    "\n",
    "actionspace = env.action_space.n\n",
    "observationspace = env.observation_space.shape[0]\n",
    "\n",
    "\n",
    "def network(individual):\n",
    "\n",
    "    layer_1 = np.random.rand(observationspace, 32)\n",
    "    layer_2 = np.random.rand(32, actionspace)\n",
    "    lst = [layer_1,layer_2]\n",
    "    return individual(lst)\n",
    "\n",
    "\n",
    "toolbox = base.Toolbox()\n",
    "creator.create(\"FitnessMax\", base.Fitness, weights=(1.0,))\n",
    "creator.create(\"Individual\", list, fitness=creator.FitnessMax)\n",
    "\n",
    "toolbox.register(\"matrix_attr\",  random.random)\n",
    "toolbox.register(\"individual\",  network, creator.Individual)\n",
    "toolbox.register(\"population\", tools.initRepeat, list, toolbox.individual)\n",
    "toolbox.register(\"mutate\", tools.mutFlipBit, indpb=0.05)\n",
    "toolbox.register(\"select\", tools.selTournament, tournsize=4)\n",
    "\n",
    "\n",
    "fitness = []\n",
    "\n",
    "def fitness_for_population(pop):\n",
    "    fits = [ind.fitness.values[0] for ind in pop]\n",
    "    length = len(pop)\n",
    "    mean = sum(fits) / length\n",
    "    sum2 = sum(x*x for x in fits)\n",
    "    std = abs(sum2 / length - mean**2)**0.5\n",
    "\n",
    "    \"\"\"print(\"  Min %s\" % min(fits))\n",
    "    print(\"  Max %s\" % max(fits))\n",
    "    print(\"  Avg %s\" % mean)\"\"\"\n",
    "    print(\"  Median \",np.median(np.array(fits)))\n",
    "    #print(\"  Std %s\" % std)\n",
    "    #print(\"\\n\")\n",
    "    fitness.append(np.median(np.array(fits)))\n",
    "\n",
    "    return fits\n",
    "\n",
    "\n",
    "def get_action(individual, state):\n",
    "    nerual_network = np.array(individual)\n",
    "    mul = np.matmul(nerual_network[0], nerual_network[1])\n",
    "\n",
    "    return np.argmax(np.matmul(mul.T,state))\n",
    "\n",
    "def eval_network(individual):\n",
    "    state, _ = env.reset()\n",
    "    done = False\n",
    "    total_r = 0\n",
    "\n",
    "    while not done:\n",
    "        action = get_action(individual, state)  # env.action_space.sample #\n",
    "        next_state, reward, done, _, _ = env.step(action)\n",
    "        total_r += reward\n",
    "        state = next_state\n",
    "    return total_r,\n",
    "\n",
    "\n",
    "def mutate_network(offspring):\n",
    "    mutate_chance = 0.15\n",
    "    for individual in offspring:\n",
    "        if random.random() < mutate_chance:\n",
    "            for layer in individual:\n",
    "                for node in layer:\n",
    "                    toolbox.mutate(node)\n",
    "            tools.mutGaussian(individual,0.0,0.2,0.5)\n",
    "    return offspring\n",
    "\n",
    "\n",
    "toolbox.register(\"evaluate\", eval_network)\n",
    "\n",
    "\n",
    "# Variable keeping track of the number of generations\n",
    "\n",
    "\n",
    "ys = []\n",
    "\n",
    "# 30 itr 100pop = 1min\n",
    "itr = 30   \n",
    "pop_size = 100\n",
    "\n",
    "\n",
    "generation = 0\n",
    "pop = toolbox.population(n=pop_size)\n",
    "best_eval = np.float64(0)\n",
    "best = None\n",
    "\n",
    "# Begin the evolution\n",
    "\n",
    "plt.ion()\n",
    "while generation < itr:\n",
    "\n",
    "    generation = generation + 1\n",
    "    print(\"-- Generation %i --\" % generation)\n",
    "\n",
    "    offspring = toolbox.select(pop,len(pop))\n",
    "    offspring = list(map(toolbox.clone, offspring))\n",
    "    \n",
    "    mutate_network(offspring)\n",
    "    for i in range(len(offspring)):\n",
    "        #print(i,(len(offspring)))\n",
    "        eval_fit = toolbox.evaluate(offspring[i])\n",
    "        \n",
    "        \n",
    "        if eval_fit > best_eval:\n",
    "            best_eval = eval_fit\n",
    "            best = offspring[i]\n",
    "            best.fitness.values = eval_fit\n",
    "            \n",
    "        offspring[i].fitness.values = eval_fit\n",
    "    pop[:] = offspring\n",
    "    fits = fitness_for_population(pop)\n",
    "\n",
    "\n",
    "\"\"\"    plt.plot(ys)\n",
    "    plt.draw()\n",
    "    plt.pause(0.0001)\n",
    "    plt.clf()\"\"\"\n",
    "\n",
    "plt.plot(fitness)\n",
    "env.close()\n",
    "\n",
    "\n",
    "#print(best)\n",
    "    \n"
   ]
  },
  {
   "cell_type": "code",
   "execution_count": 17,
   "metadata": {},
   "outputs": [
    {
     "name": "stderr",
     "output_type": "stream",
     "text": [
      "C:\\Users\\mari9\\AppData\\Local\\Temp\\ipykernel_16844\\2838976823.py:70: VisibleDeprecationWarning: Creating an ndarray from ragged nested sequences (which is a list-or-tuple of lists-or-tuples-or ndarrays with different lengths or shapes) is deprecated. If you meant to do this, you must specify 'dtype=object' when creating the ndarray.\n",
      "  nerual_network = np.array(individual)\n"
     ]
    }
   ],
   "source": [
    "import gym\n",
    "env = gym.make(\n",
    "    \"LunarLander-v2\",\n",
    "    continuous=False,\n",
    "    gravity=-10.0,\n",
    "    enable_wind=False,\n",
    "    wind_power=15.0,\n",
    "    turbulence_power=1.5,\n",
    "    render_mode='human'\n",
    ")\n",
    "\n",
    "state, _ = env.reset()\n",
    "\n",
    "actionspace = env.action_space.n\n",
    "observationspace = env.observation_space.shape[0]\n",
    "\n",
    "\n",
    "for episode in range(5):\n",
    "    env.reset()\n",
    "    while True:\n",
    "        env.render()\n",
    "        action = get_action(best,state)\n",
    "        next_state, reward, done, t, info = env.step(action)\n",
    "\n",
    "        if done:\n",
    "            break\n",
    "env.close()\n"
   ]
  },
  {
   "cell_type": "code",
   "execution_count": null,
   "metadata": {},
   "outputs": [],
   "source": [
    "for episode in range(5):\n",
    "    env.reset()\n",
    "    while True:\n",
    "        env.render()\n",
    "        action = env.action_space.sample()\n",
    "        next_state, reward, done, t, info = env.step(action)\n",
    "\n",
    "        if done:\n",
    "            break\n",
    "env.close()\n"
   ]
  },
  {
   "cell_type": "markdown",
   "metadata": {
    "collapsed": false,
    "pycharm": {
     "name": "#%% md\n"
    }
   },
   "source": [
    "## 3. Implement Hebbian Learning on AND and OR logic gates.\n",
    "Make functions that given an input of the kind `[1,1,0]`, `[0,0,0]`, etc.:\n",
    "1. Returns 1 if input is all ones, otherwise 0 (AND).\n",
    "2. Returns 1 if at least one element is 1, otherwise 0 (OR).\n",
    "3. Optional: XOR."
   ]
  },
  {
   "cell_type": "code",
   "execution_count": null,
   "metadata": {
    "collapsed": false,
    "pycharm": {
     "name": "#%%\n"
    }
   },
   "outputs": [],
   "source": [
    "nodes = 3\n",
    "and_network = [0]*nodes \n",
    "or_network = [0]*nodes\n",
    "xor_network = [0]*nodes\n",
    "\n",
    "and_target =[(-1,-1,-1), (-1,1,-1), (1,-1,-1), (1,1,1)]\n",
    "or_target =[(-1, -1, -1), (-1, 1, 1), (1, -1, 1), (1, 1, 1)]\n",
    "\n",
    "def modify(w,x1,x2,y):\n",
    "    w[0] = w[0] + x1*y\n",
    "    w[1] = w[1] + x2*y\n",
    "    w[2] = w[2] + y\n",
    "\n",
    "def learn_target(target, network):\n",
    "    for x1, x2, y in target:\n",
    "        modify(network, x1, x2, y)\n",
    "    \n",
    "def test(network,a,b):\n",
    "    x = a*network[0]\n",
    "    y = b*network[1]\n",
    "    bias = network[2]\n",
    "    return x+y+bias \n",
    "\n",
    "\n",
    "learn_target(and_target,and_network)\n",
    "learn_target(or_target, or_network)\n",
    "\n",
    "print(\"AND test\", \"(1,1) -> 1 network:\",test(and_network,1,1))\n",
    "print(\"AND test\", \"(-1,1) -> -1 network:\", test(and_network, -1, 1))\n",
    "print(\"AND test\", \"(-1,-1) -> -1 network:\", test(and_network, -1, -1))\n",
    "print(\"\\n\")\n",
    "print(\"OR test\",\"(-1,1) -> 1 network:\",test(or_network,-1,1))\n",
    "print(\"OR test\",\"(1,1) -> 1 network:\", test(or_network, 1, 1))\n",
    "print(\"OR test\", \"(-1,-1) -> -1 network:\", test(or_network, -1, -1))\n"
   ]
  },
  {
   "cell_type": "markdown",
   "metadata": {
    "collapsed": false,
    "pycharm": {
     "name": "#%% md\n"
    }
   },
   "source": [
    "## Optional (and awesome): Do Hebbian Learning over Reinforcement Learning for the Lunar Lander from gym (LunarLander-v2).\n",
    "![](https://www.gymlibrary.dev/_images/lunar_lander.gif)"
   ]
  },
  {
   "cell_type": "code",
   "execution_count": null,
   "metadata": {
    "collapsed": false,
    "pycharm": {
     "name": "#%%\n"
    }
   },
   "outputs": [],
   "source": [
    "# Your code"
   ]
  }
 ],
 "metadata": {
  "colab": {
   "name": "lab.ipynb",
   "provenance": []
  },
  "kernelspec": {
   "display_name": "Python 3.10.2 64-bit",
   "language": "python",
   "name": "python3"
  },
  "language_info": {
   "codemirror_mode": {
    "name": "ipython",
    "version": 3
   },
   "file_extension": ".py",
   "mimetype": "text/x-python",
   "name": "python",
   "nbconvert_exporter": "python",
   "pygments_lexer": "ipython3",
   "version": "3.10.2"
  },
  "vscode": {
   "interpreter": {
    "hash": "8a9cc3d5033db7a69cc0cff3732b1a7e010a67b5ff3241f0937560160e7695f0"
   }
  }
 },
 "nbformat": 4,
 "nbformat_minor": 0
}
