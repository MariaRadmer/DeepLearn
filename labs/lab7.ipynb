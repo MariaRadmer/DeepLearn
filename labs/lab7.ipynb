{
 "cells": [
  {
   "cell_type": "markdown",
   "metadata": {
    "id": "0V9I6y4g9zrj",
    "pycharm": {
     "name": "#%% md\n"
    }
   },
   "source": [
    "# Genetic Algorithms with DEAP\n",
    "\n",
    "Source: [Kevin Sikorski](https://colab.research.google.com/github/jfogarty/machine-learning-intro-workshop/blob/master/notebooks/genetic-algorithms-with-deap.ipynb)\n",
    "\n",
    "In this lab, we will first learn how to use a simple and easy-to-use implementation of a Genetic Algorithm using DEAP library in Python.\n",
    "Then you'll write code that optimised position in artificial landscapes, use GA on a simple neuralnet to control a game, and use Hebbian Learning to implement simple logic gates."
   ]
  },
  {
   "cell_type": "markdown",
   "metadata": {
    "id": "BSZa4hf3qyRO",
    "pycharm": {
     "name": "#%% md\n"
    }
   },
   "source": [
    "# Terminology\n",
    "\n",
    "### Individual\n",
    "Genetic Algorithms make use of an analogy to genetics, where we use a population of randomly generated individuals, each with some genetic code.  This code represents a potential solution to the problem.  The representation of the solution depends on the particular problem we are addressing, but it generally consists of a data structure.  It could contain one or more strings like \"ACGTCACTCGGATGC\" if we are dealing with DNA, real-valued data if we are dealing with vectors, arbitrary and mutually-exclusive concepts like \"January\", \"February\", and \"December\", or anything else. \n",
    "\n",
    "### Fitness \n",
    "Since these solutions are chosen at random, some are better than others.  We need to be able to evaluate how good a particular solution is.  We do this by defining a fitness function (called an evaulation function in the example below).  This takes in an individual or its genetic code, and outputs a scalar number that allows us to compare fitness between individuals.\n",
    "\n",
    "### Mutation\n",
    "In the real world, genetic code mutates due to random events like cosmic rays and nuclear decay, or due to random transcription errors.  We simulate this in genetic algorithms with a mutation rate.  Here with a low probability, we randomly change one or more elements of the genetic code of an individual.  This might be changing a number encoded in it (either a little or a lot), flipping a bit in a string, or randomizing the month in a date-time field.\n",
    "\n",
    "### Crossover\n",
    "In the real world, mating between individuals produces offspring with genetic code that is a combination of the parents.  This is simulated with crossover.  In the first diagram below we show two parents at the top, each with different genetic material.  Two offspring are shown below, each the product of crossover.  The parent's genetic code is broken at a randomly selected point.  The right half of the red parent is attached to the left half of the blue parent to produce one offspring's genes; the remaining pieces are similarly concatenated to make the other offspring's genes.\n",
    "\n",
    "Geometrically, you can think of crossover as a projection of one parent's genetic code to a random plane in the search space that contains the other parent's genetic code.  (This plane will also be aligned with one of the basis vectors of the genetic code.)  The Crossover as projection diagram below shows an example involving two parents in magenta with genetic code (0,0) and (1,1).  When crossover occurs, we produce the cyan individuals with genetic code (0,1) and (1,0) by taking the first element from one parent and the second element from the second parent.  Or phrased geometrically, by projecting one parent's point to the Y-axis (the basis vector for the second element of the genetic code), and the the other parent's point to the X-axis."
   ]
  },
  {
   "cell_type": "code",
   "execution_count": 4,
   "metadata": {
    "colab": {
     "base_uri": "https://localhost:8080/",
     "height": 281
    },
    "id": "NCUOiAsN2uhD",
    "outputId": "ca3d51a9-0442-49a6-c1fb-dfbeda0cf49d",
    "pycharm": {
     "name": "#%%\n"
    }
   },
   "outputs": [
    {
     "data": {
      "image/png": "[encoded data removed]",
      "text/plain": [
       "<Figure size 640x480 with 2 Axes>"
      ]
     },
     "metadata": {},
     "output_type": "display_data"
    }
   ],
   "source": [
    "import matplotlib.pyplot as plt\n",
    "\n",
    "plt.subplot(1,2,1)\n",
    "plt.title(\"Crossover\")\n",
    "fig=plt.plot((0, 1), (5, 5), linewidth=5, color='b')\n",
    "fig=plt.plot((0, 1), (4, 4), linewidth=5, color='r')\n",
    "fig=plt.plot((0, 0.6), (2, 2), linewidth=5, color='b')\n",
    "fig=plt.plot((0, 0.6), (1, 1), linewidth=5, color='r')\n",
    "fig=plt.plot((0.6, 1), (1, 1), linewidth=5, color='b')\n",
    "fig=plt.plot((0.6, 1), (2, 2), linewidth=5, color='r')\n",
    "\n",
    "plt.subplot(1,2,2)\n",
    "plt.scatter([0, 1], [0,1], color='m', lw=3)\n",
    "plt.scatter([1, 0], [0,1], color='c', lw=3)\n",
    "plt.title(\"Crossover as projection\")\n",
    "\n",
    "plt.show()"
   ]
  },
  {
   "cell_type": "markdown",
   "metadata": {
    "id": "MQo4tsn4-PoP",
    "pycharm": {
     "name": "#%% md\n"
    }
   },
   "source": [
    "# One Max Problem\n",
    "This example will help new users to overview some of the DEAP framework’s possibilities and illustrate the potential of evolutionary algorithms in general. The problem itself is both very simple and widely used in the evolutionary computational community. We will create a population of individuals consisting of integer vectors randomly filled with 0 and 1. Then we let our population evolve until one of its members contains only 1 and no 0 anymore.\n"
   ]
  },
  {
   "cell_type": "code",
   "execution_count": 5,
   "metadata": {
    "colab": {
     "base_uri": "https://localhost:8080/"
    },
    "id": "n1TlDbXM9YBy",
    "outputId": "2bf3c5c0-5303-4c04-ed50-dca816eb88b4",
    "pycharm": {
     "name": "#%%\n"
    }
   },
   "outputs": [
    {
     "name": "stdout",
     "output_type": "stream",
     "text": [
      "Requirement already satisfied: deap in c:\\users\\mari9\\appdata\\local\\programs\\python\\python37\\lib\\site-packages (1.3.3)\n",
      "Requirement already satisfied: numpy in c:\\users\\mari9\\appdata\\local\\programs\\python\\python37\\lib\\site-packages (from deap) (1.21.6)\n"
     ]
    },
    {
     "name": "stderr",
     "output_type": "stream",
     "text": [
      "\n",
      "[notice] A new release of pip is available: 23.0.1 -> 23.1\n",
      "[notice] To update, run: C:\\Users\\mari9\\AppData\\Local\\Programs\\Python\\Python37\\python.exe -m pip install --upgrade pip\n"
     ]
    }
   ],
   "source": [
    "import random\n",
    "\n",
    "!pip install deap\n",
    "from deap import base\n",
    "from deap import creator\n",
    "from deap import tools\n",
    "  "
   ]
  },
  {
   "cell_type": "markdown",
   "metadata": {
    "id": "5j5Cu17P-Wf9",
    "pycharm": {
     "name": "#%% md\n"
    }
   },
   "source": [
    "## Creator\n",
    "Since the actual structure of the required individuals in genetic algorithms does strongly depend on the task at hand, DEAP does not contain any explicit structure. It will rather provide a convenient method for creating containers of attributes, associated with fitnesses, called the deap.creator. Using this method we can create custom individuals in a very simple way.\n",
    "\n",
    "The creator is a class factory that can build new classes at run-time. It will be called with first the desired name of the new class, second the base class it will inherit, and in addition any subsequent arguments you want to become attributes of your class. This allows us to build new and complex structures of any type of container from lists to n-ary trees."
   ]
  },
  {
   "cell_type": "code",
   "execution_count": 3,
   "metadata": {
    "id": "ZFeTYVBn-XCY",
    "pycharm": {
     "name": "#%%\n"
    }
   },
   "outputs": [],
   "source": [
    "creator.create(\"FitnessMax\", base.Fitness, weights=(1.0,))\n",
    "creator.create(\"Individual\", list, fitness=creator.FitnessMax)"
   ]
  },
  {
   "cell_type": "markdown",
   "metadata": {
    "id": "vi1UTZS1-cdv",
    "pycharm": {
     "name": "#%% md\n"
    }
   },
   "source": [
    "First we will define the class FitnessMax. It will inherit the Fitness class of the deap.base module and contain an additional attribute called weights. Please mind the value of weights to be the tuple (1.0,). This way we will be maximizing a single objective fitness. We can’t repeat it enough, in DEAP single objectives is a special case of multi objectives.\n",
    "\n",
    "Next we will create the class Individual, which will inherit the class list and contain our previously defined FitnessMax class in its fitness attribute. Note that upon creation all our defined classes will be part of the creator container and can be called directly.\n",
    "\n",
    "## Toolbox\n",
    "Now we will use our custom classes to create types representing our individuals as well as our whole population.\n",
    "\n",
    "All the objects we will use on our way, an individual, the population, as well as all functions, operators, and arguments will be stored in a DEAP container called Toolbox. It contains two methods for adding and removing content, register() and unregister()."
   ]
  },
  {
   "cell_type": "code",
   "execution_count": 4,
   "metadata": {
    "id": "HS3iXNSW-gS8",
    "pycharm": {
     "name": "#%%\n"
    }
   },
   "outputs": [],
   "source": [
    "toolbox = base.Toolbox()\n",
    "# Attribute generator \n",
    "toolbox.register(\"attr_bool\", random.randint, 0, 1)\n",
    "# Structure initializers\n",
    "toolbox.register(\"individual\", tools.initRepeat, creator.Individual, \n",
    "    toolbox.attr_bool, 100)\n",
    "toolbox.register(\"population\", tools.initRepeat, list, toolbox.individual)"
   ]
  },
  {
   "cell_type": "markdown",
   "metadata": {
    "id": "JO9v6Wx_-jam",
    "pycharm": {
     "name": "#%% md\n"
    }
   },
   "source": [
    "In this code block we register a generation function toolbox.attr_bool() and two initialization ones individual() and population(). toolbox.attr_bool(), when called, will draw a random integer between 0 and 1. The two initializers, on the other hand, will instantiate an individual or population.\n",
    "\n",
    "The registration of the tools to the toolbox only associates aliases to the already existing functions and freezes part of their arguments. This allows us to fix an arbitrary amount of argument at certain values so we only have to specify the remaining ones when calling the method. For example, the attr_bool() generator is made from the randint() function that takes two arguments a and b, with a <= n <= b, where n is the returned integer. Here, we fix a = 0 and b = 1.\n",
    "\n",
    "Our individuals will be generated using the function initRepeat(). Its first argument is a container class, in our example the Individual one we defined in the previous section. This container will be filled using the method attr_bool(), provided as second argument, and will contain 100 integers, as specified using the third argument. When called, the individual() method will thus return an individual initialized with what would be returned by calling the attr_bool() method 100 times. Finally, the population() method uses the same paradigm, but we don’t fix the number of individuals that it should contain.\n",
    "\n",
    "## The Evaluation Function\n",
    "The evaluation function is pretty simple in our example. We just need to count the number of ones in an individual."
   ]
  },
  {
   "cell_type": "code",
   "execution_count": 5,
   "metadata": {
    "colab": {
     "base_uri": "https://localhost:8080/"
    },
    "id": "s9XjIzai-lvs",
    "outputId": "83d25dd8-66a7-457c-c3c6-4e0121940702",
    "pycharm": {
     "name": "#%%\n"
    }
   },
   "outputs": [
    {
     "name": "stdout",
     "output_type": "stream",
     "text": [
      "(0,)\n",
      "(2,)\n",
      "(4,)\n"
     ]
    }
   ],
   "source": [
    "def evalOneMax(individual):\n",
    "    return sum(individual),\n",
    "  \n",
    "print(evalOneMax([0,0,0,0]))\n",
    "print(evalOneMax([0,1,0,1]))\n",
    "print(evalOneMax([1,1,1,1]))\n"
   ]
  },
  {
   "cell_type": "markdown",
   "metadata": {
    "id": "vhwe8gl3-nVT",
    "pycharm": {
     "name": "#%% md\n"
    }
   },
   "source": [
    "## The Genetic Operators\n",
    "Within DEAP there are two ways of using operators. We can either simply call a function from the tools module or register it with its arguments in a toolbox, as we have already seen for our initialization methods. The most convenient way, however, is to register them in the toolbox, because this allows us to easily switch between the operators if desired. The toolbox method is also used when working with the algorithms module. See the [One Max Problem: Short Version](https://deap.readthedocs.io/en/master/examples/ga_onemax_short.html#short-ga-onemax) for an example.\n",
    "\n",
    "Registering the genetic operators required for the evolution in our One Max problem and their default arguments in the toolbox is done as follows."
   ]
  },
  {
   "cell_type": "code",
   "execution_count": 6,
   "metadata": {
    "id": "AoLoTIuj-ppU",
    "pycharm": {
     "name": "#%%\n"
    }
   },
   "outputs": [],
   "source": [
    "toolbox.register(\"evaluate\", evalOneMax)\n",
    "toolbox.register(\"mate\", tools.cxTwoPoint)\n",
    "toolbox.register(\"mutate\", tools.mutFlipBit, indpb=0.05)\n",
    "toolbox.register(\"select\", tools.selTournament, tournsize=3)"
   ]
  },
  {
   "cell_type": "markdown",
   "metadata": {
    "id": "pzSud0CF-q_y",
    "pycharm": {
     "name": "#%% md\n"
    }
   },
   "source": [
    "The evaluation will be performed by calling the alias evaluate. It is important to not fix its argument in here. We will need it later on to apply the function to each separate individual in our population. The mutation, on the other hand, needs an argument to be fixed (the independent probability of each attribute to be mutated indpb).\n",
    "\n",
    "## Evolving the Population\n",
    "Once the representation and the genetic operators are chosen, we will define an algorithm combining all the individual parts and performing the evolution of our population until the One Max problem is solved.\n",
    "\n",
    "## Creating the Population\n",
    "First of all, we need to actually instantiate our population. But this step is effortlessly done using the population() method we registered in our toolbox earlier on."
   ]
  },
  {
   "cell_type": "code",
   "execution_count": 7,
   "metadata": {
    "id": "F30uZtcp-u79",
    "pycharm": {
     "name": "#%%\n"
    }
   },
   "outputs": [],
   "source": [
    "pop = toolbox.population(n=300)\n",
    "\n",
    "# Evaluate the entire population\n",
    "fitnesses = list(map(toolbox.evaluate, pop))\n",
    "for ind, fit in zip(pop, fitnesses):\n",
    "    ind.fitness.values = fit\n"
   ]
  },
  {
   "cell_type": "markdown",
   "metadata": {
    "id": "bUw_9gTr-wjK",
    "pycharm": {
     "name": "#%% md\n"
    }
   },
   "source": [
    "**pop** will be a list composed of 300 individuals. Since we left the parameter **n** open during the registration of the population() method in our toolbox, we are free to create populations of arbitrary size.\n",
    "\n",
    "Before we go on, this is the time to define some constants we will use later on."
   ]
  },
  {
   "cell_type": "code",
   "execution_count": 8,
   "metadata": {
    "id": "Dx5L38zU-x1H",
    "pycharm": {
     "name": "#%%\n"
    }
   },
   "outputs": [],
   "source": [
    "# CXPB  is the probability with which two individuals\n",
    "#       are crossed\n",
    "#\n",
    "# MUTPB is the probability for mutating an individual\n",
    "CXPB, MUTPB = 0.5, 0.2"
   ]
  },
  {
   "cell_type": "markdown",
   "metadata": {
    "id": "V1QT9wKN-2E8",
    "pycharm": {
     "name": "#%% md\n"
    }
   },
   "source": [
    "## Evaluating the Population\n",
    "The next thing to do is to evaluate our brand new population.  We map() the evaluation function to every individual and then assign their respective fitness. Note that the order in fitnesses and population is the same.\n",
    "\n",
    "The evolution of the population is the final step we have to accomplish. Recall, our individuals consist of 100 integer numbers and we want to evolve our population until we got at least one individual consisting of only 1s and no 0s. So all we have to do is to obtain the fitness values of the individuals!\n",
    "\n",
    "To check the performance of the evolution, we will calculate and print the minimal, maximal, and mean values of the fitnesses of all individuals in our population as well as their standard deviations."
   ]
  },
  {
   "cell_type": "code",
   "execution_count": 9,
   "metadata": {
    "colab": {
     "base_uri": "https://localhost:8080/"
    },
    "id": "PtryFa_TJxWa",
    "outputId": "24d864d4-9ee9-4d7a-95df-a67978dd3024",
    "pycharm": {
     "name": "#%%\n"
    }
   },
   "outputs": [
    {
     "name": "stdout",
     "output_type": "stream",
     "text": [
      "  Min 37.0\n",
      "  Max 62.0\n",
      "  Avg 49.67333333333333\n",
      "  Std 4.524741858812376\n"
     ]
    }
   ],
   "source": [
    "def findFitness():\n",
    "    fits = [ind.fitness.values[0] for ind in pop]\n",
    "        \n",
    "    length = len(pop)\n",
    "    mean = sum(fits) / length\n",
    "    sum2 = sum(x*x for x in fits)\n",
    "    std = abs(sum2 / length - mean**2)**0.5\n",
    "\n",
    "    print(\"  Min %s\" % min(fits))\n",
    "    print(\"  Max %s\" % max(fits))\n",
    "    print(\"  Avg %s\" % mean)\n",
    "    print(\"  Std %s\" % std)\n",
    "    return fits\n",
    "    \n",
    "fits=findFitness()"
   ]
  },
  {
   "cell_type": "markdown",
   "metadata": {
    "id": "Dfh6gnNQ-5Wy",
    "pycharm": {
     "name": "#%% md\n"
    }
   },
   "source": [
    "## Mating and Mutation\n",
    "\n",
    "In genetic algorithms, evolution occurs via either mutation or crossover, both of which happen (or don't happen) randomly.  In mutation, we change one or more of the genes of one of our individuals.  In cross-over, two individuals are mated to mix their genes.\n",
    "\n",
    "The crossover (or mating) and mutation operators, provided within DEAP, usually take respectively 2 or 1 individual(s) as input and return 2 or 1 modified individual(s). In addition they modify those individuals within the toolbox container and we do not need to reassign their results.\n",
    "\n",
    "We will perform both the crossover (mating) and the mutation of the produced children with a certain probability of CXPB and MUTPB. The del statement will invalidate the fitness of the modified offspring."
   ]
  },
  {
   "cell_type": "code",
   "execution_count": 10,
   "metadata": {
    "id": "M6ssqRncEIDN",
    "pycharm": {
     "name": "#%%\n"
    }
   },
   "outputs": [],
   "source": [
    "def mateAndMutate(offspring):\n",
    "    for child1, child2 in zip(offspring[::2], offspring[1::2]):\n",
    "        if random.random() < CXPB:\n",
    "            toolbox.mate(child1, child2)\n",
    "            del child1.fitness.values\n",
    "            del child2.fitness.values\n",
    "\n",
    "    for mutant in offspring:\n",
    "        if random.random() < MUTPB:\n",
    "            toolbox.mutate(mutant)\n",
    "            del mutant.fitness.values\n",
    "            \n"
   ]
  },
  {
   "cell_type": "markdown",
   "metadata": {
    "id": "mEOPfK92--q-",
    "pycharm": {
     "name": "#%% md\n"
    }
   },
   "source": [
    "## The Main Loop\n",
    "\n",
    "This will creates an offspring list, which is an exact copy of the selected individuals. The toolbox.clone() method ensure that we don’t use a reference to the individuals but an completely independent instance. This is of utter importance since the genetic operators in toolbox will modify the provided objects in-place.\n",
    "\n",
    "We then mutate and mate the individuals to find the next generation of individuals.  We evaluate them, and continue until one of our individuals evolves to be the perfect organism (fitness of 100 or more), or until the number of generations reaches 1000.\n",
    "\n",
    "At each generation, we output some statistics about that generation's population, as well as a graph of the genetic material for an arbitrary individual.  A 0 in the genetic material is drawn in red, and a 1 is drawn in blue."
   ]
  },
  {
   "cell_type": "code",
   "execution_count": 11,
   "metadata": {
    "colab": {
     "base_uri": "https://localhost:8080/",
     "height": 1000
    },
    "id": "Df-rsxoX-6vj",
    "outputId": "36264f12-cbce-41a3-f8fe-9ce3018a17a6",
    "pycharm": {
     "name": "#%%\n"
    }
   },
   "outputs": [
    {
     "name": "stdout",
     "output_type": "stream",
     "text": [
      "  Min 44.0\n",
      "  Max 63.0\n",
      "  Avg 53.57666666666667\n",
      "  Std 3.8128015363450234\n",
      "  Min 48.0\n",
      "  Max 64.0\n",
      "  Avg 56.86333333333334\n",
      "  Std 3.142926802979743\n",
      "  Min 50.0\n",
      "  Max 68.0\n",
      "  Avg 59.373333333333335\n",
      "  Std 2.8718093406228697\n",
      "  Min 54.0\n",
      "  Max 70.0\n",
      "  Avg 61.553333333333335\n",
      "  Std 2.792935532533573\n",
      "  Min 56.0\n",
      "  Max 70.0\n",
      "  Avg 63.72\n",
      "  Std 2.6397474626688724\n",
      "  Min 58.0\n",
      "  Max 72.0\n",
      "  Avg 65.68666666666667\n",
      "  Std 2.502363327381094\n",
      "  Min 54.0\n",
      "  Max 76.0\n",
      "  Avg 67.44333333333333\n",
      "  Std 2.767692580873556\n",
      "  Min 62.0\n",
      "  Max 77.0\n",
      "  Avg 69.17333333333333\n",
      "  Std 2.5527675613385554\n",
      "  Min 62.0\n",
      "  Max 79.0\n",
      "  Avg 70.91666666666667\n",
      "  Std 2.614648903560093\n",
      "  Min 62.0\n",
      "  Max 80.0\n",
      "  Avg 72.33666666666667\n",
      "  Std 2.7874699799079976\n",
      "  Min 66.0\n",
      "  Max 82.0\n",
      "  Avg 73.92666666666666\n",
      "  Std 2.610483139616529\n",
      "  Min 67.0\n",
      "  Max 83.0\n",
      "  Avg 75.61333333333333\n",
      "  Std 2.4665405373159404\n",
      "  Min 67.0\n",
      "  Max 86.0\n",
      "  Avg 77.06333333333333\n",
      "  Std 2.7348349533788023\n",
      "  Min 66.0\n",
      "  Max 84.0\n",
      "  Avg 78.63666666666667\n",
      "  Std 2.803210461040703\n",
      "  Min 72.0\n",
      "  Max 85.0\n",
      "  Avg 80.09333333333333\n",
      "  Std 2.5582459268455278\n",
      "  Min 71.0\n",
      "  Max 87.0\n",
      "  Avg 81.36333333333333\n",
      "  Std 2.4079013453398477\n",
      "  Min 75.0\n",
      "  Max 88.0\n",
      "  Avg 82.65333333333334\n",
      "  Std 2.246439157619951\n",
      "  Min 75.0\n",
      "  Max 89.0\n",
      "  Avg 83.68666666666667\n",
      "  Std 2.2572451252701202\n",
      "  Min 75.0\n",
      "  Max 90.0\n",
      "  Avg 84.58333333333333\n",
      "  Std 2.3557848420904133\n",
      "  Min 77.0\n",
      "  Max 92.0\n",
      "  Avg 85.76\n",
      "  Std 2.2186482371026193\n",
      "  Min 75.0\n",
      "  Max 92.0\n",
      "  Avg 86.80666666666667\n",
      "  Std 2.399157259446611\n",
      "  Min 77.0\n",
      "  Max 93.0\n",
      "  Avg 87.88333333333334\n",
      "  Std 2.533059195693603\n",
      "  Min 79.0\n",
      "  Max 93.0\n",
      "  Avg 88.76666666666667\n",
      "  Std 2.724987257870309\n",
      "  Min 81.0\n",
      "  Max 95.0\n",
      "  Avg 90.02666666666667\n",
      "  Std 2.2299377171171435\n",
      "  Min 82.0\n",
      "  Max 95.0\n",
      "  Avg 90.88\n",
      "  Std 2.2178668430125104\n",
      "  Min 84.0\n",
      "  Max 95.0\n",
      "  Avg 91.72333333333333\n",
      "  Std 2.1432348344401597\n",
      "  Min 82.0\n",
      "  Max 97.0\n",
      "  Avg 92.51333333333334\n",
      "  Std 2.4227715992682937\n",
      "  Min 82.0\n",
      "  Max 97.0\n",
      "  Avg 93.26\n",
      "  Std 2.342164241323177\n",
      "  Min 84.0\n",
      "  Max 98.0\n",
      "  Avg 93.88666666666667\n",
      "  Std 2.4098040492032053\n",
      "  Min 86.0\n",
      "  Max 99.0\n",
      "  Avg 94.76666666666667\n",
      "  Std 2.272785857831122\n",
      "  Min 82.0\n",
      "  Max 99.0\n",
      "  Avg 95.36\n",
      "  Std 2.2591443808073373\n",
      "  Min 86.0\n",
      "  Max 99.0\n",
      "  Avg 96.06666666666666\n",
      "  Std 2.2514193054357907\n",
      "  Min 86.0\n",
      "  Max 99.0\n",
      "  Avg 96.79\n",
      "  Std 2.1289825425928073\n",
      "  Min 88.0\n",
      "  Max 99.0\n",
      "  Avg 97.07666666666667\n",
      "  Std 2.43121140357852\n",
      "  Min 88.0\n",
      "  Max 99.0\n",
      "  Avg 97.51666666666667\n",
      "  Std 2.2142844342036145\n",
      "  Min 89.0\n",
      "  Max 99.0\n",
      "  Avg 98.01333333333334\n",
      "  Std 1.974796754661988\n",
      "  Min 85.0\n",
      "  Max 99.0\n",
      "  Avg 97.92666666666666\n",
      "  Std 2.4196326626624636\n",
      "  Min 88.0\n",
      "  Max 99.0\n",
      "  Avg 97.76666666666667\n",
      "  Std 2.435615368284486\n",
      "  Min 88.0\n",
      "  Max 99.0\n",
      "  Avg 98.14333333333333\n",
      "  Std 2.107792420730628\n",
      "  Min 89.0\n",
      "  Max 99.0\n",
      "  Avg 97.92\n",
      "  Std 2.195510570839394\n",
      "  Min 87.0\n",
      "  Max 99.0\n",
      "  Avg 97.88333333333334\n",
      "  Std 2.408953207423141\n",
      "  Min 88.0\n",
      "  Max 100.0\n",
      "  Avg 97.84333333333333\n",
      "  Std 2.2932049382661757\n"
     ]
    },
    {
     "data": {
      "image/png": "[encoded data removed]",
      "text/plain": [
       "<Figure size 640x480 with 1 Axes>"
      ]
     },
     "metadata": {},
     "output_type": "display_data"
    }
   ],
   "source": [
    "import numpy as np\n",
    "# Variable keeping track of the number of generations\n",
    "g = 0\n",
    "\n",
    "# Begin the evolution\n",
    "while max(fits) < 100 and g < 1000:\n",
    "    # A new generation\n",
    "    g = g + 1\n",
    "    #print(\"-- Generation %i --\" % g)\n",
    "    # Select the next generation individuals\n",
    "    offspring = toolbox.select(pop, len(pop))\n",
    "    # Clone the selected individuals\n",
    "    offspring = list(map(toolbox.clone, offspring))\n",
    "    \n",
    "    # Apply crossover and mutation on the offspring\n",
    "    mateAndMutate(offspring)\n",
    "    \n",
    "    # Evaluate the individuals with an invalid fitness\n",
    "    invalid_ind = [ind for ind in offspring if not ind.fitness.valid]\n",
    "    fitnesses = map(toolbox.evaluate, invalid_ind)\n",
    "    for ind, fit in zip(invalid_ind, fitnesses):\n",
    "        ind.fitness.values = fit\n",
    "    pop[:] = offspring\n",
    "    \n",
    "    # print statistics on our updated population\n",
    "    fits=findFitness()\n",
    "\n",
    "    # plot an arbitrary organism\n",
    "    x = [i/100 for i in range(len(pop[0]))]\n",
    "    y = [1 for i in x]\n",
    "    colors = ['r' if pop[0][i]==0 else 'b' for i in range(len(pop[0]))]\n",
    "    plt.scatter(x, y, c=colors, alpha=0.5)\n",
    "    #plt.show()\n",
    "#plt.scatter(x,y, c=colors, alpha=.5)\n",
    "#plt.show()"
   ]
  },
  {
   "cell_type": "markdown",
   "metadata": {
    "id": "Cot8XdQGq5Fq",
    "pycharm": {
     "name": "#%% md\n"
    }
   },
   "source": [
    "# Your tasks:\n",
    "This lab *is* fairly open-ended. I look forward to seeing what you come up with:\n",
    "\n",
    "## 1. Find optimum with ES.\n",
    "Chose an [artificial landscape](https://en.wikipedia.org/wiki/Test_functions_for_optimization). Find optimum using an evolutionary strategy we talked about in class."
   ]
  },
  {
   "cell_type": "code",
   "execution_count": 12,
   "metadata": {
    "collapsed": false,
    "pycharm": {
     "name": "#%%\n"
    }
   },
   "outputs": [
    {
     "name": "stdout",
     "output_type": "stream",
     "text": [
      "best eval value  0.0011718020422384094\n",
      "point  (0.9848759599605522, 3.0244286779674607)\n"
     ]
    },
    {
     "data": {
      "image/png": "[encoded data removed]",
      "text/plain": [
       "<Figure size 640x480 with 1 Axes>"
      ]
     },
     "metadata": {},
     "output_type": "display_data"
    }
   ],
   "source": [
    "import numpy as np\n",
    "import random\n",
    "from copy import deepcopy\n",
    "import gym\n",
    "import matplotlib.pyplot as plt\n",
    "\n",
    "\n",
    "def booth(x,y):\n",
    "    return (x+2*y-7)**2 + (2*x+y-5)**2\n",
    "\n",
    "def evaluation(x,y):\n",
    "    return booth(x,y)\n",
    "\n",
    "\n",
    "spred = 0.5\n",
    "\n",
    "def mutatate(x,y):\n",
    "    x = x+(random.randint(-5, 5)/10)\n",
    "    y = y+(random.randint(-5, 5)/10)\n",
    "    return (x,y)\n",
    "\n",
    "population_size = 20\n",
    "best = (random.randint(-10, 10), random.randint(-10, 10))\n",
    "\n",
    "def generate_population():\n",
    "    population = []\n",
    "    for i in range(population_size):\n",
    "        new_point = (best[0] + (random.uniform(-spred,spred)),\n",
    "                     best[1] + (random.uniform(-spred, spred)))\n",
    "        population.append((new_point[0], new_point[1]))\n",
    "    return population\n",
    "\n",
    "pop = generate_population()\n",
    "\n",
    "eval_best = evaluation(best[0], best[1])\n",
    "ys = []\n",
    "\n",
    "for i in range(100):\n",
    "    for inv in pop:\n",
    "        new_eval = evaluation(inv[0], inv[1])\n",
    "    \n",
    "        if new_eval < eval_best:\n",
    "            best = (inv[0], inv[1])\n",
    "            eval_best = new_eval\n",
    "    pop = generate_population()\n",
    "    ys.append(eval_best)\n",
    "\n",
    "plt.plot(ys)\n",
    "print(\"best eval value \",eval_best)\n",
    "print(\"point \", best)"
   ]
  },
  {
   "cell_type": "markdown",
   "metadata": {
    "collapsed": false,
    "pycharm": {
     "name": "#%% md\n"
    }
   },
   "source": [
    "## 2. Evolve a simple gaming neural net with GA.\n",
    "Evolve a neural network that plays a game of your choice from `gym` (LunarLander-v2 is cool).\n",
    "We don't need `torch` since we don't care about gradients. We can use numpy—numpy matrices can easily be multiplied.\n",
    "`deap` *can* deal with numpy arrays, though I recommend making functions that map weights to lists and vice versa."
   ]
  },
  {
   "cell_type": "code",
   "execution_count": 13,
   "metadata": {},
   "outputs": [
    {
     "name": "stderr",
     "output_type": "stream",
     "text": [
      "c:\\Users\\mari9\\AppData\\Local\\Programs\\Python\\Python310\\lib\\site-packages\\deap\\creator.py:138: RuntimeWarning: A class named 'FitnessMax' has already been created and it will be overwritten. Consider deleting previous creation of that class or rename it.\n",
      "  warnings.warn(\"A class named '{0}' has already been created and it \"\n",
      "c:\\Users\\mari9\\AppData\\Local\\Programs\\Python\\Python310\\lib\\site-packages\\deap\\creator.py:138: RuntimeWarning: A class named 'Individual' has already been created and it will be overwritten. Consider deleting previous creation of that class or rename it.\n",
      "  warnings.warn(\"A class named '{0}' has already been created and it \"\n",
      "C:\\Users\\mari9\\AppData\\Local\\Temp\\ipykernel_1296\\1816072825.py:66: VisibleDeprecationWarning: Creating an ndarray from ragged nested sequences (which is a list-or-tuple of lists-or-tuples-or ndarrays with different lengths or shapes) is deprecated. If you meant to do this, you must specify 'dtype=object' when creating the ndarray.\n",
      "  nerual_network = np.array(individual)\n"
     ]
    },
    {
     "name": "stdout",
     "output_type": "stream",
     "text": [
      "-- Generation 1 --\n",
      "  Median  -612.3128243999558\n",
      "-- Generation 2 --\n",
      "  Median  -344.7780384626744\n",
      "-- Generation 3 --\n",
      "  Median  -283.76312894132275\n",
      "-- Generation 4 --\n",
      "  Median  -151.4000799705614\n",
      "-- Generation 5 --\n",
      "  Median  -122.05612982540191\n",
      "-- Generation 6 --\n",
      "  Median  -86.40224034453621\n",
      "-- Generation 7 --\n",
      "  Median  -89.83063831960669\n",
      "-- Generation 8 --\n",
      "  Median  -84.45733350424923\n",
      "-- Generation 9 --\n",
      "  Median  -100.82356150627123\n",
      "-- Generation 10 --\n",
      "  Median  -100.03692898565458\n",
      "-- Generation 11 --\n",
      "  Median  -63.18637412228864\n",
      "-- Generation 12 --\n",
      "  Median  -93.26723879398753\n",
      "-- Generation 13 --\n",
      "  Median  -90.70296514362414\n",
      "-- Generation 14 --\n",
      "  Median  -112.40927445031402\n",
      "-- Generation 15 --\n",
      "  Median  -104.95282020108924\n",
      "-- Generation 16 --\n",
      "  Median  -121.34740482122112\n",
      "-- Generation 17 --\n",
      "  Median  -81.86527751562244\n",
      "-- Generation 18 --\n",
      "  Median  -78.63720491134568\n",
      "-- Generation 19 --\n",
      "  Median  -77.92169290058975\n",
      "-- Generation 20 --\n",
      "  Median  -125.33072786061513\n",
      "[array([[1.11799067, 1.22747055, 0.47739106, 0.90422988, 0.40729048,\n",
      "        0.9800219 , 1.26593048, 1.16206077, 0.51101012, 0.94846942,\n",
      "        0.61516711, 0.34847933, 1.03655167, 0.57264558, 0.32791056,\n",
      "        0.93637196, 0.95523675, 0.63806088, 1.05657737, 0.31332863,\n",
      "        0.52154419, 0.84732916, 0.71691996, 0.39290689, 0.78496664,\n",
      "        0.3412832 , 1.30010223, 0.60917847, 0.39884202, 0.91098618,\n",
      "        1.00576171, 0.46277651],\n",
      "       [0.30982492, 0.80183376, 0.67285082, 0.97043641, 0.40373783,\n",
      "        0.84771167, 0.9359633 , 0.64481943, 0.88975588, 0.74281134,\n",
      "        1.09151035, 1.10785471, 1.10872173, 0.54660604, 0.51387842,\n",
      "        0.35378515, 1.00385139, 1.23204403, 1.02477599, 0.63531113,\n",
      "        1.21389285, 0.76045289, 1.10919946, 0.75437172, 0.31485142,\n",
      "        0.33489935, 0.93704213, 0.72398468, 0.47283267, 1.17571927,\n",
      "        0.48682585, 0.85427116],\n",
      "       [0.95679419, 0.92127035, 0.32662496, 0.74183177, 0.90503066,\n",
      "        0.95095931, 0.34609176, 0.66336232, 0.76558384, 0.85272437,\n",
      "        0.41537558, 0.44664146, 1.18250819, 1.01691331, 0.97149996,\n",
      "        0.8764282 , 1.23250523, 0.5626399 , 0.46482292, 0.987989  ,\n",
      "        0.61207779, 1.0243895 , 1.09949719, 0.30982492, 0.41721006,\n",
      "        0.58936479, 1.30309325, 0.31115086, 0.77658334, 0.30982492,\n",
      "        0.32339716, 0.6078649 ],\n",
      "       [1.2779761 , 0.60416551, 0.66126757, 0.56344514, 1.14650416,\n",
      "        0.63122476, 1.13137984, 0.74386105, 0.78918768, 0.30982492,\n",
      "        0.67225834, 0.8499197 , 0.38666491, 1.05574365, 0.83094062,\n",
      "        0.34098581, 1.23502358, 1.12533424, 0.48560807, 0.35775065,\n",
      "        0.36261012, 0.66350889, 0.55941121, 1.06855315, 0.63309314,\n",
      "        1.27961392, 1.18864282, 0.6512266 , 0.33143652, 0.61265436,\n",
      "        0.30982492, 0.51292309],\n",
      "       [1.00203747, 1.06836037, 0.67393354, 0.60420487, 0.87223603,\n",
      "        0.30982492, 0.99701191, 1.03821798, 0.32206898, 0.96468804,\n",
      "        1.11671375, 0.78303978, 0.70712027, 0.63093794, 0.50286808,\n",
      "        0.52821258, 1.11594621, 1.12835022, 1.16425791, 0.30982492,\n",
      "        0.5705408 , 0.73130015, 0.43165669, 1.25280286, 0.40156846,\n",
      "        0.89803699, 0.68913747, 0.80326648, 1.22731012, 1.14356086,\n",
      "        0.36693792, 0.30982492],\n",
      "       [0.56775369, 0.30982492, 0.99223435, 1.30141421, 0.48596244,\n",
      "        0.44032725, 0.32697545, 0.33360114, 1.01670012, 1.0216177 ,\n",
      "        1.24670186, 0.55021781, 0.30982492, 1.2760101 , 0.85435274,\n",
      "        0.65252266, 1.27348894, 0.96458789, 0.76444091, 0.76707304,\n",
      "        0.30982492, 0.53071843, 0.46660102, 0.35962563, 0.30982492,\n",
      "        1.28500137, 1.05222588, 0.56240893, 0.3966161 , 0.5888268 ,\n",
      "        0.33887088, 0.94932103],\n",
      "       [0.41581196, 0.30982492, 0.62040376, 1.01667766, 1.05358569,\n",
      "        0.66157679, 0.38683783, 0.41478046, 0.50506971, 0.86443378,\n",
      "        0.52883364, 0.44342866, 0.75582746, 0.60494061, 1.02884999,\n",
      "        1.08519661, 0.79164559, 1.02340767, 0.73198776, 0.4413867 ,\n",
      "        0.58457473, 0.71336368, 0.87746014, 1.15664802, 0.57477552,\n",
      "        0.64370374, 1.07644614, 0.99578525, 0.73801753, 0.58482337,\n",
      "        1.15914908, 0.63153099],\n",
      "       [0.4454775 , 1.09772088, 0.33738307, 1.21509391, 0.55669168,\n",
      "        1.17396911, 0.7162557 , 0.72842281, 0.69655483, 0.46378829,\n",
      "        1.0329073 , 1.18944096, 0.70354854, 0.61179323, 0.72361488,\n",
      "        1.12187541, 0.4712788 , 1.08974057, 0.30982492, 1.1451772 ,\n",
      "        0.69419601, 0.39079437, 1.24274529, 1.18842468, 0.30982492,\n",
      "        0.65256122, 0.62650529, 0.98256625, 0.41666656, 0.47977687,\n",
      "        1.00030268, 0.54639704]]), array([[0.16346574, 0.41705647, 0.09987269, 0.60126658],\n",
      "       [0.46731838, 0.04764425, 0.51608844, 0.06070326],\n",
      "       [0.7078176 , 0.86155995, 0.12308856, 0.59448678],\n",
      "       [0.85907505, 0.97415212, 0.60085992, 0.03211808],\n",
      "       [0.08199825, 0.91157816, 0.8135294 , 0.51777515],\n",
      "       [0.94365851, 0.68157265, 0.24761914, 0.57548835],\n",
      "       [0.35596906, 0.03211808, 0.66822623, 0.64388999],\n",
      "       [0.78936851, 0.91885061, 0.65563555, 0.03211808],\n",
      "       [0.6183509 , 0.86844628, 0.39134652, 0.20859504],\n",
      "       [0.60828329, 0.13138655, 0.91239386, 0.09944026],\n",
      "       [0.54234728, 0.56538776, 0.03211808, 0.93455032],\n",
      "       [0.77848875, 0.59416331, 0.40328801, 0.21148401],\n",
      "       [0.69173928, 0.95560206, 0.91927322, 0.49154178],\n",
      "       [0.48223313, 0.29039426, 0.56995788, 0.0662707 ],\n",
      "       [0.35516691, 0.50475412, 0.04556587, 0.27390197],\n",
      "       [0.67016491, 0.35753443, 0.04186127, 0.59099415],\n",
      "       [0.93706901, 0.03211808, 0.8696554 , 0.35283673],\n",
      "       [0.95556429, 0.67640384, 0.68704838, 0.43487185],\n",
      "       [0.29603453, 0.23923046, 0.03394728, 0.42071264],\n",
      "       [0.27552726, 0.20800656, 0.79521928, 0.480417  ],\n",
      "       [0.43107791, 0.2835538 , 0.47309016, 0.42981432],\n",
      "       [0.83347093, 0.05069658, 0.39464823, 0.03211808],\n",
      "       [0.03211808, 0.50224274, 0.44858634, 0.96321708],\n",
      "       [0.23724349, 0.44996618, 0.03211808, 0.83553737],\n",
      "       [0.23659726, 0.70880896, 0.52555995, 0.68418005],\n",
      "       [0.6829383 , 0.70040232, 0.55200471, 0.43726221],\n",
      "       [0.44149176, 0.24092659, 0.45880864, 0.6525017 ],\n",
      "       [0.03211808, 0.64876615, 0.95341244, 0.99894501],\n",
      "       [0.61683697, 0.17706833, 0.11126123, 0.97388507],\n",
      "       [0.84899869, 0.04414631, 0.39871638, 1.01791541],\n",
      "       [0.68552221, 0.0978434 , 0.14061082, 0.34476763],\n",
      "       [0.70295872, 0.40023968, 0.09855086, 1.00214449]])]\n"
     ]
    },
    {
     "data": {
      "image/png": "[encoded data removed]",
      "text/plain": [
       "<Figure size 640x480 with 1 Axes>"
      ]
     },
     "metadata": {},
     "output_type": "display_data"
    }
   ],
   "source": [
    "import numpy as np\n",
    "import random\n",
    "from copy import deepcopy\n",
    "import gym\n",
    "import matplotlib as plt\n",
    "import numpy as np\n",
    "import random\n",
    "from copy import deepcopy\n",
    "import gym\n",
    "import matplotlib.pyplot as plt\n",
    "import torch\n",
    "import pickle\n",
    "\n",
    "import gym\n",
    "\n",
    "env = gym.make(\n",
    "    \"LunarLander-v2\",\n",
    "    continuous=False,\n",
    "    gravity=-10.0,\n",
    "    enable_wind=False,\n",
    "    wind_power=15.0,\n",
    "    turbulence_power=1.5\n",
    "    #render_mode='human'\n",
    ")\n",
    "state, _ = env.reset()\n",
    "\n",
    "actionspace = env.action_space.n\n",
    "observationspace = env.observation_space.shape[0]\n",
    "\n",
    "\n",
    "def network(individual):\n",
    "\n",
    "    layer_1 = np.random.rand(observationspace, 32)\n",
    "    layer_2 = np.random.rand(32, actionspace)\n",
    "    lst = [layer_1,layer_2]\n",
    "    return individual(lst)\n",
    "\n",
    "\n",
    "toolbox = base.Toolbox()\n",
    "creator.create(\"FitnessMax\", base.Fitness, weights=(1.0,))\n",
    "creator.create(\"Individual\", list, fitness=creator.FitnessMax)\n",
    "\n",
    "toolbox.register(\"matrix_attr\",  random.random)\n",
    "toolbox.register(\"individual\",  network, creator.Individual)\n",
    "toolbox.register(\"population\", tools.initRepeat, list, toolbox.individual)\n",
    "toolbox.register(\"mutate\", tools.mutFlipBit, indpb=0.05)\n",
    "toolbox.register(\"select\", tools.selTournament, tournsize=4)\n",
    "\n",
    "\n",
    "fitness = []\n",
    "\n",
    "def fitness_for_population(pop):\n",
    "    fits = [ind.fitness.values[0] for ind in pop]\n",
    "    length = len(pop)\n",
    "    mean = sum(fits) / length\n",
    "    sum2 = sum(x*x for x in fits)\n",
    "    std = abs(sum2 / length - mean**2)**0.5\n",
    "\n",
    "    print(\"  Median \",np.median(np.array(fits)))\n",
    "    fitness.append(np.median(np.array(fits)))\n",
    "\n",
    "    return fits\n",
    "\n",
    "\n",
    "def get_action(individual, state):\n",
    "    nerual_network = np.array(individual)\n",
    "    mul = np.matmul(nerual_network[0], nerual_network[1])\n",
    "\n",
    "    return np.argmax(np.matmul(mul.T,state))\n",
    "\n",
    "def eval_network(individual):\n",
    "    state, _ = env.reset()\n",
    "    done = False\n",
    "    total_r = 0\n",
    "    max_actions = 400\n",
    "    max_actions_count = 0\n",
    "\n",
    "    while (not done) and (max_actions_count < max_actions):\n",
    "        action = get_action(individual, state)  # env.action_space.sample #\n",
    "        next_state, reward, done, _, _ = env.step(action)\n",
    "        total_r += reward\n",
    "        state = next_state\n",
    "        max_actions_count+=1\n",
    "    return total_r,\n",
    "\n",
    "\n",
    "def mutate_network(offspring):\n",
    "    mutate_chance_drastic = 0.10\n",
    "    mutate_chance = 0.20\n",
    "    for individual in offspring:\n",
    "        if random.random() <= mutate_chance:\n",
    "            for layer in individual:\n",
    "                for node in layer:\n",
    "                    toolbox.mutate(node)\n",
    "        if random.random() <= mutate_chance:\n",
    "            tools.mutGaussian(individual,0.0,0.2,0.5)\n",
    "    return offspring\n",
    "\n",
    "\n",
    "toolbox.register(\"evaluate\", eval_network)\n",
    "\n",
    "\n",
    "# Variable keeping track of the number of generations\n",
    "\n",
    "\n",
    "ys = []\n",
    "\n",
    "# 30 itr 70pop = ca. 1min\n",
    "itr = 20#200   \n",
    "pop_size = 30#300\n",
    "\n",
    "\n",
    "generation = 0\n",
    "pop = toolbox.population(n=pop_size)\n",
    "best_eval = np.float64(0)\n",
    "best = None\n",
    "\n",
    "# Begin the evolution\n",
    "\n",
    "plt.ion()\n",
    "while generation < itr:\n",
    "\n",
    "    generation = generation + 1\n",
    "    print(\"-- Generation %i --\" % generation)\n",
    "\n",
    "    offspring = toolbox.select(pop,len(pop))\n",
    "    offspring = list(map(toolbox.clone, offspring))\n",
    "    \n",
    "    mutate_network(offspring)\n",
    "    for i in range(len(offspring)):\n",
    "        #print(i,(len(offspring)))\n",
    "        eval_fit = toolbox.evaluate(offspring[i])\n",
    "        \n",
    "        \n",
    "        if eval_fit > best_eval:\n",
    "            best_eval = eval_fit\n",
    "            best = offspring[i]\n",
    "            best.fitness.values = eval_fit\n",
    "            \n",
    "        offspring[i].fitness.values = eval_fit\n",
    "    pop[:] = offspring\n",
    "    fits = fitness_for_population(pop)\n",
    "\n",
    "\n",
    "filename = '7.2-Best_4.txt'\n",
    "\n",
    "file = open(filename, 'wb')\n",
    "pickle.dump(best,file)\n",
    "file.close()\n",
    "\n",
    "print(best)\n",
    "\n",
    "plt.plot(fitness)\n",
    "env.close()\n",
    "    \n",
    "# 125 gen should be above 100"
   ]
  },
  {
   "cell_type": "code",
   "execution_count": 14,
   "metadata": {},
   "outputs": [
    {
     "name": "stdout",
     "output_type": "stream",
     "text": [
      "[array([[1.11799067, 1.22747055, 0.47739106, 0.90422988, 0.40729048,\n",
      "        0.9800219 , 1.26593048, 1.16206077, 0.51101012, 0.94846942,\n",
      "        0.61516711, 0.34847933, 1.03655167, 0.57264558, 0.32791056,\n",
      "        0.93637196, 0.95523675, 0.63806088, 1.05657737, 0.31332863,\n",
      "        0.52154419, 0.84732916, 0.71691996, 0.39290689, 0.78496664,\n",
      "        0.3412832 , 1.30010223, 0.60917847, 0.39884202, 0.91098618,\n",
      "        1.00576171, 0.46277651],\n",
      "       [0.30982492, 0.80183376, 0.67285082, 0.97043641, 0.40373783,\n",
      "        0.84771167, 0.9359633 , 0.64481943, 0.88975588, 0.74281134,\n",
      "        1.09151035, 1.10785471, 1.10872173, 0.54660604, 0.51387842,\n",
      "        0.35378515, 1.00385139, 1.23204403, 1.02477599, 0.63531113,\n",
      "        1.21389285, 0.76045289, 1.10919946, 0.75437172, 0.31485142,\n",
      "        0.33489935, 0.93704213, 0.72398468, 0.47283267, 1.17571927,\n",
      "        0.48682585, 0.85427116],\n",
      "       [0.95679419, 0.92127035, 0.32662496, 0.74183177, 0.90503066,\n",
      "        0.95095931, 0.34609176, 0.66336232, 0.76558384, 0.85272437,\n",
      "        0.41537558, 0.44664146, 1.18250819, 1.01691331, 0.97149996,\n",
      "        0.8764282 , 1.23250523, 0.5626399 , 0.46482292, 0.987989  ,\n",
      "        0.61207779, 1.0243895 , 1.09949719, 0.30982492, 0.41721006,\n",
      "        0.58936479, 1.30309325, 0.31115086, 0.77658334, 0.30982492,\n",
      "        0.32339716, 0.6078649 ],\n",
      "       [1.2779761 , 0.60416551, 0.66126757, 0.56344514, 1.14650416,\n",
      "        0.63122476, 1.13137984, 0.74386105, 0.78918768, 0.30982492,\n",
      "        0.67225834, 0.8499197 , 0.38666491, 1.05574365, 0.83094062,\n",
      "        0.34098581, 1.23502358, 1.12533424, 0.48560807, 0.35775065,\n",
      "        0.36261012, 0.66350889, 0.55941121, 1.06855315, 0.63309314,\n",
      "        1.27961392, 1.18864282, 0.6512266 , 0.33143652, 0.61265436,\n",
      "        0.30982492, 0.51292309],\n",
      "       [1.00203747, 1.06836037, 0.67393354, 0.60420487, 0.87223603,\n",
      "        0.30982492, 0.99701191, 1.03821798, 0.32206898, 0.96468804,\n",
      "        1.11671375, 0.78303978, 0.70712027, 0.63093794, 0.50286808,\n",
      "        0.52821258, 1.11594621, 1.12835022, 1.16425791, 0.30982492,\n",
      "        0.5705408 , 0.73130015, 0.43165669, 1.25280286, 0.40156846,\n",
      "        0.89803699, 0.68913747, 0.80326648, 1.22731012, 1.14356086,\n",
      "        0.36693792, 0.30982492],\n",
      "       [0.56775369, 0.30982492, 0.99223435, 1.30141421, 0.48596244,\n",
      "        0.44032725, 0.32697545, 0.33360114, 1.01670012, 1.0216177 ,\n",
      "        1.24670186, 0.55021781, 0.30982492, 1.2760101 , 0.85435274,\n",
      "        0.65252266, 1.27348894, 0.96458789, 0.76444091, 0.76707304,\n",
      "        0.30982492, 0.53071843, 0.46660102, 0.35962563, 0.30982492,\n",
      "        1.28500137, 1.05222588, 0.56240893, 0.3966161 , 0.5888268 ,\n",
      "        0.33887088, 0.94932103],\n",
      "       [0.41581196, 0.30982492, 0.62040376, 1.01667766, 1.05358569,\n",
      "        0.66157679, 0.38683783, 0.41478046, 0.50506971, 0.86443378,\n",
      "        0.52883364, 0.44342866, 0.75582746, 0.60494061, 1.02884999,\n",
      "        1.08519661, 0.79164559, 1.02340767, 0.73198776, 0.4413867 ,\n",
      "        0.58457473, 0.71336368, 0.87746014, 1.15664802, 0.57477552,\n",
      "        0.64370374, 1.07644614, 0.99578525, 0.73801753, 0.58482337,\n",
      "        1.15914908, 0.63153099],\n",
      "       [0.4454775 , 1.09772088, 0.33738307, 1.21509391, 0.55669168,\n",
      "        1.17396911, 0.7162557 , 0.72842281, 0.69655483, 0.46378829,\n",
      "        1.0329073 , 1.18944096, 0.70354854, 0.61179323, 0.72361488,\n",
      "        1.12187541, 0.4712788 , 1.08974057, 0.30982492, 1.1451772 ,\n",
      "        0.69419601, 0.39079437, 1.24274529, 1.18842468, 0.30982492,\n",
      "        0.65256122, 0.62650529, 0.98256625, 0.41666656, 0.47977687,\n",
      "        1.00030268, 0.54639704]]), array([[0.16346574, 0.41705647, 0.09987269, 0.60126658],\n",
      "       [0.46731838, 0.04764425, 0.51608844, 0.06070326],\n",
      "       [0.7078176 , 0.86155995, 0.12308856, 0.59448678],\n",
      "       [0.85907505, 0.97415212, 0.60085992, 0.03211808],\n",
      "       [0.08199825, 0.91157816, 0.8135294 , 0.51777515],\n",
      "       [0.94365851, 0.68157265, 0.24761914, 0.57548835],\n",
      "       [0.35596906, 0.03211808, 0.66822623, 0.64388999],\n",
      "       [0.78936851, 0.91885061, 0.65563555, 0.03211808],\n",
      "       [0.6183509 , 0.86844628, 0.39134652, 0.20859504],\n",
      "       [0.60828329, 0.13138655, 0.91239386, 0.09944026],\n",
      "       [0.54234728, 0.56538776, 0.03211808, 0.93455032],\n",
      "       [0.77848875, 0.59416331, 0.40328801, 0.21148401],\n",
      "       [0.69173928, 0.95560206, 0.91927322, 0.49154178],\n",
      "       [0.48223313, 0.29039426, 0.56995788, 0.0662707 ],\n",
      "       [0.35516691, 0.50475412, 0.04556587, 0.27390197],\n",
      "       [0.67016491, 0.35753443, 0.04186127, 0.59099415],\n",
      "       [0.93706901, 0.03211808, 0.8696554 , 0.35283673],\n",
      "       [0.95556429, 0.67640384, 0.68704838, 0.43487185],\n",
      "       [0.29603453, 0.23923046, 0.03394728, 0.42071264],\n",
      "       [0.27552726, 0.20800656, 0.79521928, 0.480417  ],\n",
      "       [0.43107791, 0.2835538 , 0.47309016, 0.42981432],\n",
      "       [0.83347093, 0.05069658, 0.39464823, 0.03211808],\n",
      "       [0.03211808, 0.50224274, 0.44858634, 0.96321708],\n",
      "       [0.23724349, 0.44996618, 0.03211808, 0.83553737],\n",
      "       [0.23659726, 0.70880896, 0.52555995, 0.68418005],\n",
      "       [0.6829383 , 0.70040232, 0.55200471, 0.43726221],\n",
      "       [0.44149176, 0.24092659, 0.45880864, 0.6525017 ],\n",
      "       [0.03211808, 0.64876615, 0.95341244, 0.99894501],\n",
      "       [0.61683697, 0.17706833, 0.11126123, 0.97388507],\n",
      "       [0.84899869, 0.04414631, 0.39871638, 1.01791541],\n",
      "       [0.68552221, 0.0978434 , 0.14061082, 0.34476763],\n",
      "       [0.70295872, 0.40023968, 0.09855086, 1.00214449]])]\n"
     ]
    },
    {
     "name": "stderr",
     "output_type": "stream",
     "text": [
      "C:\\Users\\mari9\\AppData\\Local\\Temp\\ipykernel_1296\\1816072825.py:66: VisibleDeprecationWarning: Creating an ndarray from ragged nested sequences (which is a list-or-tuple of lists-or-tuples-or ndarrays with different lengths or shapes) is deprecated. If you meant to do this, you must specify 'dtype=object' when creating the ndarray.\n",
      "  nerual_network = np.array(individual)\n"
     ]
    }
   ],
   "source": [
    "import gym\n",
    "import pickle\n",
    "\n",
    "def network(individual):\n",
    "\n",
    "    layer_1 = np.random.rand(observationspace, 32)\n",
    "    layer_2 = np.random.rand(32, actionspace)\n",
    "    lst = [layer_1,layer_2]\n",
    "    return individual(lst)\n",
    "\n",
    "\n",
    "toolbox = base.Toolbox()\n",
    "creator.create(\"FitnessMax\", base.Fitness, weights=(1.0,))\n",
    "creator.create(\"Individual\", list, fitness=creator.FitnessMax)\n",
    "\n",
    "toolbox.register(\"matrix_attr\",  random.random)\n",
    "toolbox.register(\"individual\",  network, creator.Individual)\n",
    "toolbox.register(\"population\", tools.initRepeat, list, toolbox.individual)\n",
    "toolbox.register(\"mutate\", tools.mutFlipBit, indpb=0.05)\n",
    "toolbox.register(\"select\", tools.selTournament, tournsize=4)\n",
    "\n",
    "\n",
    "fitness = []\n",
    "\n",
    "def fitness_for_population(pop):\n",
    "    fits = [ind.fitness.values[0] for ind in pop]\n",
    "    length = len(pop)\n",
    "    mean = sum(fits) / length\n",
    "    sum2 = sum(x*x for x in fits)\n",
    "    std = abs(sum2 / length - mean**2)**0.5\n",
    "\n",
    "    print(\"  Median \",np.median(np.array(fits)))\n",
    "    fitness.append(np.median(np.array(fits)))\n",
    "\n",
    "    return fits\n",
    "\n",
    "\n",
    "def get_action(individual, state):\n",
    "    nerual_network = np.array(individual)\n",
    "    mul = np.matmul(nerual_network[0], nerual_network[1])\n",
    "\n",
    "    return np.argmax(np.matmul(mul.T,state))\n",
    "\n",
    "def eval_network(individual):\n",
    "    state, _ = env.reset()\n",
    "    done = False\n",
    "    total_r = 0\n",
    "    max_actions = 400\n",
    "    max_actions_count = 0\n",
    "\n",
    "    while (not done) and (max_actions_count < max_actions):\n",
    "        action = get_action(individual, state)  # env.action_space.sample #\n",
    "        next_state, reward, done, _, _ = env.step(action)\n",
    "        total_r += reward\n",
    "        state = next_state\n",
    "        max_actions_count+=1\n",
    "    return total_r,\n",
    "\n",
    "\n",
    "def mutate_network(offspring):\n",
    "    mutate_chance_drastic = 0.10\n",
    "    mutate_chance = 0.20\n",
    "    for individual in offspring:\n",
    "        if random.random() <= mutate_chance:\n",
    "            for layer in individual:\n",
    "                for node in layer:\n",
    "                    toolbox.mutate(node)\n",
    "        if random.random() <= mutate_chance:\n",
    "            tools.mutGaussian(individual,0.0,0.2,0.5)\n",
    "    return offspring\n",
    "\n",
    "\n",
    "toolbox.register(\"evaluate\", eval_network)\n",
    "\n",
    "env = gym.make(\n",
    "    \"LunarLander-v2\",\n",
    "    continuous=False,\n",
    "    gravity=-10.0,\n",
    "    enable_wind=False,\n",
    "    wind_power=15.0,\n",
    "    turbulence_power=1.5,\n",
    "    render_mode='human'\n",
    ")\n",
    "\n",
    "state, _ = env.reset()\n",
    "\n",
    "actionspace = env.action_space.n\n",
    "observationspace = env.observation_space.shape[0]\n",
    "\n",
    "file_open = open(filename, 'rb')\n",
    "best_load = pickle.load(file_open)\n",
    "file_open.close()\n",
    "\n",
    "print(best_load)\n",
    "\n",
    "for episode in range(10):\n",
    "    env.reset()\n",
    "    while True:\n",
    "        env.render()\n",
    "        action = get_action(best_load, state)\n",
    "        next_state, reward, done, t, info = env.step(action)\n",
    "        #print(reward)\n",
    "        if done:\n",
    "            break\n",
    "env.close()\n"
   ]
  },
  {
   "cell_type": "code",
   "execution_count": 12,
   "metadata": {},
   "outputs": [
    {
     "name": "stderr",
     "output_type": "stream",
     "text": [
      "c:\\Users\\mari9\\AppData\\Local\\Programs\\Python\\Python310\\lib\\site-packages\\numpy\\core\\fromnumeric.py:43: VisibleDeprecationWarning: Creating an ndarray from ragged nested sequences (which is a list-or-tuple of lists-or-tuples-or ndarrays with different lengths or shapes) is deprecated. If you meant to do this, you must specify 'dtype=object' when creating the ndarray.\n",
      "  result = getattr(asarray(obj), method)(*args, **kwds)\n"
     ]
    },
    {
     "ename": "TypeError",
     "evalue": "'>' not supported between instances of 'float' and 'NoneType'",
     "output_type": "error",
     "traceback": [
      "\u001b[1;31m---------------------------------------------------------------------------\u001b[0m",
      "\u001b[1;31mTypeError\u001b[0m                                 Traceback (most recent call last)",
      "\u001b[1;32mc:\\Users\\mari9\\Desktop\\DeepLearn\\labs\\lab7.ipynb Cell 29\u001b[0m in \u001b[0;36m<cell line: 44>\u001b[1;34m()\u001b[0m\n\u001b[0;32m     <a href='vscode-notebook-cell:/c%3A/Users/mari9/Desktop/DeepLearn/labs/lab7.ipynb#Y116sZmlsZQ%3D%3D?line=45'>46</a>\u001b[0m \u001b[39mwhile\u001b[39;00m \u001b[39mTrue\u001b[39;00m:\n\u001b[0;32m     <a href='vscode-notebook-cell:/c%3A/Users/mari9/Desktop/DeepLearn/labs/lab7.ipynb#Y116sZmlsZQ%3D%3D?line=46'>47</a>\u001b[0m     env\u001b[39m.\u001b[39mrender()\n\u001b[1;32m---> <a href='vscode-notebook-cell:/c%3A/Users/mari9/Desktop/DeepLearn/labs/lab7.ipynb#Y116sZmlsZQ%3D%3D?line=47'>48</a>\u001b[0m     action \u001b[39m=\u001b[39m get_action(best_load, state)\n\u001b[0;32m     <a href='vscode-notebook-cell:/c%3A/Users/mari9/Desktop/DeepLearn/labs/lab7.ipynb#Y116sZmlsZQ%3D%3D?line=48'>49</a>\u001b[0m     next_state, reward, done, t, info \u001b[39m=\u001b[39m env\u001b[39m.\u001b[39mstep(action)\n\u001b[0;32m     <a href='vscode-notebook-cell:/c%3A/Users/mari9/Desktop/DeepLearn/labs/lab7.ipynb#Y116sZmlsZQ%3D%3D?line=49'>50</a>\u001b[0m     \u001b[39m#print(reward)\u001b[39;00m\n",
      "\u001b[1;32mc:\\Users\\mari9\\Desktop\\DeepLearn\\labs\\lab7.ipynb Cell 29\u001b[0m in \u001b[0;36mget_action\u001b[1;34m(individual, state)\u001b[0m\n\u001b[0;32m     <a href='vscode-notebook-cell:/c%3A/Users/mari9/Desktop/DeepLearn/labs/lab7.ipynb#Y116sZmlsZQ%3D%3D?line=17'>18</a>\u001b[0m \u001b[39mdef\u001b[39;00m \u001b[39mget_action\u001b[39m(individual, state):\n\u001b[0;32m     <a href='vscode-notebook-cell:/c%3A/Users/mari9/Desktop/DeepLearn/labs/lab7.ipynb#Y116sZmlsZQ%3D%3D?line=18'>19</a>\u001b[0m     nerual_network \u001b[39m=\u001b[39m np\u001b[39m.\u001b[39marray(individual)\n\u001b[1;32m---> <a href='vscode-notebook-cell:/c%3A/Users/mari9/Desktop/DeepLearn/labs/lab7.ipynb#Y116sZmlsZQ%3D%3D?line=20'>21</a>\u001b[0m     \u001b[39mreturn\u001b[39;00m np\u001b[39m.\u001b[39;49margmax((nerual_network, state))\n",
      "File \u001b[1;32m<__array_function__ internals>:180\u001b[0m, in \u001b[0;36margmax\u001b[1;34m(*args, **kwargs)\u001b[0m\n",
      "File \u001b[1;32mc:\\Users\\mari9\\AppData\\Local\\Programs\\Python\\Python310\\lib\\site-packages\\numpy\\core\\fromnumeric.py:1216\u001b[0m, in \u001b[0;36margmax\u001b[1;34m(a, axis, out, keepdims)\u001b[0m\n\u001b[0;32m   1129\u001b[0m \u001b[39m\"\"\"\u001b[39;00m\n\u001b[0;32m   1130\u001b[0m \u001b[39mReturns the indices of the maximum values along an axis.\u001b[39;00m\n\u001b[0;32m   1131\u001b[0m \n\u001b[1;32m   (...)\u001b[0m\n\u001b[0;32m   1213\u001b[0m \u001b[39m(2, 1, 4)\u001b[39;00m\n\u001b[0;32m   1214\u001b[0m \u001b[39m\"\"\"\u001b[39;00m\n\u001b[0;32m   1215\u001b[0m kwds \u001b[39m=\u001b[39m {\u001b[39m'\u001b[39m\u001b[39mkeepdims\u001b[39m\u001b[39m'\u001b[39m: keepdims} \u001b[39mif\u001b[39;00m keepdims \u001b[39mis\u001b[39;00m \u001b[39mnot\u001b[39;00m np\u001b[39m.\u001b[39m_NoValue \u001b[39melse\u001b[39;00m {}\n\u001b[1;32m-> 1216\u001b[0m \u001b[39mreturn\u001b[39;00m _wrapfunc(a, \u001b[39m'\u001b[39m\u001b[39margmax\u001b[39m\u001b[39m'\u001b[39m, axis\u001b[39m=\u001b[39maxis, out\u001b[39m=\u001b[39mout, \u001b[39m*\u001b[39m\u001b[39m*\u001b[39mkwds)\n",
      "File \u001b[1;32mc:\\Users\\mari9\\AppData\\Local\\Programs\\Python\\Python310\\lib\\site-packages\\numpy\\core\\fromnumeric.py:54\u001b[0m, in \u001b[0;36m_wrapfunc\u001b[1;34m(obj, method, *args, **kwds)\u001b[0m\n\u001b[0;32m     52\u001b[0m bound \u001b[39m=\u001b[39m \u001b[39mgetattr\u001b[39m(obj, method, \u001b[39mNone\u001b[39;00m)\n\u001b[0;32m     53\u001b[0m \u001b[39mif\u001b[39;00m bound \u001b[39mis\u001b[39;00m \u001b[39mNone\u001b[39;00m:\n\u001b[1;32m---> 54\u001b[0m     \u001b[39mreturn\u001b[39;00m _wrapit(obj, method, \u001b[39m*\u001b[39margs, \u001b[39m*\u001b[39m\u001b[39m*\u001b[39mkwds)\n\u001b[0;32m     56\u001b[0m \u001b[39mtry\u001b[39;00m:\n\u001b[0;32m     57\u001b[0m     \u001b[39mreturn\u001b[39;00m bound(\u001b[39m*\u001b[39margs, \u001b[39m*\u001b[39m\u001b[39m*\u001b[39mkwds)\n",
      "File \u001b[1;32mc:\\Users\\mari9\\AppData\\Local\\Programs\\Python\\Python310\\lib\\site-packages\\numpy\\core\\fromnumeric.py:43\u001b[0m, in \u001b[0;36m_wrapit\u001b[1;34m(obj, method, *args, **kwds)\u001b[0m\n\u001b[0;32m     41\u001b[0m \u001b[39mexcept\u001b[39;00m \u001b[39mAttributeError\u001b[39;00m:\n\u001b[0;32m     42\u001b[0m     wrap \u001b[39m=\u001b[39m \u001b[39mNone\u001b[39;00m\n\u001b[1;32m---> 43\u001b[0m result \u001b[39m=\u001b[39m \u001b[39mgetattr\u001b[39m(asarray(obj), method)(\u001b[39m*\u001b[39margs, \u001b[39m*\u001b[39m\u001b[39m*\u001b[39mkwds)\n\u001b[0;32m     44\u001b[0m \u001b[39mif\u001b[39;00m wrap:\n\u001b[0;32m     45\u001b[0m     \u001b[39mif\u001b[39;00m \u001b[39mnot\u001b[39;00m \u001b[39misinstance\u001b[39m(result, mu\u001b[39m.\u001b[39mndarray):\n",
      "\u001b[1;31mTypeError\u001b[0m: '>' not supported between instances of 'float' and 'NoneType'"
     ]
    },
    {
     "ename": "",
     "evalue": "",
     "output_type": "error",
     "traceback": [
      "\u001b[1;31mThe Kernel crashed while executing code in the the current cell or a previous cell. Please review the code in the cell(s) to identify a possible cause of the failure. Click <a href='https://aka.ms/vscodeJupyterKernelCrash'>here</a> for more info. View Jupyter <a href='command:jupyter.viewOutput'>log</a> for further details."
     ]
    }
   ],
   "source": [
    "import gym\n",
    "import pickle\n",
    "import numpy as np\n",
    "import random\n",
    "from copy import deepcopy\n",
    "import gym\n",
    "import matplotlib as plt\n",
    "import numpy as np\n",
    "import random\n",
    "from copy import deepcopy\n",
    "import gym\n",
    "import matplotlib.pyplot as plt\n",
    "import torch\n",
    "import pickle\n",
    "\n",
    "\n",
    "\n",
    "def get_action(individual, state):\n",
    "    nerual_network = np.array(individual)\n",
    "    \n",
    "    return np.argmax(nerual_network)\n",
    "\n",
    "\n",
    "\n",
    "env = gym.make(\n",
    "    \"LunarLander-v2\",\n",
    "    continuous=False,\n",
    "    gravity=-10.0,\n",
    "    enable_wind=False,\n",
    "    wind_power=15.0,\n",
    "    turbulence_power=1.5,\n",
    "    render_mode='human'\n",
    ")\n",
    "\n",
    "state, _ = env.reset()\n",
    "\n",
    "actionspace = env.action_space.n\n",
    "observationspace = env.observation_space.shape[0]\n",
    "filename = '7.2-Best_4.txt'\n",
    "file_open = open(filename, 'rb')\n",
    "best_load = pickle.load(file_open)\n",
    "file_open.close()\n",
    "\n",
    "for episode in range(5):\n",
    "    env.reset()\n",
    "    while True:\n",
    "        env.render()\n",
    "        action = get_action(best_load, state)\n",
    "        next_state, reward, done, t, info = env.step(action)\n",
    "        #print(reward)\n",
    "        if done:\n",
    "            break\n",
    "env.close()\n"
   ]
  },
  {
   "cell_type": "markdown",
   "metadata": {
    "collapsed": false,
    "pycharm": {
     "name": "#%% md\n"
    }
   },
   "source": [
    "## 3. Implement Hebbian Learning on AND and OR logic gates.\n",
    "Make functions that given an input of the kind `[1,1,0]`, `[0,0,0]`, etc.:\n",
    "1. Returns 1 if input is all ones, otherwise 0 (AND).\n",
    "2. Returns 1 if at least one element is 1, otherwise 0 (OR).\n",
    "3. Optional: XOR."
   ]
  },
  {
   "cell_type": "code",
   "execution_count": 19,
   "metadata": {
    "collapsed": false,
    "pycharm": {
     "name": "#%%\n"
    }
   },
   "outputs": [
    {
     "name": "stdout",
     "output_type": "stream",
     "text": [
      "AND test (1,1) -> 1 network: 1\n",
      "AND test (-1,1) -> 0 network: 0\n",
      "AND test (-1,-1) -> 0 network: 0\n",
      "\n",
      "\n",
      "OR test (-1,1) -> 1 network: 1\n",
      "OR test (1,1) -> 1 network: 1\n",
      "OR test (-1,-1) -> 0 network: 0\n"
     ]
    }
   ],
   "source": [
    "nodes = 3\n",
    "and_network = [0]*nodes \n",
    "or_network = [0]*nodes\n",
    "xor_network = [0]*nodes\n",
    "\n",
    "and_target =[(-1,-1,-1), (-1,1,-1), (1,-1,-1), (1,1,1)]\n",
    "or_target =[(-1, -1, -1), (-1, 1, 1), (1, -1, 1), (1, 1, 1)]\n",
    "\n",
    "def modify(w,x1,x2,y):\n",
    "    w[0] = w[0] + x1*y\n",
    "    w[1] = w[1] + x2*y\n",
    "    w[2] = w[2] + y\n",
    "\n",
    "def learn_target(target, network):\n",
    "    for x1, x2, y in target:\n",
    "        modify(network, x1, x2, y)\n",
    "    \n",
    "def test(network,a,b):\n",
    "    x = a*network[0]\n",
    "    y = b*network[1]\n",
    "    bias = network[2]\n",
    "    result = x+y+bias\n",
    "    if result < 0:\n",
    "        return 0\n",
    "    else:\n",
    "        return 1\n",
    "\n",
    "\n",
    "learn_target(and_target,and_network)\n",
    "learn_target(or_target, or_network)\n",
    "\n",
    "print(\"AND test\", \"(1,1) -> 1 network:\",test(and_network,1,1))\n",
    "print(\"AND test\", \"(-1,1) -> 0 network:\", test(and_network, -1, 1))\n",
    "print(\"AND test\", \"(-1,-1) -> 0 network:\", test(and_network, -1, -1))\n",
    "print(\"\\n\")\n",
    "print(\"OR test\",\"(-1,1) -> 1 network:\",test(or_network,-1,1))\n",
    "print(\"OR test\",\"(1,1) -> 1 network:\", test(or_network, 1, 1))\n",
    "print(\"OR test\", \"(-1,-1) -> 0 network:\", test(or_network, -1, -1))\n"
   ]
  },
  {
   "cell_type": "markdown",
   "metadata": {
    "collapsed": false,
    "pycharm": {
     "name": "#%% md\n"
    }
   },
   "source": [
    "## Optional (and awesome): Do Hebbian Learning over Reinforcement Learning for the Lunar Lander from gym (LunarLander-v2).\n",
    "![](https://www.gymlibrary.dev/_images/lunar_lander.gif)"
   ]
  },
  {
   "cell_type": "code",
   "execution_count": 16,
   "metadata": {
    "collapsed": false,
    "pycharm": {
     "name": "#%%\n"
    }
   },
   "outputs": [],
   "source": [
    "# Your code"
   ]
  }
 ],
 "metadata": {
  "colab": {
   "name": "lab.ipynb",
   "provenance": []
  },
  "kernelspec": {
   "display_name": "Python 3.10.2 64-bit",
   "language": "python",
   "name": "python3"
  },
  "language_info": {
   "codemirror_mode": {
    "name": "ipython",
    "version": 3
   },
   "file_extension": ".py",
   "mimetype": "text/x-python",
   "name": "python",
   "nbconvert_exporter": "python",
   "pygments_lexer": "ipython3",
   "version": "3.10.2"
  },
  "vscode": {
   "interpreter": {
    "hash": "8a9cc3d5033db7a69cc0cff3732b1a7e010a67b5ff3241f0937560160e7695f0"
   }
  }
 },
 "nbformat": 4,
 "nbformat_minor": 0
}
