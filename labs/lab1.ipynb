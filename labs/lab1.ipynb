{
 "cells": [
  {
   "cell_type": "markdown",
   "id": "c43c1a77-b308-4747-9dd3-8161415d0542",
   "metadata": {
    "pycharm": {
     "name": "#%% md\n"
    },
    "tags": []
   },
   "source": [
    "# Monte Carlo Tree Search Lab\n",
    "\n",
    "In this lab, we'll be using the game connect four, as a vehicle for learning MinMax and Monte Carlo Tree Search.\n",
    "We'll also introduce concepts, such as state, that'll stay relevant throughout the course.\n",
    "Expect to lose in connect four to the algorithm at the end of the lab."
   ]
  },
  {
   "cell_type": "markdown",
   "id": "3df728ba-bb09-419c-80c6-3e42863c9322",
   "metadata": {
    "pycharm": {
     "name": "#%% md\n"
    }
   },
   "source": [
    "## Setup\n",
    "This section you won't need to edit, but it is worth skimming through—this is where we declare the objects you'll be interacting with througout the lab."
   ]
  },
  {
   "cell_type": "code",
   "execution_count": 2,
   "id": "c6afed3e-4274-42f2-baf7-fd808e967e27",
   "metadata": {
    "pycharm": {
     "name": "#%%\n"
    }
   },
   "outputs": [],
   "source": [
    "# imports\n",
    "import random\n",
    "from typing import List, Tuple\n",
    "import time\n",
    "from copy import deepcopy # world -> thought"
   ]
  },
  {
   "cell_type": "code",
   "execution_count": 3,
   "id": "32942bc4-a6cf-4485-8b47-4e3618bc8660",
   "metadata": {
    "pycharm": {
     "name": "#%%\n"
    }
   },
   "outputs": [],
   "source": [
    "# world and world model\n",
    "class State:\n",
    "    def __init__(self, cols=7, rows=6, win_req=4):\n",
    "        self.board = [['.'] * cols for _ in range(rows)]\n",
    "        self.heights = [1] * cols\n",
    "        self.num_moves = 0\n",
    "        self.win_req = win_req\n",
    "\n",
    "    def get_avail_actions(self) -> List[int]:\n",
    "        return [i for i in range(len(self.board[0])) if self.heights[i] <= len(self.board)]\n",
    "  \n",
    "    def put_action(self, action, agent):\n",
    "        self.board[len(self.board) - self.heights[action]][action] = agent.name\n",
    "        self.heights[action] += 1\n",
    "        self.num_moves += 1\n",
    "\n",
    "    def is_over(self):\n",
    "        return self.num_moves >= len(self.board) * len(self.board[0])\n",
    "\n",
    "    def __repr__(self):\n",
    "        return self.__str__()\n",
    "    \n",
    "    def __str__(self):\n",
    "        header  = \" \".join([str(i) for i in range(len(self.board[0]))])\n",
    "        line    = \"\".join([\"-\" for _ in range(len(header))])\n",
    "        board   = [[e for e in row] for row in self.board]\n",
    "        board   = '\\n'.join([' '.join(row) for row in board])\n",
    "        return  '\\n' + header + '\\n' + line + '\\n' + board + '\\n'\n"
   ]
  },
  {
   "cell_type": "code",
   "execution_count": 4,
   "id": "b327ed99",
   "metadata": {
    "collapsed": false,
    "pycharm": {
     "name": "#%%\n"
    }
   },
   "outputs": [],
   "source": [
    "# evaluate the utility of a state\n",
    "def utility(state: 'State'):\n",
    "    board = state.board\n",
    "    n_cols = len(board[0]) - 1\n",
    "    n_rows = len(board) - 1\n",
    "\n",
    "    def diags_pos():\n",
    "        \"\"\"Get positive diagonals, going from bottom-left to top-right.\"\"\"\n",
    "        for di in ([(j, i - j) for j in range(n_cols)] for i in range(n_cols + n_rows - 1)):\n",
    "            yield [board[i][j] for i, j in di if i >= 0 and j >= 0 and i < n_cols and j < n_rows]\n",
    "\n",
    "    def diags_neg():\n",
    "        \"\"\"Get negative diagonals, going from top-left to bottom-right.\"\"\"\n",
    "        for di in ([(j, i - n_cols + j + 1) for j in range(n_cols)] for i in range(n_cols + n_rows - 1)):\n",
    "            yield [board[i][j] for i, j in di if i >= 0 and j >= 0 and i < n_cols and j < n_rows]\n",
    "\n",
    "    cols = list(map(list, list(zip(*board))))\n",
    "    rows = board\n",
    "    diags = list(diags_neg()) + list(diags_pos())\n",
    "    lines = rows + cols + diags\n",
    "    strings = [\"\".join(s) for s in lines]\n",
    "    for string in strings:\n",
    "        if 'OOOO' in string:\n",
    "            return -1\n",
    "        if 'XXXX' in string:\n",
    "            return 1\n",
    "    return 0\n"
   ]
  },
  {
   "cell_type": "code",
   "execution_count": 5,
   "id": "a96ba502",
   "metadata": {
    "collapsed": false,
    "pycharm": {
     "name": "#%%\n"
    }
   },
   "outputs": [],
   "source": [
    "# parrent class for mcts, minmax, human, and any other idea for an agent you have\n",
    "class Agent:\n",
    "    def __init__(self, name: str):\n",
    "        self.name: str = name\n",
    "\n",
    "    def get_action(self, state: State):\n",
    "        return random.choice(state.get_avail_actions())"
   ]
  },
  {
   "cell_type": "code",
   "execution_count": 8,
   "id": "eb42b607-098c-41f5-a3dd-c5d44311c9c1",
   "metadata": {
    "pycharm": {
     "name": "#%%\n"
    }
   },
   "outputs": [],
   "source": [
    "# connecting states and agents\n",
    "class Game:\n",
    "    def __init__(self, agents: Tuple[Agent]):\n",
    "        self.agents = agents\n",
    "        self.state = State()\n",
    "\n",
    "    def play(self):\n",
    "        while utility(self.state) == 0 and not self.state.is_over():\n",
    "            for agent in agents:\n",
    "                if utility(self.state) == 0 and not self.state.is_over():\n",
    "                    action = agent.get_action(self.state)\n",
    "                    self.state.put_action(action, agent)\n",
    "                    print(self.state)"
   ]
  },
  {
   "cell_type": "markdown",
   "id": "ae4a8a5f-ca01-4c07-bf57-22d94ab91bef",
   "metadata": {
    "pycharm": {
     "name": "#%% md\n"
    }
   },
   "source": [
    "## Exercise 0: Discuss and Run game\n",
    "Let's discuss if the `utility` function best belongs to the state or the agent.\n",
    "Put the state, agent and game class together so that a game is run."
   ]
  },
  {
   "cell_type": "code",
   "execution_count": 172,
   "id": "795cdddb-c33f-4310-ac20-0f5abd3409d7",
   "metadata": {
    "pycharm": {
     "name": "#%%\n"
    }
   },
   "outputs": [
    {
     "name": "stdout",
     "output_type": "stream",
     "text": [
      "\n",
      "0 1 2 3 4 5 6\n",
      "-------------\n",
      ". . . . . . .\n",
      ". . . . . . .\n",
      ". . . . . . .\n",
      ". . . . . . .\n",
      ". . . . . . .\n",
      ". O . . . . .\n",
      "\n",
      "\n",
      "0 1 2 3 4 5 6\n",
      "-------------\n",
      ". . . . . . .\n",
      ". . . . . . .\n",
      ". . . . . . .\n",
      ". . . . . . .\n",
      ". . . . . . .\n",
      "X O . . . . .\n",
      "\n",
      "\n",
      "0 1 2 3 4 5 6\n",
      "-------------\n",
      ". . . . . . .\n",
      ". . . . . . .\n",
      ". . . . . . .\n",
      ". . . . . . .\n",
      ". . . . . . .\n",
      "X O . . O . .\n",
      "\n",
      "\n",
      "0 1 2 3 4 5 6\n",
      "-------------\n",
      ". . . . . . .\n",
      ". . . . . . .\n",
      ". . . . . . .\n",
      ". . . . . . .\n",
      ". X . . . . .\n",
      "X O . . O . .\n",
      "\n",
      "\n",
      "0 1 2 3 4 5 6\n",
      "-------------\n",
      ". . . . . . .\n",
      ". . . . . . .\n",
      ". . . . . . .\n",
      ". . . . . . .\n",
      ". X . . . . .\n",
      "X O . . O O .\n",
      "\n",
      "\n",
      "0 1 2 3 4 5 6\n",
      "-------------\n",
      ". . . . . . .\n",
      ". . . . . . .\n",
      ". . . . . . .\n",
      ". X . . . . .\n",
      ". X . . . . .\n",
      "X O . . O O .\n",
      "\n",
      "\n",
      "0 1 2 3 4 5 6\n",
      "-------------\n",
      ". . . . . . .\n",
      ". . . . . . .\n",
      ". O . . . . .\n",
      ". X . . . . .\n",
      ". X . . . . .\n",
      "X O . . O O .\n",
      "\n",
      "\n",
      "0 1 2 3 4 5 6\n",
      "-------------\n",
      ". . . . . . .\n",
      ". . . . . . .\n",
      ". O . . . . .\n",
      ". X . . . . .\n",
      ". X . . . . .\n",
      "X O . . O O X\n",
      "\n",
      "\n",
      "0 1 2 3 4 5 6\n",
      "-------------\n",
      ". . . . . . .\n",
      ". . . . . . .\n",
      ". O . . . . .\n",
      ". X . . . . .\n",
      "O X . . . . .\n",
      "X O . . O O X\n",
      "\n",
      "\n",
      "0 1 2 3 4 5 6\n",
      "-------------\n",
      ". . . . . . .\n",
      ". . . . . . .\n",
      ". O . . . . .\n",
      ". X . . . . .\n",
      "O X . . . . .\n",
      "X O X . O O X\n",
      "\n",
      "\n",
      "0 1 2 3 4 5 6\n",
      "-------------\n",
      ". . . . . . .\n",
      ". . . . . . .\n",
      ". O . . . . .\n",
      "O X . . . . .\n",
      "O X . . . . .\n",
      "X O X . O O X\n",
      "\n",
      "\n",
      "0 1 2 3 4 5 6\n",
      "-------------\n",
      ". . . . . . .\n",
      ". . . . . . .\n",
      ". O . . . . .\n",
      "O X . . . . .\n",
      "O X X . . . .\n",
      "X O X . O O X\n",
      "\n",
      "\n",
      "0 1 2 3 4 5 6\n",
      "-------------\n",
      ". . . . . . .\n",
      ". . . . . . .\n",
      ". O . . . . .\n",
      "O X . . . . .\n",
      "O X X . . . O\n",
      "X O X . O O X\n",
      "\n",
      "\n",
      "0 1 2 3 4 5 6\n",
      "-------------\n",
      ". . . . . . .\n",
      ". . . . . . .\n",
      "X O . . . . .\n",
      "O X . . . . .\n",
      "O X X . . . O\n",
      "X O X . O O X\n",
      "\n",
      "\n",
      "0 1 2 3 4 5 6\n",
      "-------------\n",
      ". . . . . . .\n",
      ". . . . . . .\n",
      "X O . . . . .\n",
      "O X O . . . .\n",
      "O X X . . . O\n",
      "X O X . O O X\n",
      "\n",
      "\n",
      "0 1 2 3 4 5 6\n",
      "-------------\n",
      ". . . . . . .\n",
      ". . . . . . .\n",
      "X O . . . . .\n",
      "O X O . . . .\n",
      "O X X . . X O\n",
      "X O X . O O X\n",
      "\n",
      "\n",
      "0 1 2 3 4 5 6\n",
      "-------------\n",
      ". . . . . . .\n",
      ". . . . . . .\n",
      "X O . . . . .\n",
      "O X O . . . O\n",
      "O X X . . X O\n",
      "X O X . O O X\n",
      "\n",
      "\n",
      "0 1 2 3 4 5 6\n",
      "-------------\n",
      ". . . . . . .\n",
      ". . . . . . .\n",
      "X O . . . . X\n",
      "O X O . . . O\n",
      "O X X . . X O\n",
      "X O X . O O X\n",
      "\n",
      "\n",
      "0 1 2 3 4 5 6\n",
      "-------------\n",
      ". . . . . . .\n",
      ". O . . . . .\n",
      "X O . . . . X\n",
      "O X O . . . O\n",
      "O X X . . X O\n",
      "X O X . O O X\n",
      "\n",
      "\n",
      "0 1 2 3 4 5 6\n",
      "-------------\n",
      ". . . . . . .\n",
      ". O . . . . .\n",
      "X O . . . . X\n",
      "O X O . . X O\n",
      "O X X . . X O\n",
      "X O X . O O X\n",
      "\n",
      "\n",
      "0 1 2 3 4 5 6\n",
      "-------------\n",
      ". . . . . . .\n",
      ". O . . . . .\n",
      "X O O . . . X\n",
      "O X O . . X O\n",
      "O X X . . X O\n",
      "X O X . O O X\n",
      "\n",
      "\n",
      "0 1 2 3 4 5 6\n",
      "-------------\n",
      ". . . . . . .\n",
      "X O . . . . .\n",
      "X O O . . . X\n",
      "O X O . . X O\n",
      "O X X . . X O\n",
      "X O X . O O X\n",
      "\n",
      "\n",
      "0 1 2 3 4 5 6\n",
      "-------------\n",
      ". . . . . . .\n",
      "X O . . . . .\n",
      "X O O . . . X\n",
      "O X O . . X O\n",
      "O X X . O X O\n",
      "X O X . O O X\n",
      "\n",
      "\n",
      "0 1 2 3 4 5 6\n",
      "-------------\n",
      "X . . . . . .\n",
      "X O . . . . .\n",
      "X O O . . . X\n",
      "O X O . . X O\n",
      "O X X . O X O\n",
      "X O X . O O X\n",
      "\n",
      "\n",
      "0 1 2 3 4 5 6\n",
      "-------------\n",
      "X . . . . . .\n",
      "X O . . . . .\n",
      "X O O . . . X\n",
      "O X O . O X O\n",
      "O X X . O X O\n",
      "X O X . O O X\n",
      "\n",
      "\n",
      "0 1 2 3 4 5 6\n",
      "-------------\n",
      "X . . . . . .\n",
      "X O . . . . .\n",
      "X O O . X . X\n",
      "O X O . O X O\n",
      "O X X . O X O\n",
      "X O X . O O X\n",
      "\n",
      "\n",
      "0 1 2 3 4 5 6\n",
      "-------------\n",
      "X . . . . . .\n",
      "X O . . . . .\n",
      "X O O . X . X\n",
      "O X O . O X O\n",
      "O X X . O X O\n",
      "X O X O O O X\n",
      "\n",
      "\n",
      "0 1 2 3 4 5 6\n",
      "-------------\n",
      "X . . . . . .\n",
      "X O . . . . .\n",
      "X O O . X . X\n",
      "O X O . O X O\n",
      "O X X X O X O\n",
      "X O X O O O X\n",
      "\n",
      "\n",
      "0 1 2 3 4 5 6\n",
      "-------------\n",
      "X . . . . . .\n",
      "X O . . . . O\n",
      "X O O . X . X\n",
      "O X O . O X O\n",
      "O X X X O X O\n",
      "X O X O O O X\n",
      "\n",
      "\n",
      "0 1 2 3 4 5 6\n",
      "-------------\n",
      "X . . . . . X\n",
      "X O . . . . O\n",
      "X O O . X . X\n",
      "O X O . O X O\n",
      "O X X X O X O\n",
      "X O X O O O X\n",
      "\n",
      "\n",
      "0 1 2 3 4 5 6\n",
      "-------------\n",
      "X . . . . . X\n",
      "X O . . . . O\n",
      "X O O . X . X\n",
      "O X O O O X O\n",
      "O X X X O X O\n",
      "X O X O O O X\n",
      "\n"
     ]
    }
   ],
   "source": [
    "agents = (Agent('O'), Agent('X'))\n",
    "game = Game(agents)\n",
    "game.play()"
   ]
  },
  {
   "cell_type": "markdown",
   "id": "6377f998-91ca-4641-8307-e64c8be93491",
   "metadata": {
    "pycharm": {
     "name": "#%% md\n"
    }
   },
   "source": [
    "## Exercise 1: Human Agent\n",
    "Make a child class of `Agent` called `Human`, with the `give_action` method overwritten to take input from you. *hint*: use `int(input())`"
   ]
  },
  {
   "cell_type": "code",
   "execution_count": 9,
   "id": "d2649620-9f2f-4f6a-8e57-9f216a3c3b62",
   "metadata": {
    "pycharm": {
     "name": "#%%\n"
    }
   },
   "outputs": [],
   "source": [
    "class Human:\n",
    "    def __init__(self, name):\n",
    "        self.name = name\n",
    "\n",
    "    def get_action(self, state: State):\n",
    "        actiontoTake = -1\n",
    "\n",
    "        human = int(input())\n",
    "        actions = state.get_avail_actions()\n",
    "        if human in actions:\n",
    "            return human\n",
    "        else:\n",
    "            actiontoTake = random.choice(state.get_avail_actions())\n"
   ]
  },
  {
   "cell_type": "code",
   "execution_count": 10,
   "id": "7b38fdfd",
   "metadata": {},
   "outputs": [
    {
     "name": "stdout",
     "output_type": "stream",
     "text": [
      "\n",
      "0 1 2 3 4 5 6\n",
      "-------------\n",
      ". . . . . . .\n",
      ". . . . . . .\n",
      ". . . . . . .\n",
      ". . . . . . .\n",
      ". . . . . . .\n",
      ". O . . . . .\n",
      "\n",
      "\n",
      "0 1 2 3 4 5 6\n",
      "-------------\n",
      ". . . . . . .\n",
      ". . . . . . .\n",
      ". . . . . . .\n",
      ". . . . . . .\n",
      ". . . . . . .\n",
      "X O . . . . .\n",
      "\n",
      "\n",
      "0 1 2 3 4 5 6\n",
      "-------------\n",
      ". . . . . . .\n",
      ". . . . . . .\n",
      ". . . . . . .\n",
      ". . . . . . .\n",
      "O . . . . . .\n",
      "X O . . . . .\n",
      "\n",
      "\n",
      "0 1 2 3 4 5 6\n",
      "-------------\n",
      ". . . . . . .\n",
      ". . . . . . .\n",
      ". . . . . . .\n",
      "X . . . . . .\n",
      "O . . . . . .\n",
      "X O . . . . .\n",
      "\n",
      "\n",
      "0 1 2 3 4 5 6\n",
      "-------------\n",
      ". . . . . . .\n",
      ". . . . . . .\n",
      ". . . . . . .\n",
      "X . . . . . .\n",
      "O . . . . . .\n",
      "X O . . . . O\n",
      "\n",
      "\n",
      "0 1 2 3 4 5 6\n",
      "-------------\n",
      ". . . . . . .\n",
      ". . . . . . .\n",
      "X . . . . . .\n",
      "X . . . . . .\n",
      "O . . . . . .\n",
      "X O . . . . O\n",
      "\n",
      "\n",
      "0 1 2 3 4 5 6\n",
      "-------------\n",
      ". . . . . . .\n",
      ". . . . . . .\n",
      "X . . . . . .\n",
      "X . . . . . .\n",
      "O O . . . . .\n",
      "X O . . . . O\n",
      "\n",
      "\n",
      "0 1 2 3 4 5 6\n",
      "-------------\n",
      ". . . . . . .\n",
      "X . . . . . .\n",
      "X . . . . . .\n",
      "X . . . . . .\n",
      "O O . . . . .\n",
      "X O . . . . O\n",
      "\n",
      "\n",
      "0 1 2 3 4 5 6\n",
      "-------------\n",
      ". . . . . . .\n",
      "X . . . . . .\n",
      "X . . . . . .\n",
      "X . . . . . .\n",
      "O O . . . . O\n",
      "X O . . . . O\n",
      "\n",
      "\n",
      "0 1 2 3 4 5 6\n",
      "-------------\n",
      "X . . . . . .\n",
      "X . . . . . .\n",
      "X . . . . . .\n",
      "X . . . . . .\n",
      "O O . . . . O\n",
      "X O . . . . O\n",
      "\n"
     ]
    }
   ],
   "source": [
    "agents = (Agent('O'), Human('X'))\n",
    "game = Game(agents)\n",
    "game.play()\n"
   ]
  },
  {
   "cell_type": "markdown",
   "id": "b89fa6b2-e265-4cf0-8017-8369d4a15fef",
   "metadata": {
    "pycharm": {
     "name": "#%% md\n"
    }
   },
   "source": [
    "## Exercise 2: Gekko\n",
    "Make a child class of `Agent` called `Gekko`, with the `give_action` that is as short sighted as you can possibly make it. Here you'll need to edit both `give_action`, `utility`, and perhaps some helper functions."
   ]
  },
  {
   "cell_type": "code",
   "execution_count": 11,
   "id": "8b999e09-dde6-41db-8222-a7d63803d632",
   "metadata": {
    "pycharm": {
     "name": "#%%\n"
    }
   },
   "outputs": [],
   "source": [
    "class Gekko(Agent):\n",
    "    def __init__(self, name):\n",
    "        self.name = name\n",
    "\n",
    "    def get_action(self, state: State):\n",
    "        actions = state.get_avail_actions()\n",
    "\n",
    "        for x in state.get_avail_actions():\n",
    "\n",
    "            if state.heights[x] <= 4:\n",
    "                return actions[x]\n",
    "            else:\n",
    "                return actions[0]\n",
    "# I have choosen to make an AI that just pusts its tokens in the same place, \n",
    "# if there is space. If not goes to the next column "
   ]
  },
  {
   "cell_type": "code",
   "execution_count": 12,
   "id": "79073069",
   "metadata": {},
   "outputs": [
    {
     "name": "stdout",
     "output_type": "stream",
     "text": [
      "\n",
      "0 1 2 3 4 5 6\n",
      "-------------\n",
      ". . . . . . .\n",
      ". . . . . . .\n",
      ". . . . . . .\n",
      ". . . . . . .\n",
      ". . . . . . .\n",
      ". . . . O . .\n",
      "\n",
      "\n",
      "0 1 2 3 4 5 6\n",
      "-------------\n",
      ". . . . . . .\n",
      ". . . . . . .\n",
      ". . . . . . .\n",
      ". . . . . . .\n",
      ". . . . . . .\n",
      "X . . . O . .\n",
      "\n",
      "\n",
      "0 1 2 3 4 5 6\n",
      "-------------\n",
      ". . . . . . .\n",
      ". . . . . . .\n",
      ". . . . . . .\n",
      ". . . . . . .\n",
      ". . . . O . .\n",
      "X . . . O . .\n",
      "\n",
      "\n",
      "0 1 2 3 4 5 6\n",
      "-------------\n",
      ". . . . . . .\n",
      ". . . . . . .\n",
      ". . . . . . .\n",
      ". . . . . . .\n",
      "X . . . O . .\n",
      "X . . . O . .\n",
      "\n",
      "\n",
      "0 1 2 3 4 5 6\n",
      "-------------\n",
      ". . . . . . .\n",
      ". . . . . . .\n",
      ". . . . . . .\n",
      ". . . . . . .\n",
      "X . . . O . .\n",
      "X . . . O . O\n",
      "\n",
      "\n",
      "0 1 2 3 4 5 6\n",
      "-------------\n",
      ". . . . . . .\n",
      ". . . . . . .\n",
      ". . . . . . .\n",
      "X . . . . . .\n",
      "X . . . O . .\n",
      "X . . . O . O\n",
      "\n",
      "\n",
      "0 1 2 3 4 5 6\n",
      "-------------\n",
      ". . . . . . .\n",
      ". . . . . . .\n",
      ". . . . . . .\n",
      "X . . . . . .\n",
      "X . . . O . O\n",
      "X . . . O . O\n",
      "\n",
      "\n",
      "0 1 2 3 4 5 6\n",
      "-------------\n",
      ". . . . . . .\n",
      ". . . . . . .\n",
      "X . . . . . .\n",
      "X . . . . . .\n",
      "X . . . O . O\n",
      "X . . . O . O\n",
      "\n"
     ]
    }
   ],
   "source": [
    "\n",
    "\n",
    "agents = (Agent('O'), Gekko('X'))\n",
    "game = Game(agents)\n",
    "game.play()\n"
   ]
  },
  {
   "cell_type": "markdown",
   "id": "294cde26",
   "metadata": {
    "collapsed": false,
    "pycharm": {
     "name": "#%% md\n"
    }
   },
   "source": [
    "## *Optional exercise: MinMax*\n",
    "Make a MinMax class:"
   ]
  },
  {
   "cell_type": "code",
   "execution_count": 14,
   "id": "ed3b767a",
   "metadata": {
    "collapsed": false,
    "pycharm": {
     "name": "#%%\n"
    }
   },
   "outputs": [],
   "source": [
    "class MinMax(Agent):\n",
    "   def __init__(self, name):\n",
    "       self.name = name\n",
    "\n",
    "   def minValue(self, state: State):\n",
    "      if(state.is_over):\n",
    "         return utility(state)\n",
    "      \n",
    "      v = float('inf')\n",
    "\n",
    "      for a in state.get_avail_actions:\n",
    "         v = max(maxValue(v, state.put_action(a, MinMax('O'))))\n",
    "         return v\n",
    "      \n",
    "   def maxValue(self, state: State):\n",
    "      if(state.is_over):\n",
    "         return utility(state)\n",
    "\n",
    "      v = float('-inf')\n",
    "\n",
    "      for a in state.get_avail_actions:\n",
    "         v = min(maxValue(v, state.put_action(a, MinMax('X'))))\n",
    "         return v\n",
    "\n",
    "   def minmaxValue(self, state:State):\n",
    "         return minValue(self, state)\n",
    "\n",
    "   def get_action(self, state: State):\n",
    "      return minmaxValue(self,state)"
   ]
  },
  {
   "cell_type": "code",
   "execution_count": 15,
   "id": "d6a25ef2",
   "metadata": {},
   "outputs": [
    {
     "name": "stdout",
     "output_type": "stream",
     "text": [
      "\n",
      "0 1 2 3 4 5 6\n",
      "-------------\n",
      ". . . . . . .\n",
      ". . . . . . .\n",
      ". . . . . . .\n",
      ". . . . . . .\n",
      ". . . . . . .\n",
      "O . . . . . .\n",
      "\n"
     ]
    },
    {
     "ename": "NameError",
     "evalue": "name 'minmaxValue' is not defined",
     "output_type": "error",
     "traceback": [
      "\u001b[1;31m---------------------------------------------------------------------------\u001b[0m",
      "\u001b[1;31mNameError\u001b[0m                                 Traceback (most recent call last)",
      "\u001b[1;32mc:\\Users\\mari9\\Desktop\\dlgs\\labs\\lab1.ipynb Cell 18\u001b[0m in \u001b[0;36m<cell line: 3>\u001b[1;34m()\u001b[0m\n\u001b[0;32m      <a href='vscode-notebook-cell:/c%3A/Users/mari9/Desktop/dlgs/labs/lab1.ipynb#X32sZmlsZQ%3D%3D?line=0'>1</a>\u001b[0m agents \u001b[39m=\u001b[39m (Agent(\u001b[39m'\u001b[39m\u001b[39mO\u001b[39m\u001b[39m'\u001b[39m), MinMax(\u001b[39m'\u001b[39m\u001b[39mX\u001b[39m\u001b[39m'\u001b[39m))\n\u001b[0;32m      <a href='vscode-notebook-cell:/c%3A/Users/mari9/Desktop/dlgs/labs/lab1.ipynb#X32sZmlsZQ%3D%3D?line=1'>2</a>\u001b[0m game \u001b[39m=\u001b[39m Game(agents)\n\u001b[1;32m----> <a href='vscode-notebook-cell:/c%3A/Users/mari9/Desktop/dlgs/labs/lab1.ipynb#X32sZmlsZQ%3D%3D?line=2'>3</a>\u001b[0m game\u001b[39m.\u001b[39;49mplay()\n",
      "\u001b[1;32mc:\\Users\\mari9\\Desktop\\dlgs\\labs\\lab1.ipynb Cell 18\u001b[0m in \u001b[0;36mGame.play\u001b[1;34m(self)\u001b[0m\n\u001b[0;32m      <a href='vscode-notebook-cell:/c%3A/Users/mari9/Desktop/dlgs/labs/lab1.ipynb#X32sZmlsZQ%3D%3D?line=8'>9</a>\u001b[0m \u001b[39mfor\u001b[39;00m agent \u001b[39min\u001b[39;00m agents:\n\u001b[0;32m     <a href='vscode-notebook-cell:/c%3A/Users/mari9/Desktop/dlgs/labs/lab1.ipynb#X32sZmlsZQ%3D%3D?line=9'>10</a>\u001b[0m     \u001b[39mif\u001b[39;00m utility(\u001b[39mself\u001b[39m\u001b[39m.\u001b[39mstate) \u001b[39m==\u001b[39m \u001b[39m0\u001b[39m \u001b[39mand\u001b[39;00m \u001b[39mnot\u001b[39;00m \u001b[39mself\u001b[39m\u001b[39m.\u001b[39mstate\u001b[39m.\u001b[39mis_over():\n\u001b[1;32m---> <a href='vscode-notebook-cell:/c%3A/Users/mari9/Desktop/dlgs/labs/lab1.ipynb#X32sZmlsZQ%3D%3D?line=10'>11</a>\u001b[0m         action \u001b[39m=\u001b[39m agent\u001b[39m.\u001b[39;49mget_action(\u001b[39mself\u001b[39;49m\u001b[39m.\u001b[39;49mstate)\n\u001b[0;32m     <a href='vscode-notebook-cell:/c%3A/Users/mari9/Desktop/dlgs/labs/lab1.ipynb#X32sZmlsZQ%3D%3D?line=11'>12</a>\u001b[0m         \u001b[39mself\u001b[39m\u001b[39m.\u001b[39mstate\u001b[39m.\u001b[39mput_action(action, agent)\n\u001b[0;32m     <a href='vscode-notebook-cell:/c%3A/Users/mari9/Desktop/dlgs/labs/lab1.ipynb#X32sZmlsZQ%3D%3D?line=12'>13</a>\u001b[0m         \u001b[39mprint\u001b[39m(\u001b[39mself\u001b[39m\u001b[39m.\u001b[39mstate)\n",
      "\u001b[1;32mc:\\Users\\mari9\\Desktop\\dlgs\\labs\\lab1.ipynb Cell 18\u001b[0m in \u001b[0;36mMinMax.get_action\u001b[1;34m(self, state)\u001b[0m\n\u001b[0;32m     <a href='vscode-notebook-cell:/c%3A/Users/mari9/Desktop/dlgs/labs/lab1.ipynb#X32sZmlsZQ%3D%3D?line=27'>28</a>\u001b[0m \u001b[39mdef\u001b[39;00m \u001b[39mget_action\u001b[39m(\u001b[39mself\u001b[39m, state: State):\n\u001b[1;32m---> <a href='vscode-notebook-cell:/c%3A/Users/mari9/Desktop/dlgs/labs/lab1.ipynb#X32sZmlsZQ%3D%3D?line=28'>29</a>\u001b[0m    \u001b[39mreturn\u001b[39;00m minmaxValue(\u001b[39mself\u001b[39m,state)\n",
      "\u001b[1;31mNameError\u001b[0m: name 'minmaxValue' is not defined"
     ]
    }
   ],
   "source": [
    "\n",
    "\n",
    "agents = (Agent('O'), MinMax('X'))\n",
    "game = Game(agents)\n",
    "game.play()\n"
   ]
  },
  {
   "cell_type": "markdown",
   "id": "f5bb1506-bff6-46b6-a05b-3c26a7e3ad26",
   "metadata": {
    "pycharm": {
     "name": "#%% md\n"
    }
   },
   "source": [
    "## Exercise 4: MCTS\n",
    "Same but for Monte Carlo Tree Search. See if you can beat it."
   ]
  },
  {
   "cell_type": "code",
   "execution_count": 160,
   "id": "8cd8ada2",
   "metadata": {
    "collapsed": false,
    "pycharm": {
     "name": "#%%\n"
    }
   },
   "outputs": [],
   "source": [
    "class Node:\n",
    "    def __init__(self, state: State, parent: 'Node' = None):\n",
    "        self.children: List['Nodes'] = []\n",
    "        self.parent: 'Node' = parent\n",
    "        self.state: State = state\n",
    "\n",
    "    def nonTerminal(self):\n",
    "        if (len(self.state.get_avail_actions) > 0):\n",
    "            return False\n",
    "        return True\n"
   ]
  },
  {
   "cell_type": "code",
   "execution_count": 161,
   "id": "49ace487-bcc3-43df-ae5b-424f17cb4874",
   "metadata": {
    "pycharm": {
     "name": "#%%\n"
    }
   },
   "outputs": [],
   "source": [
    "class MCTS(Agent):\n",
    "    def __init__(self):\n",
    "       super(MCTS, self).__init__()\n",
    "\n",
    "    def search(self):\n",
    "        v_0 = Node\n",
    "        while (not self.state.is_over):\n",
    "            v_1 = treePolicy(v_0)\n",
    "            delta = defaultpolicy(self.state.put_action(v_1, Agent('X')))\n",
    "            backup(v, delta)\n",
    "            return bestchild(v_0)\n",
    "\n",
    "    def treePolicy(self, node: Node):\n",
    "        while node.nonTerminal():\n"
   ]
  },
  {
   "cell_type": "code",
   "execution_count": 16,
   "id": "935d1e9a",
   "metadata": {},
   "outputs": [
    {
     "ename": "NameError",
     "evalue": "name 'MCTS' is not defined",
     "output_type": "error",
     "traceback": [
      "\u001b[1;31m---------------------------------------------------------------------------\u001b[0m",
      "\u001b[1;31mNameError\u001b[0m                                 Traceback (most recent call last)",
      "\u001b[1;32mc:\\Users\\mari9\\Desktop\\dlgs\\labs\\lab1.ipynb Cell 22\u001b[0m in \u001b[0;36m<cell line: 1>\u001b[1;34m()\u001b[0m\n\u001b[1;32m----> <a href='vscode-notebook-cell:/c%3A/Users/mari9/Desktop/dlgs/labs/lab1.ipynb#X33sZmlsZQ%3D%3D?line=0'>1</a>\u001b[0m agents \u001b[39m=\u001b[39m (MCTS(\u001b[39m'\u001b[39m\u001b[39mO\u001b[39m\u001b[39m'\u001b[39m), Human(\u001b[39m'\u001b[39m\u001b[39mX\u001b[39m\u001b[39m'\u001b[39m))\n\u001b[0;32m      <a href='vscode-notebook-cell:/c%3A/Users/mari9/Desktop/dlgs/labs/lab1.ipynb#X33sZmlsZQ%3D%3D?line=1'>2</a>\u001b[0m game \u001b[39m=\u001b[39m Game(agents)\n\u001b[0;32m      <a href='vscode-notebook-cell:/c%3A/Users/mari9/Desktop/dlgs/labs/lab1.ipynb#X33sZmlsZQ%3D%3D?line=2'>3</a>\u001b[0m game\u001b[39m.\u001b[39mplay()\n",
      "\u001b[1;31mNameError\u001b[0m: name 'MCTS' is not defined"
     ]
    }
   ],
   "source": [
    "agents = (MCTS('O'), Human('X'))\n",
    "game = Game(agents)\n",
    "game.play()\n"
   ]
  },
  {
   "cell_type": "markdown",
   "id": "e0037a71-a406-4c89-bf88-4b22eb53a135",
   "metadata": {
    "pycharm": {
     "name": "#%% md\n"
    }
   },
   "source": [
    "## *Optional exercise: Dynamic Programming*\n",
    "Then use dynamic programming to make your AI more efficient. You can use the class below (or not)"
   ]
  },
  {
   "cell_type": "code",
   "execution_count": 162,
   "id": "37aa3c60",
   "metadata": {
    "collapsed": false,
    "pycharm": {
     "name": "#%%\n"
    }
   },
   "outputs": [],
   "source": [
    "class TranspositionTable:\n",
    "    def __init__(self, size=1_000_000):\n",
    "        self.size = size\n",
    "        self.vals = [None] * size\n",
    "\n",
    "    def board_str(self, state: State):\n",
    "        return ''.join([''.join(c) for c in state.board])\n",
    "\n",
    "    def put(self, state: State, utility: float):\n",
    "        bstr = self.board_str(state)\n",
    "        idx = hash(bstr) % self.size\n",
    "        self.vals[idx] = (bstr, utility)\n",
    "\n",
    "    def get(self, state: State):\n",
    "        bstr = self.board_str(state)\n",
    "        idx = hash(bstr) % self.size\n",
    "        stored = self.vals[idx]\n",
    "        if stored is None:\n",
    "            return None\n",
    "        if stored[0] == bstr:\n",
    "            return stored[1]\n",
    "        else:\n",
    "            return None"
   ]
  },
  {
   "cell_type": "code",
   "execution_count": null,
   "id": "1fee8b2b",
   "metadata": {
    "collapsed": false,
    "pycharm": {
     "name": "#%%\n"
    }
   },
   "outputs": [],
   "source": []
  }
 ],
 "metadata": {
  "kernelspec": {
   "display_name": "Python 3.10.2 64-bit",
   "language": "python",
   "name": "python3"
  },
  "language_info": {
   "codemirror_mode": {
    "name": "ipython",
    "version": 3
   },
   "file_extension": ".py",
   "mimetype": "text/x-python",
   "name": "python",
   "nbconvert_exporter": "python",
   "pygments_lexer": "ipython3",
   "version": "3.10.2"
  },
  "vscode": {
   "interpreter": {
    "hash": "8a9cc3d5033db7a69cc0cff3732b1a7e010a67b5ff3241f0937560160e7695f0"
   }
  }
 },
 "nbformat": 4,
 "nbformat_minor": 5
}
